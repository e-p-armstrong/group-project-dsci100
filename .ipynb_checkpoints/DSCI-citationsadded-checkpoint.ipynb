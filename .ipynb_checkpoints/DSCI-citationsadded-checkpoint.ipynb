{
 "cells": [
  {
   "cell_type": "markdown",
   "id": "bdf633a9-30fc-402f-bfed-4546ed31c49f",
   "metadata": {
    "tags": []
   },
   "source": [
    "# Predicting Heart Disease Based On Medical Characteristics"
   ]
  },
  {
   "cell_type": "markdown",
   "id": "6beb67ba-15f8-4fda-90f4-6e99fa0e5428",
   "metadata": {},
   "source": [
    "Group 157: Evan Armstrong, Seyed Mehrbod Naseri, Ram Jayakumar, Zimo Zhang"
   ]
  },
  {
   "cell_type": "markdown",
   "id": "4011bf46-9235-485e-a640-6e862d490996",
   "metadata": {},
   "source": [
    "# Introduction\n",
    "\n",
    "As the leading cause of death globally, heart disease is a common and often-lethal condition that affects nearly all humans (Ritchie et al., 2018). Any methods that can accurately predict heart disease, such as one based on relatively easy-to-observe qualities, would allow for quicker action from doctors and better patient outcomes. Thus, this report asks the following question: is it possible to predict whether a patient has heart disease based on a set of medical characeristics? We will also be exploring the secondary question: do regions share the same predictors for heart disease. To build a model that could answer this, the publicly-available heart disease dataset donated by the Hungarian Institute of Cardiology, the University Hospitals of Zurich and Basel, the V. A. Medical Center of Long Beach, and the Cleveland Clinic Foundation was used (Janosi et al., 1989). Each row in this dataset represents a patient, and the columns store physical, health-related information about each patient — such as their age, sex, type of chest pain, and resting blood pressure. There are 14 variables in total. We decided to use the KNN classification algorithm with forward selection to predict the \"num\" column, which is either “true” or “false” if a patient has a heart disease. We used KNN classification as the variable we are trying to predict can only be one of two values. The dataset contains four databases, each with around 100 to 300 patients, donated by institutions in Switzerland, Hungary, and two locations in America. We trained and tested our model on data from all of the databases, as this gives us a larger sample size, and added an additional variable to work with: \"region\". This brings the total number of columns in our dataset to 15."
   ]
  },
  {
   "cell_type": "markdown",
   "id": "2e3952a6-c34a-470f-93cb-14dd6e0a01b2",
   "metadata": {},
   "source": [
    "## Methods and Results\n",
    "\n",
    "\n",
    "\n",
    "In this analysis we will attempt to build five models: a model for every database in our dataset, and another model for all the databases combined. We will use the KNN (K-nearest neighbours) classification algorithm with forward selection to pick the best predictors and cross validation to pick the best K parameter. The models' efficacies are summarized in a series of confusion matrices. \n",
    "\n",
    "Any variable which is experimentally linked to heart disease is considered as predictor. The 10 variables we are considering for our predictive model, and our reasons for including them, are: \n",
    "\n",
    "1. **Age** (column name: *\"age\"*)<br>\n",
    "    With age comes the onset of factors such as frailty, obesity, and diabetes, which increase the risk of heart disease (Rodgers et al., 2019).\n",
    "\n",
    "1. **Sex** (column name: *\"sex\"*)<br>\n",
    "    Hormonal decline with age is another factor to increases the risk of heart disease, and is more drastic in females with the onset of menopause (Rodgers et al., 2019).\n",
    "    \n",
    "1. **Chest Pain** (column name: *\"cp\"*) <br>\n",
    "    Angina is the term for chest discomfort/pain, and is caused from the heart not getting enough oxygen-rich blood, which is a symptom of heart disease (Rawat, 2021).\n",
    "    \n",
    "1. **Resting Blood Pressure** (column name: *\"restbps\"*) <br>\n",
    "    Having a high resting blood pressure means your heart is under more strain than an average person, and can lead to heart disease (NHS, 2020).\n",
    "    \n",
    "1. **Serum Cholesterol** (column name: *\"chol\"*)<br>\n",
    "    Abnormally high levels of low-desnity lipoprotein cholesterol can narrow arteries and contribute to heart issues (NHS, 2020). \n",
    "\n",
    "1. **Resting ECG** (column name: *\"restecg\"*) <br>\n",
    "    Resting electrocardiography can detect abnormalities in an individual that are related to heart disease (Kaolawanich et al., 2021).\n",
    "    \n",
    "1. **Max Heart Rate Achieved/Thalach** (column name: *\"thalach\"*) <br>\n",
    "    Increases in heart rate has been associated with risk of cardiac death; 10 more beats per minute can yield a 20% higher risk of cardiac death (Perret-Guillaume et al., 2009).\n",
    "    \n",
    "1. **Exercise Induced Angina** (column name: *\"exang\"*) <br>\n",
    "    Exercise-induced angia is chest pain that a patient experiences while exercising, and has been linked to heart disease in the past (Chen et al., 2011). \n",
    "    \n",
    "1. **ST depression induced by exercise** (column name: *\"oldpeak\"*) <br>\n",
    "    Studies have found that exercise induced ST segment depression, which is what this variable represents, are associated with heart disease due to an imbalance in oxygen demand (Watanabe et al., 2000). \n",
    "\n",
    "We attempt to keep the number of predictors considered low as too many predictors can interfere with the accuracy of forward selection (Campbell et al., 2022, section 6.8.2, para. 8).\n",
    "\n",
    "This code should take roughly 1200 seconds to run."
   ]
  },
  {
   "cell_type": "markdown",
   "id": "ecfea2c2-83ef-477e-9e24-368fdd206d86",
   "metadata": {},
   "source": [
    "## Preliminary Exploratory Data Analysis"
   ]
  },
  {
   "cell_type": "markdown",
   "id": "59612134-9de0-401c-897e-e9b099955e5b",
   "metadata": {
    "tags": []
   },
   "source": [
    "### Imports"
   ]
  },
  {
   "cell_type": "markdown",
   "id": "c0dd1274-915d-43c9-971b-6a3345c24b24",
   "metadata": {},
   "source": [
    "We first must load the required libraries that allow us to manipulate and present the data."
   ]
  },
  {
   "cell_type": "code",
   "execution_count": 127,
   "id": "67a9c354-41d0-4f63-b4ff-4cf62e85d59f",
   "metadata": {},
   "outputs": [],
   "source": [
    "# load libraries\n",
    "library(tidyverse)\n",
    "library(repr)\n",
    "library(tidymodels)\n",
    "\n",
    "options(repr.matrix.max.rows = 6) # change how tables are displayed\n",
    "set.seed(1048596) # arbitrary seed number picked as an obscure reference to Steins;Gate."
   ]
  },
  {
   "cell_type": "markdown",
   "id": "0f282247-bb0a-42b6-8f3d-85c2f53e10eb",
   "metadata": {},
   "source": [
    "### Reading and tidying the data: to start with, a function\n",
    "\n",
    "We start by creating a function which performs some of the more repetitive tasks of tidying each freshly-loaded dataframe. This includes: removing observations with missing data, only selecting the variables we chose as our predictors, creating a \"region\" column, and changing the type of some variables to reflect the data better (ie. changing characters to numeric)."
   ]
  },
  {
   "cell_type": "code",
   "execution_count": 234,
   "id": "67cac22c-281b-48a5-a7aa-4ef6ebbceeb3",
   "metadata": {},
   "outputs": [],
   "source": [
    "# Function to tidy up each of the separate datasets\n",
    "# Discovery: in the non-cleveland sets, many of the more obscure columns have missing values in some rows. If you filter out all the rows that don't have missing values anywhere you sometimes end up with none from that set.\n",
    "\n",
    "tidy_heart_data <- function(df, region=\"\") {\n",
    "    colnames(df) <- column_names\n",
    "    df <- mutate(df, region=region)\n",
    "    # Change all heart disease numbers to easily-interpreted true/false values\n",
    "    for(i in 1:length(df$num)) {\n",
    "       tf <- NULL\n",
    "       if (df$num[i] != 0) {\n",
    "           tf <- \"true\"\n",
    "       } else {\n",
    "           tf <- \"false\"\n",
    "           }\n",
    "           \n",
    "       df$num[i] <- tf\n",
    "       }\n",
    "\n",
    "    if (region != \"\") {\n",
    "        df <- mutate(df, region=as.factor(region))\n",
    "        }\n",
    "    df <- df |> select(num,\n",
    "                         age, #\n",
    "                         region,\n",
    "                         cp, #\n",
    "                         sex,#\n",
    "                         thalach, #\n",
    "                         trestbps, #\n",
    "                         chol, #\n",
    "                         fbs, #\n",
    "                         restecg, #\n",
    "                         exang, #\n",
    "                         oldpeak, #\n",
    "                         \n",
    "                        ) |> # Filter out NA values, and values that do not make physical sense\n",
    "                          filter(cp!=\"?\", \n",
    "                                 sex!=\"?\",\n",
    "                                 thalach!=\"?\",\n",
    "                                 trestbps!=\"?\",\n",
    "                                 trestbps!=\"0\", # a blood pressure of 0 is impossible\n",
    "                                 chol!=\"?\",\n",
    "                                 fbs!=\"?\",\n",
    "                                 restecg!=\"?\",\n",
    "                                 exang!=\"?\",\n",
    "                                 oldpeak!=\"?\",)|>\n",
    "                          mutate(region=as.factor(region),\n",
    "                                 sex=as.numeric(sex),\n",
    "                                 cp=as.numeric(cp),\n",
    "                                 thalach=as.numeric(thalach),\n",
    "                                 trestbps=as.numeric(trestbps),\n",
    "                                 chol=as.numeric(chol),\n",
    "                                 fbs=as.numeric(fbs),\n",
    "                                 restecg=as.numeric(restecg),\n",
    "                                 exang=as.numeric(exang),\n",
    "                                 oldpeak=as.numeric(oldpeak),\n",
    "                                 # slope=as.numeric(slope),\n",
    "                                 # ca=as.numeric(ca),\n",
    "                                 # thal=as.numeric(thal),\n",
    "                                 num = as.factor(num))\n",
    "    # print(df |> group_by(cp,num) |> summarize(n())) # debug\n",
    "    return(df)\n",
    "    }\n",
    "\n",
    "column_names <-c(\"age\",\"sex\",\"cp\",\"trestbps\",\"chol\",\"fbs\",\"restecg\",\"thalach\",\"exang\",\"oldpeak\",\"slope\",\"ca\",\"thal\",\"num\")"
   ]
  },
  {
   "cell_type": "markdown",
   "id": "db0c4fbf-2c21-4478-b28b-aa12f19d7c18",
   "metadata": {},
   "source": [
    "### Reading and tidying the data: Calling the function\n",
    "The cells below each call the above function with one of the databases. "
   ]
  },
  {
   "cell_type": "code",
   "execution_count": 235,
   "id": "71ef0db6-4345-4d2f-aec0-f8463593884f",
   "metadata": {},
   "outputs": [
    {
     "name": "stderr",
     "output_type": "stream",
     "text": [
      "\u001b[1mRows: \u001b[22m\u001b[34m303\u001b[39m \u001b[1mColumns: \u001b[22m\u001b[34m14\u001b[39m\n",
      "\u001b[36m──\u001b[39m \u001b[1mColumn specification\u001b[22m \u001b[36m────────────────────────────────────────────────────────\u001b[39m\n",
      "\u001b[1mDelimiter:\u001b[22m \",\"\n",
      "\u001b[31mchr\u001b[39m  (2): X12, X13\n",
      "\u001b[32mdbl\u001b[39m (12): X1, X2, X3, X4, X5, X6, X7, X8, X9, X10, X11, X14\n",
      "\n",
      "\u001b[36mℹ\u001b[39m Use `spec()` to retrieve the full column specification for this data.\n",
      "\u001b[36mℹ\u001b[39m Specify the column types or set `show_col_types = FALSE` to quiet this message.\n"
     ]
    },
    {
     "name": "stdout",
     "output_type": "stream",
     "text": [
      "[1] \"Table 1: Cleveland dataset (tidied and filtered)\"\n"
     ]
    },
    {
     "data": {
      "text/html": [
       "<table class=\"dataframe\">\n",
       "<caption>A tibble: 303 × 12</caption>\n",
       "<thead>\n",
       "\t<tr><th scope=col>num</th><th scope=col>age</th><th scope=col>region</th><th scope=col>cp</th><th scope=col>sex</th><th scope=col>thalach</th><th scope=col>trestbps</th><th scope=col>chol</th><th scope=col>fbs</th><th scope=col>restecg</th><th scope=col>exang</th><th scope=col>oldpeak</th></tr>\n",
       "\t<tr><th scope=col>&lt;fct&gt;</th><th scope=col>&lt;dbl&gt;</th><th scope=col>&lt;fct&gt;</th><th scope=col>&lt;dbl&gt;</th><th scope=col>&lt;dbl&gt;</th><th scope=col>&lt;dbl&gt;</th><th scope=col>&lt;dbl&gt;</th><th scope=col>&lt;dbl&gt;</th><th scope=col>&lt;dbl&gt;</th><th scope=col>&lt;dbl&gt;</th><th scope=col>&lt;dbl&gt;</th><th scope=col>&lt;dbl&gt;</th></tr>\n",
       "</thead>\n",
       "<tbody>\n",
       "\t<tr><td>false</td><td>63</td><td>C</td><td>1</td><td>1</td><td>150</td><td>145</td><td>233</td><td>1</td><td>2</td><td>0</td><td>2.3</td></tr>\n",
       "\t<tr><td>true </td><td>67</td><td>C</td><td>4</td><td>1</td><td>108</td><td>160</td><td>286</td><td>0</td><td>2</td><td>1</td><td>1.5</td></tr>\n",
       "\t<tr><td>true </td><td>67</td><td>C</td><td>4</td><td>1</td><td>129</td><td>120</td><td>229</td><td>0</td><td>2</td><td>1</td><td>2.6</td></tr>\n",
       "\t<tr><td>⋮</td><td>⋮</td><td>⋮</td><td>⋮</td><td>⋮</td><td>⋮</td><td>⋮</td><td>⋮</td><td>⋮</td><td>⋮</td><td>⋮</td><td>⋮</td></tr>\n",
       "\t<tr><td>true </td><td>57</td><td>C</td><td>4</td><td>1</td><td>115</td><td>130</td><td>131</td><td>0</td><td>0</td><td>1</td><td>1.2</td></tr>\n",
       "\t<tr><td>true </td><td>57</td><td>C</td><td>2</td><td>0</td><td>174</td><td>130</td><td>236</td><td>0</td><td>2</td><td>0</td><td>0.0</td></tr>\n",
       "\t<tr><td>false</td><td>38</td><td>C</td><td>3</td><td>1</td><td>173</td><td>138</td><td>175</td><td>0</td><td>0</td><td>0</td><td>0.0</td></tr>\n",
       "</tbody>\n",
       "</table>\n"
      ],
      "text/latex": [
       "A tibble: 303 × 12\n",
       "\\begin{tabular}{llllllllllll}\n",
       " num & age & region & cp & sex & thalach & trestbps & chol & fbs & restecg & exang & oldpeak\\\\\n",
       " <fct> & <dbl> & <fct> & <dbl> & <dbl> & <dbl> & <dbl> & <dbl> & <dbl> & <dbl> & <dbl> & <dbl>\\\\\n",
       "\\hline\n",
       "\t false & 63 & C & 1 & 1 & 150 & 145 & 233 & 1 & 2 & 0 & 2.3\\\\\n",
       "\t true  & 67 & C & 4 & 1 & 108 & 160 & 286 & 0 & 2 & 1 & 1.5\\\\\n",
       "\t true  & 67 & C & 4 & 1 & 129 & 120 & 229 & 0 & 2 & 1 & 2.6\\\\\n",
       "\t ⋮ & ⋮ & ⋮ & ⋮ & ⋮ & ⋮ & ⋮ & ⋮ & ⋮ & ⋮ & ⋮ & ⋮\\\\\n",
       "\t true  & 57 & C & 4 & 1 & 115 & 130 & 131 & 0 & 0 & 1 & 1.2\\\\\n",
       "\t true  & 57 & C & 2 & 0 & 174 & 130 & 236 & 0 & 2 & 0 & 0.0\\\\\n",
       "\t false & 38 & C & 3 & 1 & 173 & 138 & 175 & 0 & 0 & 0 & 0.0\\\\\n",
       "\\end{tabular}\n"
      ],
      "text/markdown": [
       "\n",
       "A tibble: 303 × 12\n",
       "\n",
       "| num &lt;fct&gt; | age &lt;dbl&gt; | region &lt;fct&gt; | cp &lt;dbl&gt; | sex &lt;dbl&gt; | thalach &lt;dbl&gt; | trestbps &lt;dbl&gt; | chol &lt;dbl&gt; | fbs &lt;dbl&gt; | restecg &lt;dbl&gt; | exang &lt;dbl&gt; | oldpeak &lt;dbl&gt; |\n",
       "|---|---|---|---|---|---|---|---|---|---|---|---|\n",
       "| false | 63 | C | 1 | 1 | 150 | 145 | 233 | 1 | 2 | 0 | 2.3 |\n",
       "| true  | 67 | C | 4 | 1 | 108 | 160 | 286 | 0 | 2 | 1 | 1.5 |\n",
       "| true  | 67 | C | 4 | 1 | 129 | 120 | 229 | 0 | 2 | 1 | 2.6 |\n",
       "| ⋮ | ⋮ | ⋮ | ⋮ | ⋮ | ⋮ | ⋮ | ⋮ | ⋮ | ⋮ | ⋮ | ⋮ |\n",
       "| true  | 57 | C | 4 | 1 | 115 | 130 | 131 | 0 | 0 | 1 | 1.2 |\n",
       "| true  | 57 | C | 2 | 0 | 174 | 130 | 236 | 0 | 2 | 0 | 0.0 |\n",
       "| false | 38 | C | 3 | 1 | 173 | 138 | 175 | 0 | 0 | 0 | 0.0 |\n",
       "\n"
      ],
      "text/plain": [
       "    num   age region cp sex thalach trestbps chol fbs restecg exang oldpeak\n",
       "1   false 63  C      1  1   150     145      233  1   2       0     2.3    \n",
       "2   true  67  C      4  1   108     160      286  0   2       1     1.5    \n",
       "3   true  67  C      4  1   129     120      229  0   2       1     2.6    \n",
       "⋮   ⋮     ⋮   ⋮      ⋮  ⋮   ⋮       ⋮        ⋮    ⋮   ⋮       ⋮     ⋮      \n",
       "301 true  57  C      4  1   115     130      131  0   0       1     1.2    \n",
       "302 true  57  C      2  0   174     130      236  0   2       0     0.0    \n",
       "303 false 38  C      3  1   173     138      175  0   0       0     0.0    "
      ]
     },
     "metadata": {},
     "output_type": "display_data"
    }
   ],
   "source": [
    "# Load and tidy Cleveland dataset\n",
    "cleveland_data <- read_delim(\"https://archive.ics.uci.edu/ml/machine-learning-databases/heart-disease/processed.cleveland.data\",\n",
    "                         col_name = FALSE)\n",
    "cleveland_data <- tidy_heart_data(cleveland_data,\"C\")\n",
    "\n",
    "print(\"Table 1: Cleveland dataset (tidied and filtered)\")\n",
    "cleveland_data               \n",
    "# Table 1"
   ]
  },
  {
   "cell_type": "code",
   "execution_count": 236,
   "id": "d35bfc8b-3478-4a34-b0d4-3035cc09149c",
   "metadata": {},
   "outputs": [
    {
     "name": "stderr",
     "output_type": "stream",
     "text": [
      "\u001b[1mRows: \u001b[22m\u001b[34m294\u001b[39m \u001b[1mColumns: \u001b[22m\u001b[34m14\u001b[39m\n",
      "\u001b[36m──\u001b[39m \u001b[1mColumn specification\u001b[22m \u001b[36m────────────────────────────────────────────────────────\u001b[39m\n",
      "\u001b[1mDelimiter:\u001b[22m \",\"\n",
      "\u001b[31mchr\u001b[39m (9): X4, X5, X6, X7, X8, X9, X11, X12, X13\n",
      "\u001b[32mdbl\u001b[39m (5): X1, X2, X3, X10, X14\n",
      "\n",
      "\u001b[36mℹ\u001b[39m Use `spec()` to retrieve the full column specification for this data.\n",
      "\u001b[36mℹ\u001b[39m Specify the column types or set `show_col_types = FALSE` to quiet this message.\n"
     ]
    },
    {
     "name": "stdout",
     "output_type": "stream",
     "text": [
      "[1] \"Table 2: Hungarian dataset (tidied and filtered)\"\n"
     ]
    },
    {
     "data": {
      "text/html": [
       "<table class=\"dataframe\">\n",
       "<caption>A tibble: 261 × 12</caption>\n",
       "<thead>\n",
       "\t<tr><th scope=col>num</th><th scope=col>age</th><th scope=col>region</th><th scope=col>cp</th><th scope=col>sex</th><th scope=col>thalach</th><th scope=col>trestbps</th><th scope=col>chol</th><th scope=col>fbs</th><th scope=col>restecg</th><th scope=col>exang</th><th scope=col>oldpeak</th></tr>\n",
       "\t<tr><th scope=col>&lt;fct&gt;</th><th scope=col>&lt;dbl&gt;</th><th scope=col>&lt;fct&gt;</th><th scope=col>&lt;dbl&gt;</th><th scope=col>&lt;dbl&gt;</th><th scope=col>&lt;dbl&gt;</th><th scope=col>&lt;dbl&gt;</th><th scope=col>&lt;dbl&gt;</th><th scope=col>&lt;dbl&gt;</th><th scope=col>&lt;dbl&gt;</th><th scope=col>&lt;dbl&gt;</th><th scope=col>&lt;dbl&gt;</th></tr>\n",
       "</thead>\n",
       "<tbody>\n",
       "\t<tr><td>false</td><td>28</td><td>H</td><td>2</td><td>1</td><td>185</td><td>130</td><td>132</td><td>0</td><td>2</td><td>0</td><td>0</td></tr>\n",
       "\t<tr><td>false</td><td>29</td><td>H</td><td>2</td><td>1</td><td>160</td><td>120</td><td>243</td><td>0</td><td>0</td><td>0</td><td>0</td></tr>\n",
       "\t<tr><td>false</td><td>30</td><td>H</td><td>1</td><td>0</td><td>170</td><td>170</td><td>237</td><td>0</td><td>1</td><td>0</td><td>0</td></tr>\n",
       "\t<tr><td>⋮</td><td>⋮</td><td>⋮</td><td>⋮</td><td>⋮</td><td>⋮</td><td>⋮</td><td>⋮</td><td>⋮</td><td>⋮</td><td>⋮</td><td>⋮</td></tr>\n",
       "\t<tr><td>true</td><td>56</td><td>H</td><td>4</td><td>1</td><td>150</td><td>155</td><td>342</td><td>1</td><td>0</td><td>1</td><td>3</td></tr>\n",
       "\t<tr><td>true</td><td>58</td><td>H</td><td>2</td><td>0</td><td>110</td><td>180</td><td>393</td><td>0</td><td>0</td><td>1</td><td>1</td></tr>\n",
       "\t<tr><td>true</td><td>65</td><td>H</td><td>4</td><td>1</td><td>115</td><td>130</td><td>275</td><td>0</td><td>1</td><td>1</td><td>1</td></tr>\n",
       "</tbody>\n",
       "</table>\n"
      ],
      "text/latex": [
       "A tibble: 261 × 12\n",
       "\\begin{tabular}{llllllllllll}\n",
       " num & age & region & cp & sex & thalach & trestbps & chol & fbs & restecg & exang & oldpeak\\\\\n",
       " <fct> & <dbl> & <fct> & <dbl> & <dbl> & <dbl> & <dbl> & <dbl> & <dbl> & <dbl> & <dbl> & <dbl>\\\\\n",
       "\\hline\n",
       "\t false & 28 & H & 2 & 1 & 185 & 130 & 132 & 0 & 2 & 0 & 0\\\\\n",
       "\t false & 29 & H & 2 & 1 & 160 & 120 & 243 & 0 & 0 & 0 & 0\\\\\n",
       "\t false & 30 & H & 1 & 0 & 170 & 170 & 237 & 0 & 1 & 0 & 0\\\\\n",
       "\t ⋮ & ⋮ & ⋮ & ⋮ & ⋮ & ⋮ & ⋮ & ⋮ & ⋮ & ⋮ & ⋮ & ⋮\\\\\n",
       "\t true & 56 & H & 4 & 1 & 150 & 155 & 342 & 1 & 0 & 1 & 3\\\\\n",
       "\t true & 58 & H & 2 & 0 & 110 & 180 & 393 & 0 & 0 & 1 & 1\\\\\n",
       "\t true & 65 & H & 4 & 1 & 115 & 130 & 275 & 0 & 1 & 1 & 1\\\\\n",
       "\\end{tabular}\n"
      ],
      "text/markdown": [
       "\n",
       "A tibble: 261 × 12\n",
       "\n",
       "| num &lt;fct&gt; | age &lt;dbl&gt; | region &lt;fct&gt; | cp &lt;dbl&gt; | sex &lt;dbl&gt; | thalach &lt;dbl&gt; | trestbps &lt;dbl&gt; | chol &lt;dbl&gt; | fbs &lt;dbl&gt; | restecg &lt;dbl&gt; | exang &lt;dbl&gt; | oldpeak &lt;dbl&gt; |\n",
       "|---|---|---|---|---|---|---|---|---|---|---|---|\n",
       "| false | 28 | H | 2 | 1 | 185 | 130 | 132 | 0 | 2 | 0 | 0 |\n",
       "| false | 29 | H | 2 | 1 | 160 | 120 | 243 | 0 | 0 | 0 | 0 |\n",
       "| false | 30 | H | 1 | 0 | 170 | 170 | 237 | 0 | 1 | 0 | 0 |\n",
       "| ⋮ | ⋮ | ⋮ | ⋮ | ⋮ | ⋮ | ⋮ | ⋮ | ⋮ | ⋮ | ⋮ | ⋮ |\n",
       "| true | 56 | H | 4 | 1 | 150 | 155 | 342 | 1 | 0 | 1 | 3 |\n",
       "| true | 58 | H | 2 | 0 | 110 | 180 | 393 | 0 | 0 | 1 | 1 |\n",
       "| true | 65 | H | 4 | 1 | 115 | 130 | 275 | 0 | 1 | 1 | 1 |\n",
       "\n"
      ],
      "text/plain": [
       "    num   age region cp sex thalach trestbps chol fbs restecg exang oldpeak\n",
       "1   false 28  H      2  1   185     130      132  0   2       0     0      \n",
       "2   false 29  H      2  1   160     120      243  0   0       0     0      \n",
       "3   false 30  H      1  0   170     170      237  0   1       0     0      \n",
       "⋮   ⋮     ⋮   ⋮      ⋮  ⋮   ⋮       ⋮        ⋮    ⋮   ⋮       ⋮     ⋮      \n",
       "259 true  56  H      4  1   150     155      342  1   0       1     3      \n",
       "260 true  58  H      2  0   110     180      393  0   0       1     1      \n",
       "261 true  65  H      4  1   115     130      275  0   1       1     1      "
      ]
     },
     "metadata": {},
     "output_type": "display_data"
    }
   ],
   "source": [
    "# Load and tidy Hungary dataset\n",
    "hungarian_data<-read_delim(\"https://archive.ics.uci.edu/ml/machine-learning-databases/heart-disease/processed.hungarian.data\",\n",
    "                          col_name = FALSE)\n",
    "hungarian_data <- tidy_heart_data(hungarian_data,\"H\")\n",
    "\n",
    "print(\"Table 2: Hungarian dataset (tidied and filtered)\")\n",
    "hungarian_data\n",
    "# Table 2"
   ]
  },
  {
   "cell_type": "code",
   "execution_count": 237,
   "id": "d8e0317b-2e9e-448b-a8f4-df1c8a947517",
   "metadata": {},
   "outputs": [
    {
     "name": "stderr",
     "output_type": "stream",
     "text": [
      "\u001b[1mRows: \u001b[22m\u001b[34m123\u001b[39m \u001b[1mColumns: \u001b[22m\u001b[34m14\u001b[39m\n",
      "\u001b[36m──\u001b[39m \u001b[1mColumn specification\u001b[22m \u001b[36m────────────────────────────────────────────────────────\u001b[39m\n",
      "\u001b[1mDelimiter:\u001b[22m \",\"\n",
      "\u001b[31mchr\u001b[39m (9): X4, X6, X7, X8, X9, X10, X11, X12, X13\n",
      "\u001b[32mdbl\u001b[39m (5): X1, X2, X3, X5, X14\n",
      "\n",
      "\u001b[36mℹ\u001b[39m Use `spec()` to retrieve the full column specification for this data.\n",
      "\u001b[36mℹ\u001b[39m Specify the column types or set `show_col_types = FALSE` to quiet this message.\n"
     ]
    },
    {
     "name": "stdout",
     "output_type": "stream",
     "text": [
      "[1] \"Table 3: Switzerland dataset (tidied and filtered)\"\n"
     ]
    },
    {
     "data": {
      "text/html": [
       "<table class=\"dataframe\">\n",
       "<caption>A tibble: 46 × 12</caption>\n",
       "<thead>\n",
       "\t<tr><th scope=col>num</th><th scope=col>age</th><th scope=col>region</th><th scope=col>cp</th><th scope=col>sex</th><th scope=col>thalach</th><th scope=col>trestbps</th><th scope=col>chol</th><th scope=col>fbs</th><th scope=col>restecg</th><th scope=col>exang</th><th scope=col>oldpeak</th></tr>\n",
       "\t<tr><th scope=col>&lt;fct&gt;</th><th scope=col>&lt;dbl&gt;</th><th scope=col>&lt;fct&gt;</th><th scope=col>&lt;dbl&gt;</th><th scope=col>&lt;dbl&gt;</th><th scope=col>&lt;dbl&gt;</th><th scope=col>&lt;dbl&gt;</th><th scope=col>&lt;dbl&gt;</th><th scope=col>&lt;dbl&gt;</th><th scope=col>&lt;dbl&gt;</th><th scope=col>&lt;dbl&gt;</th><th scope=col>&lt;dbl&gt;</th></tr>\n",
       "</thead>\n",
       "<tbody>\n",
       "\t<tr><td>true</td><td>38</td><td>S</td><td>4</td><td>0</td><td>156</td><td>110</td><td>0</td><td>0</td><td>0</td><td>0</td><td>0</td></tr>\n",
       "\t<tr><td>true</td><td>38</td><td>S</td><td>3</td><td>1</td><td>128</td><td>115</td><td>0</td><td>0</td><td>0</td><td>1</td><td>0</td></tr>\n",
       "\t<tr><td>true</td><td>42</td><td>S</td><td>4</td><td>1</td><td> 99</td><td>145</td><td>0</td><td>0</td><td>0</td><td>1</td><td>0</td></tr>\n",
       "\t<tr><td>⋮</td><td>⋮</td><td>⋮</td><td>⋮</td><td>⋮</td><td>⋮</td><td>⋮</td><td>⋮</td><td>⋮</td><td>⋮</td><td>⋮</td><td>⋮</td></tr>\n",
       "\t<tr><td>true</td><td>70</td><td>S</td><td>4</td><td>1</td><td> 92</td><td>115</td><td>0</td><td>0</td><td>1</td><td>1</td><td>0</td></tr>\n",
       "\t<tr><td>true</td><td>70</td><td>S</td><td>4</td><td>1</td><td>157</td><td>140</td><td>0</td><td>1</td><td>0</td><td>1</td><td>2</td></tr>\n",
       "\t<tr><td>true</td><td>73</td><td>S</td><td>3</td><td>0</td><td>121</td><td>160</td><td>0</td><td>0</td><td>1</td><td>0</td><td>0</td></tr>\n",
       "</tbody>\n",
       "</table>\n"
      ],
      "text/latex": [
       "A tibble: 46 × 12\n",
       "\\begin{tabular}{llllllllllll}\n",
       " num & age & region & cp & sex & thalach & trestbps & chol & fbs & restecg & exang & oldpeak\\\\\n",
       " <fct> & <dbl> & <fct> & <dbl> & <dbl> & <dbl> & <dbl> & <dbl> & <dbl> & <dbl> & <dbl> & <dbl>\\\\\n",
       "\\hline\n",
       "\t true & 38 & S & 4 & 0 & 156 & 110 & 0 & 0 & 0 & 0 & 0\\\\\n",
       "\t true & 38 & S & 3 & 1 & 128 & 115 & 0 & 0 & 0 & 1 & 0\\\\\n",
       "\t true & 42 & S & 4 & 1 &  99 & 145 & 0 & 0 & 0 & 1 & 0\\\\\n",
       "\t ⋮ & ⋮ & ⋮ & ⋮ & ⋮ & ⋮ & ⋮ & ⋮ & ⋮ & ⋮ & ⋮ & ⋮\\\\\n",
       "\t true & 70 & S & 4 & 1 &  92 & 115 & 0 & 0 & 1 & 1 & 0\\\\\n",
       "\t true & 70 & S & 4 & 1 & 157 & 140 & 0 & 1 & 0 & 1 & 2\\\\\n",
       "\t true & 73 & S & 3 & 0 & 121 & 160 & 0 & 0 & 1 & 0 & 0\\\\\n",
       "\\end{tabular}\n"
      ],
      "text/markdown": [
       "\n",
       "A tibble: 46 × 12\n",
       "\n",
       "| num &lt;fct&gt; | age &lt;dbl&gt; | region &lt;fct&gt; | cp &lt;dbl&gt; | sex &lt;dbl&gt; | thalach &lt;dbl&gt; | trestbps &lt;dbl&gt; | chol &lt;dbl&gt; | fbs &lt;dbl&gt; | restecg &lt;dbl&gt; | exang &lt;dbl&gt; | oldpeak &lt;dbl&gt; |\n",
       "|---|---|---|---|---|---|---|---|---|---|---|---|\n",
       "| true | 38 | S | 4 | 0 | 156 | 110 | 0 | 0 | 0 | 0 | 0 |\n",
       "| true | 38 | S | 3 | 1 | 128 | 115 | 0 | 0 | 0 | 1 | 0 |\n",
       "| true | 42 | S | 4 | 1 |  99 | 145 | 0 | 0 | 0 | 1 | 0 |\n",
       "| ⋮ | ⋮ | ⋮ | ⋮ | ⋮ | ⋮ | ⋮ | ⋮ | ⋮ | ⋮ | ⋮ | ⋮ |\n",
       "| true | 70 | S | 4 | 1 |  92 | 115 | 0 | 0 | 1 | 1 | 0 |\n",
       "| true | 70 | S | 4 | 1 | 157 | 140 | 0 | 1 | 0 | 1 | 2 |\n",
       "| true | 73 | S | 3 | 0 | 121 | 160 | 0 | 0 | 1 | 0 | 0 |\n",
       "\n"
      ],
      "text/plain": [
       "   num  age region cp sex thalach trestbps chol fbs restecg exang oldpeak\n",
       "1  true 38  S      4  0   156     110      0    0   0       0     0      \n",
       "2  true 38  S      3  1   128     115      0    0   0       1     0      \n",
       "3  true 42  S      4  1    99     145      0    0   0       1     0      \n",
       "⋮  ⋮    ⋮   ⋮      ⋮  ⋮   ⋮       ⋮        ⋮    ⋮   ⋮       ⋮     ⋮      \n",
       "44 true 70  S      4  1    92     115      0    0   1       1     0      \n",
       "45 true 70  S      4  1   157     140      0    1   0       1     2      \n",
       "46 true 73  S      3  0   121     160      0    0   1       0     0      "
      ]
     },
     "metadata": {},
     "output_type": "display_data"
    }
   ],
   "source": [
    "# Load and tidy Switzerland dataset\n",
    "switzerland_data<-read_delim(\"https://archive.ics.uci.edu/ml/machine-learning-databases/heart-disease/processed.switzerland.data\",\n",
    "                            col_name = FALSE)\n",
    "switzerland_data <- tidy_heart_data(switzerland_data,\"S\")\n",
    "print(\"Table 3: Switzerland dataset (tidied and filtered)\")\n",
    "\n",
    "switzerland_data\n",
    "# Table 3"
   ]
  },
  {
   "cell_type": "code",
   "execution_count": 238,
   "id": "64d28ba2-33b7-4266-858b-ed8a630403a8",
   "metadata": {},
   "outputs": [
    {
     "name": "stderr",
     "output_type": "stream",
     "text": [
      "\u001b[1mRows: \u001b[22m\u001b[34m200\u001b[39m \u001b[1mColumns: \u001b[22m\u001b[34m14\u001b[39m\n",
      "\u001b[36m──\u001b[39m \u001b[1mColumn specification\u001b[22m \u001b[36m────────────────────────────────────────────────────────\u001b[39m\n",
      "\u001b[1mDelimiter:\u001b[22m \",\"\n",
      "\u001b[31mchr\u001b[39m (9): X4, X5, X6, X8, X9, X10, X11, X12, X13\n",
      "\u001b[32mdbl\u001b[39m (5): X1, X2, X3, X7, X14\n",
      "\n",
      "\u001b[36mℹ\u001b[39m Use `spec()` to retrieve the full column specification for this data.\n",
      "\u001b[36mℹ\u001b[39m Specify the column types or set `show_col_types = FALSE` to quiet this message.\n"
     ]
    },
    {
     "name": "stdout",
     "output_type": "stream",
     "text": [
      "[1] \"Table 4: VA Long Beach dataset (tidied and filtered)\"\n"
     ]
    },
    {
     "data": {
      "text/html": [
       "<table class=\"dataframe\">\n",
       "<caption>A tibble: 129 × 12</caption>\n",
       "<thead>\n",
       "\t<tr><th scope=col>num</th><th scope=col>age</th><th scope=col>region</th><th scope=col>cp</th><th scope=col>sex</th><th scope=col>thalach</th><th scope=col>trestbps</th><th scope=col>chol</th><th scope=col>fbs</th><th scope=col>restecg</th><th scope=col>exang</th><th scope=col>oldpeak</th></tr>\n",
       "\t<tr><th scope=col>&lt;fct&gt;</th><th scope=col>&lt;dbl&gt;</th><th scope=col>&lt;fct&gt;</th><th scope=col>&lt;dbl&gt;</th><th scope=col>&lt;dbl&gt;</th><th scope=col>&lt;dbl&gt;</th><th scope=col>&lt;dbl&gt;</th><th scope=col>&lt;dbl&gt;</th><th scope=col>&lt;dbl&gt;</th><th scope=col>&lt;dbl&gt;</th><th scope=col>&lt;dbl&gt;</th><th scope=col>&lt;dbl&gt;</th></tr>\n",
       "</thead>\n",
       "<tbody>\n",
       "\t<tr><td>true </td><td>63</td><td>VA</td><td>4</td><td>1</td><td>112</td><td>140</td><td>260</td><td>0</td><td>1</td><td>1</td><td>3.0</td></tr>\n",
       "\t<tr><td>false</td><td>44</td><td>VA</td><td>4</td><td>1</td><td>127</td><td>130</td><td>209</td><td>0</td><td>1</td><td>0</td><td>0.0</td></tr>\n",
       "\t<tr><td>true </td><td>60</td><td>VA</td><td>4</td><td>1</td><td>140</td><td>132</td><td>218</td><td>0</td><td>1</td><td>1</td><td>1.5</td></tr>\n",
       "\t<tr><td>⋮</td><td>⋮</td><td>⋮</td><td>⋮</td><td>⋮</td><td>⋮</td><td>⋮</td><td>⋮</td><td>⋮</td><td>⋮</td><td>⋮</td><td>⋮</td></tr>\n",
       "\t<tr><td>true</td><td>54</td><td>VA</td><td>4</td><td>0</td><td>154</td><td>127</td><td>333</td><td>1</td><td>1</td><td>0</td><td>0</td></tr>\n",
       "\t<tr><td>true</td><td>55</td><td>VA</td><td>4</td><td>1</td><td>100</td><td>122</td><td>223</td><td>1</td><td>1</td><td>0</td><td>0</td></tr>\n",
       "\t<tr><td>true</td><td>62</td><td>VA</td><td>2</td><td>1</td><td> 93</td><td>120</td><td>254</td><td>0</td><td>2</td><td>1</td><td>0</td></tr>\n",
       "</tbody>\n",
       "</table>\n"
      ],
      "text/latex": [
       "A tibble: 129 × 12\n",
       "\\begin{tabular}{llllllllllll}\n",
       " num & age & region & cp & sex & thalach & trestbps & chol & fbs & restecg & exang & oldpeak\\\\\n",
       " <fct> & <dbl> & <fct> & <dbl> & <dbl> & <dbl> & <dbl> & <dbl> & <dbl> & <dbl> & <dbl> & <dbl>\\\\\n",
       "\\hline\n",
       "\t true  & 63 & VA & 4 & 1 & 112 & 140 & 260 & 0 & 1 & 1 & 3.0\\\\\n",
       "\t false & 44 & VA & 4 & 1 & 127 & 130 & 209 & 0 & 1 & 0 & 0.0\\\\\n",
       "\t true  & 60 & VA & 4 & 1 & 140 & 132 & 218 & 0 & 1 & 1 & 1.5\\\\\n",
       "\t ⋮ & ⋮ & ⋮ & ⋮ & ⋮ & ⋮ & ⋮ & ⋮ & ⋮ & ⋮ & ⋮ & ⋮\\\\\n",
       "\t true & 54 & VA & 4 & 0 & 154 & 127 & 333 & 1 & 1 & 0 & 0\\\\\n",
       "\t true & 55 & VA & 4 & 1 & 100 & 122 & 223 & 1 & 1 & 0 & 0\\\\\n",
       "\t true & 62 & VA & 2 & 1 &  93 & 120 & 254 & 0 & 2 & 1 & 0\\\\\n",
       "\\end{tabular}\n"
      ],
      "text/markdown": [
       "\n",
       "A tibble: 129 × 12\n",
       "\n",
       "| num &lt;fct&gt; | age &lt;dbl&gt; | region &lt;fct&gt; | cp &lt;dbl&gt; | sex &lt;dbl&gt; | thalach &lt;dbl&gt; | trestbps &lt;dbl&gt; | chol &lt;dbl&gt; | fbs &lt;dbl&gt; | restecg &lt;dbl&gt; | exang &lt;dbl&gt; | oldpeak &lt;dbl&gt; |\n",
       "|---|---|---|---|---|---|---|---|---|---|---|---|\n",
       "| true  | 63 | VA | 4 | 1 | 112 | 140 | 260 | 0 | 1 | 1 | 3.0 |\n",
       "| false | 44 | VA | 4 | 1 | 127 | 130 | 209 | 0 | 1 | 0 | 0.0 |\n",
       "| true  | 60 | VA | 4 | 1 | 140 | 132 | 218 | 0 | 1 | 1 | 1.5 |\n",
       "| ⋮ | ⋮ | ⋮ | ⋮ | ⋮ | ⋮ | ⋮ | ⋮ | ⋮ | ⋮ | ⋮ | ⋮ |\n",
       "| true | 54 | VA | 4 | 0 | 154 | 127 | 333 | 1 | 1 | 0 | 0 |\n",
       "| true | 55 | VA | 4 | 1 | 100 | 122 | 223 | 1 | 1 | 0 | 0 |\n",
       "| true | 62 | VA | 2 | 1 |  93 | 120 | 254 | 0 | 2 | 1 | 0 |\n",
       "\n"
      ],
      "text/plain": [
       "    num   age region cp sex thalach trestbps chol fbs restecg exang oldpeak\n",
       "1   true  63  VA     4  1   112     140      260  0   1       1     3.0    \n",
       "2   false 44  VA     4  1   127     130      209  0   1       0     0.0    \n",
       "3   true  60  VA     4  1   140     132      218  0   1       1     1.5    \n",
       "⋮   ⋮     ⋮   ⋮      ⋮  ⋮   ⋮       ⋮        ⋮    ⋮   ⋮       ⋮     ⋮      \n",
       "127 true  54  VA     4  0   154     127      333  1   1       0     0      \n",
       "128 true  55  VA     4  1   100     122      223  1   1       0     0      \n",
       "129 true  62  VA     2  1    93     120      254  0   2       1     0      "
      ]
     },
     "metadata": {},
     "output_type": "display_data"
    }
   ],
   "source": [
    "# Load and tidy VA dataset\n",
    "\n",
    "va_data<-read_delim(\"https://archive.ics.uci.edu/ml/machine-learning-databases/heart-disease/processed.va.data\",\n",
    "                   col_name = FALSE)\n",
    "va_data <- tidy_heart_data(va_data,\"VA\")\n",
    "print(\"Table 4: VA Long Beach dataset (tidied and filtered)\")\n",
    "va_data\n",
    "# Table 4"
   ]
  },
  {
   "cell_type": "markdown",
   "id": "ff1c1647-6258-44ff-87ee-8c980a5f17fe",
   "metadata": {},
   "source": [
    "#### Creating the combined dataset\n",
    "\n",
    "In this cell we combine all the data from earlier into a single dataset. This is so that we can analyze the accuracy of KNN on each region separately, and then each region together, to see which is more accurate. It also allows for more exploration during our analysis. This is why we appended a \"region\" column to each dataset."
   ]
  },
  {
   "cell_type": "code",
   "execution_count": 239,
   "id": "c3e2f851-6006-4610-8485-92c6f65a3185",
   "metadata": {},
   "outputs": [
    {
     "name": "stdout",
     "output_type": "stream",
     "text": [
      "[1] \"Table 5: Combination of all datasets\"\n"
     ]
    },
    {
     "data": {
      "text/html": [
       "<table class=\"dataframe\">\n",
       "<caption>A tibble: 739 × 12</caption>\n",
       "<thead>\n",
       "\t<tr><th scope=col>num</th><th scope=col>age</th><th scope=col>region</th><th scope=col>cp</th><th scope=col>sex</th><th scope=col>thalach</th><th scope=col>trestbps</th><th scope=col>chol</th><th scope=col>fbs</th><th scope=col>restecg</th><th scope=col>exang</th><th scope=col>oldpeak</th></tr>\n",
       "\t<tr><th scope=col>&lt;fct&gt;</th><th scope=col>&lt;dbl&gt;</th><th scope=col>&lt;fct&gt;</th><th scope=col>&lt;dbl&gt;</th><th scope=col>&lt;dbl&gt;</th><th scope=col>&lt;dbl&gt;</th><th scope=col>&lt;dbl&gt;</th><th scope=col>&lt;dbl&gt;</th><th scope=col>&lt;dbl&gt;</th><th scope=col>&lt;dbl&gt;</th><th scope=col>&lt;dbl&gt;</th><th scope=col>&lt;dbl&gt;</th></tr>\n",
       "</thead>\n",
       "<tbody>\n",
       "\t<tr><td>false</td><td>63</td><td>C</td><td>1</td><td>1</td><td>150</td><td>145</td><td>233</td><td>1</td><td>2</td><td>0</td><td>2.3</td></tr>\n",
       "\t<tr><td>true </td><td>67</td><td>C</td><td>4</td><td>1</td><td>108</td><td>160</td><td>286</td><td>0</td><td>2</td><td>1</td><td>1.5</td></tr>\n",
       "\t<tr><td>true </td><td>67</td><td>C</td><td>4</td><td>1</td><td>129</td><td>120</td><td>229</td><td>0</td><td>2</td><td>1</td><td>2.6</td></tr>\n",
       "\t<tr><td>⋮</td><td>⋮</td><td>⋮</td><td>⋮</td><td>⋮</td><td>⋮</td><td>⋮</td><td>⋮</td><td>⋮</td><td>⋮</td><td>⋮</td><td>⋮</td></tr>\n",
       "\t<tr><td>true</td><td>54</td><td>VA</td><td>4</td><td>0</td><td>154</td><td>127</td><td>333</td><td>1</td><td>1</td><td>0</td><td>0</td></tr>\n",
       "\t<tr><td>true</td><td>55</td><td>VA</td><td>4</td><td>1</td><td>100</td><td>122</td><td>223</td><td>1</td><td>1</td><td>0</td><td>0</td></tr>\n",
       "\t<tr><td>true</td><td>62</td><td>VA</td><td>2</td><td>1</td><td> 93</td><td>120</td><td>254</td><td>0</td><td>2</td><td>1</td><td>0</td></tr>\n",
       "</tbody>\n",
       "</table>\n"
      ],
      "text/latex": [
       "A tibble: 739 × 12\n",
       "\\begin{tabular}{llllllllllll}\n",
       " num & age & region & cp & sex & thalach & trestbps & chol & fbs & restecg & exang & oldpeak\\\\\n",
       " <fct> & <dbl> & <fct> & <dbl> & <dbl> & <dbl> & <dbl> & <dbl> & <dbl> & <dbl> & <dbl> & <dbl>\\\\\n",
       "\\hline\n",
       "\t false & 63 & C & 1 & 1 & 150 & 145 & 233 & 1 & 2 & 0 & 2.3\\\\\n",
       "\t true  & 67 & C & 4 & 1 & 108 & 160 & 286 & 0 & 2 & 1 & 1.5\\\\\n",
       "\t true  & 67 & C & 4 & 1 & 129 & 120 & 229 & 0 & 2 & 1 & 2.6\\\\\n",
       "\t ⋮ & ⋮ & ⋮ & ⋮ & ⋮ & ⋮ & ⋮ & ⋮ & ⋮ & ⋮ & ⋮ & ⋮\\\\\n",
       "\t true & 54 & VA & 4 & 0 & 154 & 127 & 333 & 1 & 1 & 0 & 0\\\\\n",
       "\t true & 55 & VA & 4 & 1 & 100 & 122 & 223 & 1 & 1 & 0 & 0\\\\\n",
       "\t true & 62 & VA & 2 & 1 &  93 & 120 & 254 & 0 & 2 & 1 & 0\\\\\n",
       "\\end{tabular}\n"
      ],
      "text/markdown": [
       "\n",
       "A tibble: 739 × 12\n",
       "\n",
       "| num &lt;fct&gt; | age &lt;dbl&gt; | region &lt;fct&gt; | cp &lt;dbl&gt; | sex &lt;dbl&gt; | thalach &lt;dbl&gt; | trestbps &lt;dbl&gt; | chol &lt;dbl&gt; | fbs &lt;dbl&gt; | restecg &lt;dbl&gt; | exang &lt;dbl&gt; | oldpeak &lt;dbl&gt; |\n",
       "|---|---|---|---|---|---|---|---|---|---|---|---|\n",
       "| false | 63 | C | 1 | 1 | 150 | 145 | 233 | 1 | 2 | 0 | 2.3 |\n",
       "| true  | 67 | C | 4 | 1 | 108 | 160 | 286 | 0 | 2 | 1 | 1.5 |\n",
       "| true  | 67 | C | 4 | 1 | 129 | 120 | 229 | 0 | 2 | 1 | 2.6 |\n",
       "| ⋮ | ⋮ | ⋮ | ⋮ | ⋮ | ⋮ | ⋮ | ⋮ | ⋮ | ⋮ | ⋮ | ⋮ |\n",
       "| true | 54 | VA | 4 | 0 | 154 | 127 | 333 | 1 | 1 | 0 | 0 |\n",
       "| true | 55 | VA | 4 | 1 | 100 | 122 | 223 | 1 | 1 | 0 | 0 |\n",
       "| true | 62 | VA | 2 | 1 |  93 | 120 | 254 | 0 | 2 | 1 | 0 |\n",
       "\n"
      ],
      "text/plain": [
       "    num   age region cp sex thalach trestbps chol fbs restecg exang oldpeak\n",
       "1   false 63  C      1  1   150     145      233  1   2       0     2.3    \n",
       "2   true  67  C      4  1   108     160      286  0   2       1     1.5    \n",
       "3   true  67  C      4  1   129     120      229  0   2       1     2.6    \n",
       "⋮   ⋮     ⋮   ⋮      ⋮  ⋮   ⋮       ⋮        ⋮    ⋮   ⋮       ⋮     ⋮      \n",
       "737 true  54  VA     4  0   154     127      333  1   1       0     0      \n",
       "738 true  55  VA     4  1   100     122      223  1   1       0     0      \n",
       "739 true  62  VA     2  1    93     120      254  0   2       1     0      "
      ]
     },
     "metadata": {},
     "output_type": "display_data"
    }
   ],
   "source": [
    "# Combine data from all regions\n",
    "\n",
    "all_data <-rbind(cleveland_data,hungarian_data,switzerland_data,va_data)\n",
    "\n",
    "print(\"Table 5: Combination of all datasets\")\n",
    "all_data\n",
    "# Table 5"
   ]
  },
  {
   "cell_type": "markdown",
   "id": "ef39391a-1f8f-4f08-9e09-255d2abca9f5",
   "metadata": {},
   "source": [
    "### Summary of dataset, pre-analysis\n",
    "\n",
    "Our combinded data set has 739 observations, which seems like a reasonable amount to form our model from. It was interesting to note that after tidying the Switzerland data set, we were only left with 46 observations, which is signficantly less than the recordings from other regions. This might have an impact on our model for Switzerland. Now, let's try and visualize this data to see if we can gain any info before our data analysis."
   ]
  },
  {
   "cell_type": "markdown",
   "id": "4fccba81-1e43-414a-b6fc-410d17f7b837",
   "metadata": {},
   "source": [
    "### Visualization, pre-analysis\n",
    "\n",
    "#### Bar plot\n",
    "Before performing the analysis itself, we visualize some of the data that we loaded. "
   ]
  },
  {
   "cell_type": "code",
   "execution_count": 240,
   "id": "07bd3cdd-6590-42cb-8d25-8b01e1774adc",
   "metadata": {},
   "outputs": [
    {
     "data": {
      "image/png": "[encoded data removed]",
      "text/plain": [
       "plot without title"
      ]
     },
     "metadata": {
      "image/png": {
       "height": 600,
       "width": 480
      }
     },
     "output_type": "display_data"
    }
   ],
   "source": [
    "# Visualize distribution of positive and negative cases by region\n",
    "\n",
    "# increase plot size\n",
    "options(repr.plot.width=8, repr.plot.height=10)\n",
    "\n",
    "# Figure 1\n",
    "\n",
    "# print(\"Figure 1: VA Long Beach dataset (tidied and filtered)\")\n",
    "ggplot(all_data, aes(x = num, fill = region)) +\n",
    "    geom_bar() +\n",
    "    facet_grid(rows = vars(region)) +\n",
    "    labs(x = \"Patient has heart disease\", y = \"# of patients (in the region)\", fill = \"Region\", title = \"Figure 1: Switzerland has too few positive cases for \\nmodels to be fitted on it alone\") +\n",
    "    scale_fill_discrete(labels = c(\"Cleaveland\", \"Hungary\", \"Switzerland\", \"VA Long Beach\")) +\n",
    "    theme(text = element_text(size = 18))\n"
   ]
  },
  {
   "cell_type": "markdown",
   "id": "94a94509-c94b-4ce7-998c-4b1d28a69d75",
   "metadata": {},
   "source": [
    "Figure 1 gives us a better idea of which variable will dominate the knn algorithm for each region. This visualization also reveals that we cannot make a separate model for Switzerland alone: it has just one negative case, so when split into training and testing data, one of the sets will lack any negative cases. Therefore, we will not build a separate model for Switzerland in this project."
   ]
  },
  {
   "cell_type": "markdown",
   "id": "1146efd4-5f2f-47c4-8c9e-f1197c51fb56",
   "metadata": {},
   "source": [
    "#### Scatter plot\n",
    "We plot chest pain versus thalach, and color points based on the presence of heart disease, to see if there is a correlation between these predictors and the target. Stunningly, people with chest pain type 4 (asymptomatic, i.e., they have no chest pain) appear to be most at risk of having heart disease. One explanation for this correlation could be that people who have symptoms sufficient to warrant a medical examination and get placed on this dataset, but who lack chest pain, are at significant risk.\n",
    "\n",
    "This graph is the answer to a tertiary exploratory question, \"Is chest pain correlated with heart disease?\" Later, we will use a simplified version of our model (with two predictors) to answer the predictive version of this same question. This links our models' predictions with observed correlations, and therefore grounds them in reality."
   ]
  },
  {
   "cell_type": "code",
   "execution_count": 242,
   "id": "6f5049ab-95f2-4a62-9f9b-9648a749da8e",
   "metadata": {},
   "outputs": [
    {
     "data": {
      "image/png": "[encoded data removed]",
      "text/plain": [
       "plot without title"
      ]
     },
     "metadata": {
      "image/png": {
       "height": 600,
       "width": 480
      }
     },
     "output_type": "display_data"
    }
   ],
   "source": [
    "# Graph chest pain vs thalach colored by heart disease\n",
    "# Figure 2\n",
    "ggplot(cleveland_data, aes(x = factor(cp), y = thalach, color = num)) +\n",
    "    geom_point() +\n",
    "    labs(x = \"Type of chest pain\",\n",
    "         y = \"Thalach (max heart rate achieved)\", \n",
    "         color = \"Region\", \n",
    "         title = \"Figure 2: Unexpected result:\\nChest pain is strongly correlated with no heart disease\") +\n",
    "    scale_color_manual(labels = c(\"true\"=\"heart disease present\", \"false\"=\"heart disease not present\"),\n",
    "                       values = c(\"steelblue1\", \"red1\")) +\n",
    "    # scale_x_discrete(breaks=c(\"1\",\"2\",\"3\",\"4\"),\n",
    "    #     labels=c(\"Angina\", \"Atypical Angina\", \"Non-Angial\", \"Asymptomatic\"))+\n",
    "    theme(text = element_text(size = 15))"
   ]
  },
  {
   "cell_type": "markdown",
   "id": "dc9208d2-ebbf-4dd9-906f-6f674aa1c2f6",
   "metadata": {},
   "source": [
    "## Data Analysis"
   ]
  },
  {
   "cell_type": "markdown",
   "id": "00030d48-6a28-48a4-b0e5-553d9845031b",
   "metadata": {},
   "source": [
    "We have visualized the dataset and gained some useful information: we know that our Switzerland can't be used as a predictor, and also that patients experiencing no chest pain are much more likely to have no heart disease, based on the visualization above. Now we can perform our data analysis."
   ]
  },
  {
   "cell_type": "markdown",
   "id": "d268145f-8290-48a0-97eb-5119cff5deb1",
   "metadata": {},
   "source": [
    "### Splitting the data into training and testing sets\n",
    "\n",
    "In this cell we split each of our regional datasets (and our combined dataset) into  training and testing sets: given the somewhat limited size of our datasets, we prioritized model accuracy over generating a more precise estimation of this model accuracy. The ratio is 75% to the training set, 25% to the testing set. The \"num\" column is stratified so that positive and negative cases are evenly distributed."
   ]
  },
  {
   "cell_type": "code",
   "execution_count": 243,
   "id": "47070997-bb17-4e5a-b6e7-c35d1475dc57",
   "metadata": {},
   "outputs": [
    {
     "name": "stdout",
     "output_type": "stream",
     "text": [
      "[1] \"Table 6: Training set for all regions combined\"\n"
     ]
    },
    {
     "data": {
      "text/html": [
       "<table class=\"dataframe\">\n",
       "<caption>A tibble: 553 × 12</caption>\n",
       "<thead>\n",
       "\t<tr><th scope=col>num</th><th scope=col>age</th><th scope=col>region</th><th scope=col>cp</th><th scope=col>sex</th><th scope=col>thalach</th><th scope=col>trestbps</th><th scope=col>chol</th><th scope=col>fbs</th><th scope=col>restecg</th><th scope=col>exang</th><th scope=col>oldpeak</th></tr>\n",
       "\t<tr><th scope=col>&lt;fct&gt;</th><th scope=col>&lt;dbl&gt;</th><th scope=col>&lt;fct&gt;</th><th scope=col>&lt;dbl&gt;</th><th scope=col>&lt;dbl&gt;</th><th scope=col>&lt;dbl&gt;</th><th scope=col>&lt;dbl&gt;</th><th scope=col>&lt;dbl&gt;</th><th scope=col>&lt;dbl&gt;</th><th scope=col>&lt;dbl&gt;</th><th scope=col>&lt;dbl&gt;</th><th scope=col>&lt;dbl&gt;</th></tr>\n",
       "</thead>\n",
       "<tbody>\n",
       "\t<tr><td>false</td><td>63</td><td>C</td><td>1</td><td>1</td><td>150</td><td>145</td><td>233</td><td>1</td><td>2</td><td>0</td><td>2.3</td></tr>\n",
       "\t<tr><td>false</td><td>41</td><td>C</td><td>2</td><td>0</td><td>172</td><td>130</td><td>204</td><td>0</td><td>2</td><td>0</td><td>1.4</td></tr>\n",
       "\t<tr><td>false</td><td>56</td><td>C</td><td>2</td><td>1</td><td>178</td><td>120</td><td>236</td><td>0</td><td>0</td><td>0</td><td>0.8</td></tr>\n",
       "\t<tr><td>⋮</td><td>⋮</td><td>⋮</td><td>⋮</td><td>⋮</td><td>⋮</td><td>⋮</td><td>⋮</td><td>⋮</td><td>⋮</td><td>⋮</td><td>⋮</td></tr>\n",
       "\t<tr><td>true</td><td>46</td><td>VA</td><td>4</td><td>1</td><td>126</td><td>134</td><td>310</td><td>0</td><td>0</td><td>0</td><td>0</td></tr>\n",
       "\t<tr><td>true</td><td>54</td><td>VA</td><td>4</td><td>0</td><td>154</td><td>127</td><td>333</td><td>1</td><td>1</td><td>0</td><td>0</td></tr>\n",
       "\t<tr><td>true</td><td>62</td><td>VA</td><td>2</td><td>1</td><td> 93</td><td>120</td><td>254</td><td>0</td><td>2</td><td>1</td><td>0</td></tr>\n",
       "</tbody>\n",
       "</table>\n"
      ],
      "text/latex": [
       "A tibble: 553 × 12\n",
       "\\begin{tabular}{llllllllllll}\n",
       " num & age & region & cp & sex & thalach & trestbps & chol & fbs & restecg & exang & oldpeak\\\\\n",
       " <fct> & <dbl> & <fct> & <dbl> & <dbl> & <dbl> & <dbl> & <dbl> & <dbl> & <dbl> & <dbl> & <dbl>\\\\\n",
       "\\hline\n",
       "\t false & 63 & C & 1 & 1 & 150 & 145 & 233 & 1 & 2 & 0 & 2.3\\\\\n",
       "\t false & 41 & C & 2 & 0 & 172 & 130 & 204 & 0 & 2 & 0 & 1.4\\\\\n",
       "\t false & 56 & C & 2 & 1 & 178 & 120 & 236 & 0 & 0 & 0 & 0.8\\\\\n",
       "\t ⋮ & ⋮ & ⋮ & ⋮ & ⋮ & ⋮ & ⋮ & ⋮ & ⋮ & ⋮ & ⋮ & ⋮\\\\\n",
       "\t true & 46 & VA & 4 & 1 & 126 & 134 & 310 & 0 & 0 & 0 & 0\\\\\n",
       "\t true & 54 & VA & 4 & 0 & 154 & 127 & 333 & 1 & 1 & 0 & 0\\\\\n",
       "\t true & 62 & VA & 2 & 1 &  93 & 120 & 254 & 0 & 2 & 1 & 0\\\\\n",
       "\\end{tabular}\n"
      ],
      "text/markdown": [
       "\n",
       "A tibble: 553 × 12\n",
       "\n",
       "| num &lt;fct&gt; | age &lt;dbl&gt; | region &lt;fct&gt; | cp &lt;dbl&gt; | sex &lt;dbl&gt; | thalach &lt;dbl&gt; | trestbps &lt;dbl&gt; | chol &lt;dbl&gt; | fbs &lt;dbl&gt; | restecg &lt;dbl&gt; | exang &lt;dbl&gt; | oldpeak &lt;dbl&gt; |\n",
       "|---|---|---|---|---|---|---|---|---|---|---|---|\n",
       "| false | 63 | C | 1 | 1 | 150 | 145 | 233 | 1 | 2 | 0 | 2.3 |\n",
       "| false | 41 | C | 2 | 0 | 172 | 130 | 204 | 0 | 2 | 0 | 1.4 |\n",
       "| false | 56 | C | 2 | 1 | 178 | 120 | 236 | 0 | 0 | 0 | 0.8 |\n",
       "| ⋮ | ⋮ | ⋮ | ⋮ | ⋮ | ⋮ | ⋮ | ⋮ | ⋮ | ⋮ | ⋮ | ⋮ |\n",
       "| true | 46 | VA | 4 | 1 | 126 | 134 | 310 | 0 | 0 | 0 | 0 |\n",
       "| true | 54 | VA | 4 | 0 | 154 | 127 | 333 | 1 | 1 | 0 | 0 |\n",
       "| true | 62 | VA | 2 | 1 |  93 | 120 | 254 | 0 | 2 | 1 | 0 |\n",
       "\n"
      ],
      "text/plain": [
       "    num   age region cp sex thalach trestbps chol fbs restecg exang oldpeak\n",
       "1   false 63  C      1  1   150     145      233  1   2       0     2.3    \n",
       "2   false 41  C      2  0   172     130      204  0   2       0     1.4    \n",
       "3   false 56  C      2  1   178     120      236  0   0       0     0.8    \n",
       "⋮   ⋮     ⋮   ⋮      ⋮  ⋮   ⋮       ⋮        ⋮    ⋮   ⋮       ⋮     ⋮      \n",
       "551 true  46  VA     4  1   126     134      310  0   0       0     0      \n",
       "552 true  54  VA     4  0   154     127      333  1   1       0     0      \n",
       "553 true  62  VA     2  1    93     120      254  0   2       1     0      "
      ]
     },
     "metadata": {},
     "output_type": "display_data"
    }
   ],
   "source": [
    "#split all the datasets into training and testing sets\n",
    "\n",
    "cleveland_split <- initial_split(cleveland_data, prop = 0.75, strata = num)\n",
    "cleveland_train <- training(cleveland_split)\n",
    "cleveland_test <- testing(cleveland_split)\n",
    "\n",
    "hungarian_split <- initial_split(hungarian_data, prop = 0.75, strata = num)\n",
    "hungarian_train <- training(hungarian_split)\n",
    "hungarian_test <- testing(hungarian_split)\n",
    "\n",
    "switzerland_split <- initial_split(switzerland_data, prop = 0.75, strata = num)\n",
    "switzerland_train <- training(switzerland_split)\n",
    "switzerland_test <- testing(switzerland_split)\n",
    "\n",
    "va_split <- initial_split(va_data, prop = 0.75, strata = num)\n",
    "va_train <- training(va_split)\n",
    "va_test <- testing(va_split)\n",
    "\n",
    "all_split <- initial_split(all_data, prop = 0.75, strata = num)\n",
    "all_train <- training(all_split)\n",
    "all_test <- testing(all_split)\n",
    "\n",
    "print(\"Table 6: Training set for all regions combined\")\n",
    "all_train # Table 6"
   ]
  },
  {
   "cell_type": "markdown",
   "id": "b296e256-ecf1-4163-9e9c-246779b26dec",
   "metadata": {},
   "source": [
    "### Forward Selection: finding the best predictors\n",
    "We will now write a function which performs forward selection on a training set (provided as an argument). This function then returns a tibble which lists the accuracy that results from using different combinations and numbers of predictors with the given dataframe. This table also includes the best value of K for each model. Forward selection works thusly:\n",
    "\n",
    "Starting with no predictors \"used\"...\n",
    "1. try adding each of the unused predictors to the model formed by the current \"used\" predictors in turn; evaluate the accuracy of the resulting model\n",
    "2. Whichever resulting model was the most accurate becomes the new model, and the new predictor added to it is removed from the \"unused\" predictors\n",
    "3. The process repeats until no predictors remain\n",
    "\n",
    "A human can then choose the model with the best combination of accuracy and simplicity*.\n",
    "\n",
    "\\**In the case of this project, because we do not start off with too many predictors, we use code to automatically pick the most accurate set of predictors and use it in later steps.*"
   ]
  },
  {
   "cell_type": "code",
   "execution_count": 244,
   "id": "471a1d0a-2fc4-4e95-be62-a50e5bb7cb27",
   "metadata": {},
   "outputs": [],
   "source": [
    "# Define a function to select best parameters for a given set of training data\n",
    "# Doing this with a function makes performing forward selection on all four sets of training data much easier\n",
    "\n",
    "# The following code was adapted for this project from Chapter 6 of \"Data Science: A First Introduction\" by Tiffany Timbers, Trevor Campbell, and Melissa Lee.\n",
    "\n",
    "find_predictors <- function(df) {\n",
    "    \n",
    "    # avoid mutating the function argument\n",
    "    dataset <- df\n",
    "    \n",
    "    # select all numeric predictors\n",
    "    names <- colnames(dataset |> select(-num,-region))\n",
    "\n",
    "    # create an empty tibble to store the results\n",
    "    accuracies <- tibble(size = integer(), \n",
    "                         model_string = character(), \n",
    "                         accuracy = numeric(),\n",
    "                         k = numeric())\n",
    "\n",
    "    # create a model specification\n",
    "    knn_spec <- nearest_neighbor(weight_func = \"rectangular\", \n",
    "                                 neighbors = tune()) |>\n",
    "         set_engine(\"kknn\") |>\n",
    "         set_mode(\"classification\")\n",
    "\n",
    "    # create a 5-fold cross-validation object\n",
    "    heart_vfold <- vfold_cv(dataset, v = 5, strata = num)\n",
    "\n",
    "    # store the total number of predictors\n",
    "    n_total <- length(names)\n",
    "\n",
    "    # stores selected predictors\n",
    "    selected <- c()\n",
    "\n",
    "    # for every size from 1 to the total number of predictors\n",
    "    for (i in 1:n_total) {\n",
    "        # for every predictor still not added yet\n",
    "        accs <- list()\n",
    "        models <- list()\n",
    "        ks <- list()\n",
    "        for (j in 1:length(names)) {\n",
    "            # create a model string for this combination of predictors\n",
    "            preds_new <- c(selected, names[[j]])\n",
    "            model_string <- paste(\"num\", \"~\", paste(preds_new, collapse=\"+\"))\n",
    "\n",
    "            # create a recipe from the model string\n",
    "            heart_recipe <- recipe(as.formula(model_string), \n",
    "                                    data = dataset) |>\n",
    "                              step_scale(all_predictors()) |>\n",
    "                              step_center(all_predictors())\n",
    "\n",
    "            # tune the KNN classifier with these predictors, \n",
    "            # and collect the accuracy, K for the best model\n",
    "            acc <- workflow() |>\n",
    "              add_recipe(heart_recipe) |>\n",
    "              add_model(knn_spec) |>\n",
    "              tune_grid(resamples = heart_vfold, grid = 10) |>\n",
    "              collect_metrics() |>\n",
    "              filter(.metric == \"accuracy\") \n",
    "            \n",
    "            # extract the best value of K for use later when building the actual model\n",
    "            best_k <- acc |> slice_max(order_by = mean, n = 1, with_ties = FALSE) |> select(neighbors) |> pull()\n",
    "            \n",
    "            # Extract the accuracy for the best model\n",
    "            acc <- acc |> slice_max(order_by = mean, n = 1, with_ties = FALSE) |> select(mean) |> pull() \n",
    "            \n",
    "            # add this result to the dataframe\n",
    "            accs[[j]] <- acc\n",
    "            models[[j]] <- model_string\n",
    "            ks[[j]] <- best_k\n",
    "        }\n",
    "        jstar <- which.max(unlist(accs))\n",
    "        accuracies <- accuracies |> \n",
    "          add_row(size = i, \n",
    "                  model_string = models[[jstar]], \n",
    "                  accuracy = accs[[jstar]],\n",
    "                  k = ks[[jstar]])\n",
    "        selected <- c(selected, names[[jstar]])\n",
    "        names <- names[-jstar]\n",
    "    }\n",
    "\n",
    "    accuracies <- mutate(accuracies, percent_accuracy = accuracy*100)\n",
    "\n",
    "    return(accuracies)\n",
    "\n",
    "}\n",
    "    \n",
    "\n",
    "\n"
   ]
  },
  {
   "cell_type": "markdown",
   "id": "69fc0d49-573f-4338-987c-1587646efbc6",
   "metadata": {},
   "source": [
    "### Applying the function to calculate the best predictor sets\n",
    "In the cell below we calculate the best set of predictors for each dataset, using the function we wrote above. The highest-accuracy set of predictors for each dataset is printed out."
   ]
  },
  {
   "cell_type": "code",
   "execution_count": null,
   "id": "efc9289a-28a6-4453-a3ac-c84e24ddd903",
   "metadata": {},
   "outputs": [],
   "source": [
    "# Run forward selection (using the function above) on each dataset we are considering (everything excluding Switzerland)\n",
    "# This will take a LONG time to run. Possibly 16 minutes.\n",
    "\n",
    "set.seed(0337187)\n",
    "\n",
    "all_accuracy <- find_predictors(all_train)\n",
    "\n",
    "print(\"25% done...\") # The waiting becomes unbearable if you don't know you're making progress\n",
    "\n",
    "cleveland_accuracy <- find_predictors(cleveland_train)\n",
    "\n",
    "print(\"50% done...\")\n",
    "\n",
    "hungarian_accuracy <- find_predictors(hungarian_train)\n",
    "\n",
    "print(\"75% done...\") # \"Are we there yet?\"\n",
    "\n",
    "va_accuracy <- find_predictors(va_train)\n",
    "\n",
    "print(\"100% done! Finally!\")"
   ]
  },
  {
   "cell_type": "markdown",
   "id": "52df1633-3d81-486e-b143-d2451ac808b7",
   "metadata": {},
   "source": [
    "We display the highest achieved accuracy values for each model, as well as the model strings that produced this accuracy, in Table 7."
   ]
  },
  {
   "cell_type": "code",
   "execution_count": null,
   "id": "5c6601d4-9b0b-4eb8-8002-bebcac563302",
   "metadata": {},
   "outputs": [],
   "source": [
    "# Produce a table with the best models and their model strings\n",
    "all_accuracy_for_comb <- all_accuracy |> select(model_string, percent_accuracy, k) |> slice_max(order_by = percent_accuracy, n = 1) |> mutate(region = \"All\")\n",
    "cleveland_accuracy_for_comb <- cleveland_accuracy |> select(model_string, percent_accuracy, k) |> slice_max(order_by = percent_accuracy, n = 1) |> mutate(region = \"Cleveland\")\n",
    "hungarian_accuracy_for_comb <- hungarian_accuracy |> select(model_string, percent_accuracy, k) |> slice_max(order_by = percent_accuracy, n = 1) |> mutate(region = \"Hungary\")\n",
    "va_accuracy_for_comb <- va_accuracy |> select(model_string, percent_accuracy, k) |> slice_max(order_by = percent_accuracy, n = 1) |> mutate(region = \"VA Long Beach\")\n",
    "combined_accuracies_and_strings <- rbind(all_accuracy_for_comb,\n",
    "                                         cleveland_accuracy_for_comb,\n",
    "                                         hungarian_accuracy_for_comb,\n",
    "                                         va_accuracy_for_comb)\n",
    "print(\"Table 7: Best model strings and highest accuracies for each region\")\n",
    "combined_accuracies_and_strings\n",
    "\n"
   ]
  },
  {
   "cell_type": "markdown",
   "id": "c0195c8c-7349-4bed-9743-9740c562f850",
   "metadata": {},
   "source": [
    "### Plotting the accuracy of different sets of predictors for each region\n",
    "To confirm that we picked good choices for our predictor sets, we graph the number of predictors selected against the accuracy of each set of predictors."
   ]
  },
  {
   "cell_type": "code",
   "execution_count": null,
   "id": "8f25d3be-1307-4e38-875d-71890b133ee9",
   "metadata": {},
   "outputs": [],
   "source": [
    "# Define a function that plots the accuracy of a model vs the number of predictors that model uses.\n",
    "plot_accuracy <- function(accur, t=\"UNDEFINED\", num=\"X\"){\n",
    "    ggplot(accur, aes(x = size, y = percent_accuracy)) +\n",
    "        geom_point() +\n",
    "        geom_line() +\n",
    "        labs(x = \"Number of predictors\", y = \"Accuracy (%)\", title = paste(\"Figure\",num,\":\",\" Percent accuracy vs # of predictors for \",t, sep=\"\")) +\n",
    "        theme(text = element_text(size = 10)) +\n",
    "        scale_x_continuous(breaks = seq(0,10, by = 1))\n",
    "    }\n",
    "\n",
    "# Make the following graphs smaller\n",
    "options(repr.plot.width=6, repr.plot.height=8)"
   ]
  },
  {
   "cell_type": "code",
   "execution_count": null,
   "id": "b4502228-c564-4d8b-88b4-e9728e92f095",
   "metadata": {},
   "outputs": [],
   "source": [
    "plot_accuracy(all_accuracy, \"all regions\",\"3\")"
   ]
  },
  {
   "cell_type": "code",
   "execution_count": null,
   "id": "bf684a11-3607-45d5-adee-576fc78cc3a7",
   "metadata": {},
   "outputs": [],
   "source": [
    "plot_accuracy(cleveland_accuracy, \"Cleveland\",\"4\")"
   ]
  },
  {
   "cell_type": "code",
   "execution_count": null,
   "id": "406f690e-57b4-4184-9415-47f47053666e",
   "metadata": {},
   "outputs": [],
   "source": [
    "plot_accuracy(hungarian_accuracy, \"Hungary\",\"5\")"
   ]
  },
  {
   "cell_type": "code",
   "execution_count": null,
   "id": "601b00e1-7184-4f92-b763-8dc0a1659824",
   "metadata": {},
   "outputs": [],
   "source": [
    "plot_accuracy(va_accuracy, \"VA Long Beach\",\"6\")"
   ]
  },
  {
   "cell_type": "markdown",
   "id": "ded4e528-c607-45f2-8647-0937b10e5e27",
   "metadata": {},
   "source": [
    "Do note that while the textbook says to pick the \"elbow\" of the graph, we let our code automatically pick the model with the highest accuracy, out of concern that our relative inexperience will lead to us picking a poor elbow and compromising the accuracy of the model."
   ]
  },
  {
   "cell_type": "markdown",
   "id": "b126dab6-dadc-4f73-a1e2-94fd530cec30",
   "metadata": {},
   "source": [
    "### Building the model and estimating its accuracy against the testing data\n",
    "We write a function that fits a KNN \"classification model using the best value of \"k\" (found during forward selection) and then estimates the accuracy with the testing set. The function returns the model's accuracy, its best value of K, and a confusion matrix for the produced model. The confusion matrices will be invaluable for getting a sense of how accurate this model is, as it cannot be easily graphed given its high dimensionality."
   ]
  },
  {
   "cell_type": "code",
   "execution_count": null,
   "id": "0bfd8d80-02d5-42f8-af02-c801954ba0cc",
   "metadata": {},
   "outputs": [],
   "source": [
    "model_and_fit <- function(accuracy_df, train_df, test_df, region=\"\"){\n",
    "    # get predictors with max accuracy\n",
    "    best_model <- accuracy_df |> slice_max(percent_accuracy, n = 1) \n",
    "    best_predictors <- best_model |> pull(model_string)\n",
    "    best_k <- best_model |> pull(k)\n",
    "    \n",
    "        df_recipe <- recipe(as.formula(best_predictors), data = train_df) |> \n",
    "            step_scale(all_predictors()) |> \n",
    "            step_center(all_predictors())\n",
    "    \n",
    "    print(paste(\"The best value of K for\", region, \"is\", best_k))\n",
    "    \n",
    "    df_spec_k <- nearest_neighbor(weight_func = \"rectangular\", neighbors = best_k) |> set_engine(\"kknn\") |> set_mode(\"classification\")\n",
    "    \n",
    "    df_fit <- workflow() |>\n",
    "        add_recipe(df_recipe) |>\n",
    "        add_model(df_spec_k) |>\n",
    "        fit(data = train_df)\n",
    "\n",
    "    df_summary <- df_fit |>\n",
    "        predict(test_df) |>\n",
    "        bind_cols(test_df) |>\n",
    "        metrics(truth = num, estimate = .pred_class) |>\n",
    "        filter(.metric == \"accuracy\") |>\n",
    "        select(.estimate) |>\n",
    "        rename(accuracy = .estimate) |>\n",
    "        pull()\n",
    "\n",
    "    df_conf_mat <- df_fit |>  predict(test_df) |>\n",
    "                              bind_cols(test_df) |>\n",
    "                              conf_mat(truth = num, estimate = .pred_class)\n",
    "    return(c(df_summary,best_k,df_conf_mat)) # return the tuple so that I can access best_k in code later\n",
    "    }\n",
    "\n",
    "# model_and_fit(switzerland_accuracy,switzerland_train,switzerland_test, \"Switzerland\")[1] # Switzerland explodes for some reason, probably due to lack of data causing unexpected inputs.\n",
    "\n",
    "\n"
   ]
  },
  {
   "cell_type": "markdown",
   "id": "cdaa2ca6-c930-418f-bc58-5a094407cb11",
   "metadata": {},
   "source": [
    "#### Calculating accuracy using test dataset: All\n",
    "\n",
    "In the cells below we call the function we wrote to estimate the accuracy of the model using the testing set. The combined dataset ends up having the best accuracy, of around 82%."
   ]
  },
  {
   "cell_type": "code",
   "execution_count": null,
   "id": "843988b0-6c0f-4a67-a0f9-32fa7ac35885",
   "metadata": {},
   "outputs": [],
   "source": [
    "all_mod <- model_and_fit(all_accuracy,all_train,all_test, \"all regions combined\")\n",
    "print(\"Table 8: Accuracy of the best model for all regions combined\") # These steps could have been added to the function, but in this position they help serve as titles too.\n",
    "all_mod[1]\n"
   ]
  },
  {
   "cell_type": "markdown",
   "id": "16ae4384-2804-437d-9519-8fa52e7358b2",
   "metadata": {},
   "source": [
    "#### Calculating accuracy using test dataset: Cleveland\n",
    "\n",
    "In the cell below we calculate the accuracy of the best model we can make using the data specifically from Cleveland."
   ]
  },
  {
   "cell_type": "code",
   "execution_count": null,
   "id": "3484eb18-8be9-4ba3-b9fc-d31bf110964a",
   "metadata": {},
   "outputs": [],
   "source": [
    "cl_mod <- model_and_fit(cleveland_accuracy,cleveland_train,cleveland_test, \"Cleveland\")\n",
    "print(\"Table 10: Accuracy of the best model for Cleveland\")\n",
    "cl_mod[1]\n"
   ]
  },
  {
   "cell_type": "markdown",
   "id": "63fd81f6-0cf0-4557-b871-a4908e7f672d",
   "metadata": {},
   "source": [
    "#### Calculating accuracy using test dataset: Hungary\n",
    "\n",
    "In the cell below we calculate the accuracy of the best model we can make using the data specifically from Hungary."
   ]
  },
  {
   "cell_type": "code",
   "execution_count": null,
   "id": "afc0f347-ffba-4568-afd0-b9841c4d3ade",
   "metadata": {},
   "outputs": [],
   "source": [
    "hu_mod <- model_and_fit(hungarian_accuracy,hungarian_train,hungarian_test, \"Hungary\")\n",
    "print(\"Table 12: Accuracy of the best model for Hungary\")\n",
    "hu_mod[1]\n"
   ]
  },
  {
   "cell_type": "markdown",
   "id": "7322e28e-c0d1-4472-a9c6-d3c2dbdc1709",
   "metadata": {},
   "source": [
    "#### Calculating accuracy using test dataset: VA Long Beach\n",
    "\n",
    "In the cell below we calculate the accuracy of the best model we can make using the data specifically from VA Long Beach."
   ]
  },
  {
   "cell_type": "code",
   "execution_count": null,
   "id": "d53a1da9-59e0-4d59-9e73-8a88950d9f92",
   "metadata": {},
   "outputs": [],
   "source": [
    "va_mod <- model_and_fit(va_accuracy,va_train,va_test, \"VA Long Beach\") \n",
    "print(\"Table 14: Accuracy of the best model for VA Long Beach\")\n",
    "va_mod[1]                                                             \n"
   ]
  },
  {
   "cell_type": "markdown",
   "id": "3e3ceaf7-29fa-4e7a-b159-82352a6e6df7",
   "metadata": {},
   "source": [
    "## Visualization of the analysis\n",
    "In this section we use visualization to provide a more concrete interpretation of the results of our analysis. Unfortunately, because we used more than two predictors for each of our models, they are not easily graphed. \n",
    "\n",
    "This being the case, the most revealing visualization we can produce is the confusion matrix for each model we generated. The confusion matrices are shown below.\n",
    "\n"
   ]
  },
  {
   "cell_type": "code",
   "execution_count": null,
   "id": "6d902a51-4ecc-47ad-9ea9-838c286e232e",
   "metadata": {},
   "outputs": [],
   "source": [
    "print(\"Table 9: Confusion Matrix for all regions combined\")\n",
    "all_mod[3]"
   ]
  },
  {
   "cell_type": "code",
   "execution_count": null,
   "id": "8e85e493-4ac6-4e2a-9941-cd0f393a0c7d",
   "metadata": {},
   "outputs": [],
   "source": [
    "print(\"Table 13: Confusion Matrix for Hungary\")\n",
    "hu_mod[3]"
   ]
  },
  {
   "cell_type": "code",
   "execution_count": null,
   "id": "207e0c9d-ea53-40f1-94e8-3ed710d2c2fa",
   "metadata": {},
   "outputs": [],
   "source": [
    "print(\"Table 11: Confusion Matrix for Cleveland\")\n",
    "cl_mod[3]"
   ]
  },
  {
   "cell_type": "code",
   "execution_count": null,
   "id": "142b9480-80c5-44af-bff3-045c6521b758",
   "metadata": {},
   "outputs": [],
   "source": [
    "print(\"Table 15: Confusion Matrix for VA Long Beach\")\n",
    "va_mod[3]"
   ]
  },
  {
   "cell_type": "markdown",
   "id": "ecc60270-9a62-4abf-906b-f6ccf82928a6",
   "metadata": {},
   "source": [
    "As a secondary visualization of the analysis, we will make a simplified version of our model that uses only two parameters so that we can graph it and observe its predictions. We use the Cleveland dataset, as it is the largest of the regional datasets. We will use the predictors of chest pain type (cp) and maximum heart rate achieved (thalach), as those were the two predictors most consistent with the majority of the data sets.  \n",
    "\n",
    "### Part 1: Find Best K for Simplified Model\n",
    "In the following cell, we identify the best value of k for our simplified, two-parameter KNN model."
   ]
  },
  {
   "cell_type": "code",
   "execution_count": null,
   "id": "5aa59a43-5ba6-43ca-8877-92839508c965",
   "metadata": {},
   "outputs": [],
   "source": [
    "# Part 1: Best K for 2 predictors\n",
    "# (Since we're unable to visualize more than 3 dimensions, we must pick only 2 predictors: I will select cp and thalach,\n",
    "# which together had pretty decent accuracy results for most of the regions)\n",
    "\n",
    "cleveland_recipe <- recipe(num ~ cp + thalach, data = cleveland_train) |> \n",
    "    step_scale(all_predictors()) |> \n",
    "    step_center(all_predictors())\n",
    " \n",
    "cl_spec_tune <- nearest_neighbor(weight_func = \"rectangular\", neighbors = tune()) |> set_engine(\"kknn\") |> set_mode(\"classification\")\n",
    "\n",
    "cl_fold <- vfold_cv(cleveland_train, v = 10, strata = num)\n",
    "\n",
    "cl_k_fit <- workflow() |>\n",
    "    add_recipe(cleveland_recipe) |>\n",
    "    add_model(cl_spec_tune) |>\n",
    "    tune_grid(resamples = cl_fold, grid = 10) |>\n",
    "    collect_metrics()\n",
    "\n",
    "cl_best_k <- cl_k_fit |> slice_max(mean, n = 1) |> select(neighbors) |> pull()\n",
    "\n",
    "\n",
    "\n",
    "# Interesting idea: plot the number of datapoints in a region vs the best value of K. This can be accomplished by counting the rows of each dataframe and binding these summarized tibbles.\n",
    "# Make the model_and_fit function return a tuple with the accuracy value and the best value of K so that I can pull those and bind them. Or just read the values off the output."
   ]
  },
  {
   "cell_type": "markdown",
   "id": "b1bed3ab-e830-4787-86eb-476c851cf18e",
   "metadata": {},
   "source": [
    "### Part 2: Fit\n",
    "\n",
    "In the next cell, we use the calculated best value of K in a new model that is fit on the training data. Here we are using the Cleveland model as it had the highest accuracy."
   ]
  },
  {
   "cell_type": "code",
   "execution_count": null,
   "id": "f714d514-5d41-402e-92eb-4a53f04d7c98",
   "metadata": {},
   "outputs": [],
   "source": [
    "# Part 2: Fit\n",
    "# We're viewing cleveland because it's the most accurate. (we've also then validated the choice of past ML researchers, who used the cleveland set exclusively as well)\n",
    "\n",
    "cleveland_spec <- nearest_neighbor(weight_func = \"rectangular\", neighbors = cl_best_k) |>\n",
    "    set_engine(\"kknn\") |>\n",
    "    set_mode(\"classification\")\n",
    "\n",
    "cleveland_fit <- workflow() |>\n",
    "    add_recipe(cleveland_recipe) |>\n",
    "    add_model(cleveland_spec) |>\n",
    "    fit(data = cleveland_train)\n"
   ]
  },
  {
   "cell_type": "markdown",
   "id": "74890901-a7b9-4d62-b538-66b4de20ba68",
   "metadata": {},
   "source": [
    "### Part 3: Predict\n",
    "\n",
    "In the following cell, we create a grid of artificial values that will be used in visualizing where a point has to fall to be classified as having heart disease or not. We predict the num variable of each of these artificial values for this same purpose. This cell uses a lot of code adapted from the textbook."
   ]
  },
  {
   "cell_type": "code",
   "execution_count": null,
   "id": "1bed0923-dd45-47e9-9ee7-394ab7a5b4e4",
   "metadata": {},
   "outputs": [],
   "source": [
    "# Part 3: Predict\n",
    "# The following code was adapted for this project from Chapter 6 of \"Data Science: A First Introduction\" by Tiffany Timbers, Trevor Campbell, and Melissa Lee.\n",
    "\n",
    "thal_grid <- seq(min(cleveland_train$thalach),\n",
    "                 max(cleveland_train$thalach),\n",
    "                 length.out = 100) # sets the desired length of the sequence\n",
    "cp_grid <- seq(min(cleveland_train$cp),\n",
    "                 max(cleveland_train$cp),\n",
    "                 length.out = 100) # sets the desired length of the sequence\n",
    "combined_grid <- as_tibble(expand.grid(thalach = thal_grid, cp = cp_grid))\n",
    "\n",
    "predicted_grid <- predict(cleveland_fit, combined_grid)\n",
    "\n",
    "prediction_table <- bind_cols(predicted_grid,combined_grid) |> rename(num = .pred_class)\n"
   ]
  },
  {
   "cell_type": "markdown",
   "id": "ab2614ab-1030-47fb-93ec-af04be079cf7",
   "metadata": {},
   "source": [
    "### Part 4: Graph\n",
    "In the next cell, we plot the whole Cleveland dataset with the chest pain variable on the x axis, and the maximum heart rate variable on the y axis of a scatterplot. The predicted grid of artificial values is plotted as well, with a large size and low alpha, as a method of visualizing which areas lead to which specific classifications. The model shows that, for patients being tested in a hospital, no chest pain strongly predicts heart disease. On the other hand, the maximum heart rate appears to have little influence as a predictor. To better visualize this, we used a histogram to see the ratio between patients with and without heart disease with the x axis as the maximum heart rate achieved. From that graph, we can see that a higher maximum heart rate tends to have a higher ratio of patients with heart disease."
   ]
  },
  {
   "cell_type": "code",
   "execution_count": null,
   "id": "5e30f224-c8ed-432a-a4d1-1658ec6a55c2",
   "metadata": {},
   "outputs": [],
   "source": [
    "# Set graph dimensions\n",
    "options(repr.plot.width=8, repr.plot.height=10)\n",
    "\n",
    "# Part 4: Graph\n",
    "ggplot() +\n",
    "    geom_point(data = cleveland_data,\n",
    "               mapping = aes(x = factor(cp), y = thalach, color = num), alpha = 0.75) +\n",
    "    geom_point(data = prediction_table,\n",
    "               mapping = aes(x = factor(cp), y = thalach, color = num), alpha = 0.02, size = 5) +\n",
    "    labs(color = \"Patient has heart disease\",\n",
    "         y = \"Thalach (maximum heart rate achieved)\",\n",
    "         x = \"Chest Pain type\",\n",
    "         title =\"Figure 6: No chest pain is a predictor for heart disease\") +\n",
    "    scale_color_manual(labels = c(\"true\"=\"heart disease present\",\"false\"=\"heart disease not present\"),\n",
    "                       values = c(\"steelblue1\", \"red1\")) +\n",
    "    scale_x_discrete(breaks=c(\"1\",\"2\",\"3\",\"4\"),\n",
    "        labels=c(\"Angina\", \"Atypical Angina\", \"Non-Angial\", \"Asymptomatic\"))+\n",
    "    theme(text = element_text(size = 15))\n",
    "    \n",
    "    \n",
    "ggplot(cleveland_data, aes(x=thalach, fill = num)) +\n",
    "    geom_histogram(bins = 10,position=\"stack\",color=\"black\") +\n",
    "    labs(fill = \"Patient has heart disease\",\n",
    "         y = \"Number of patients\",\n",
    "         x = \"Maximum Heart Rate Achieved\",\n",
    "         title =\"Figure 7: A higher max heart rate is a predictor for heart disease\") +\n",
    "    scale_fill_manual(labels = c(\"true\"=\"heart disease present\", \"false\"=\"heart disease not present\"),\n",
    "                       values = c(\"steelblue1\", \"red1\")) +\n",
    "    theme(text = element_text(size = 15))\n"
   ]
  },
  {
   "cell_type": "markdown",
   "id": "c3aca1b3-7fa9-4b7f-9451-0deca47bf37a",
   "metadata": {
    "tags": []
   },
   "source": [
    "## Discussion"
   ]
  },
  {
   "cell_type": "markdown",
   "id": "1bd6ae66-302c-4e33-ad3c-d99a247e1617",
   "metadata": {},
   "source": [
    "### Summary of Findings\n",
    "\n",
    "### Primary Data Analysis Summary\n",
    "\n",
    "Based off our data analysis using KNN classification with forward selection, we were able to create a model that can predict, with approximately 82% accuracy, if an individual has a heart disease. Thus, we were able to answer the primary question of this report: Yes, it is possible to predict whether a patient has heart disease based on a set of medical characeristics. This model is not perfect, but could see use as a supplement to a doctor's diagnosis. For the data set that combined all the regions, our optimal model found that the following properties were essential for predicting if a patient has a heart disease, in order from highest priority to lowest:\n",
    "\n",
    "1. Maximum Heart Rate achieved\n",
    "2. Chest Pain Type \n",
    "3. Exercise Induced Angina\n",
    "4. ST depression Induced by Exercise\n",
    "5. Sex\n",
    "6. Resting ECG\n",
    "7. Serum Cholestoral\n",
    "\n",
    "It was interesting to note that while the models for the individual regions usually had most of these predictors, they were never all there, and never in the same order as above. For our primary visualization we showed the accuracy of our data set with a confusion matrix, due to the high dimensionality of our model. With our secondary visualization, we chose the the two most frequent and dominant predictors (chest pain and maximum heart rate achieved) to produce a graph that shows their correlation with heart disease. As seen in Figure 6, patients who were asymptomatic in terms of chest pain were very likely to have no heart disease. This was a fact we were fortunately able to stumble open in our pre-analysis visualization, but now know for certain is true. In addition, we also plotted a histogram to see the relation between heart disease and maximum heart rate achieved. While the heart rates of patients are somewhat in a normal distribution, the ratio between patients with heart disease and those without heart disease greatly shifts in favour of heart disease as maximum heart rate increases. Both these visualizations were able to validate our model's predictors, as the correlation between them and heart disease are obvious enough to see even at a glance.\n",
    "\n",
    "### Is this what you expected to find?\n",
    "\n",
    "Thanks to our pre-data analysis, we were able to guess that chest pain would have some correlation with heart disease, but other than that we had a very vague idea about what we would find. Our research to gain more domain knowledge found that nearly all the predictors we chose for the model had one more articles indicating a relationship with heart disease. Thus, we weren't able to predict which of the variables would have a larger impact in our model, other than chest pain. Nonetheless, variables related to heart rate and chest pain, such as the maximum heart rate achieved and exercise induced angina, weren't too surprising to find as the siginificant predictors. It was interesting to note how significant sex was to predicting heart disease, and was certainly not what we expected to find.\n",
    "\n",
    "### What impact could such findings have?\n",
    "\n",
    "These findings could allow hospitals to more accurately predict if an individual has a heart disease by attempting to classify it using our data set. With an accuracy of around 82%, medical staff could reduce their workload by using this model to rule out \"easier\" diagnoses and instead focus on more difficult ones. However, we still believe this model could be improved, and should not solely be used for diagnoses. In addition, our model found that the best predictors depend on information related to heart rate and chest pain. These findings could be useful to doctors, as they could focus on tests related to these metrics when working with heart disease or other cardiovascular problems, as they are more likely to reflect of the patients condition.\n",
    "\n",
    "### What future questions could this lead to?\n",
    "\n",
    "In regards to our secondary question, we found that different predictors were more significant than others in differing regions. This is peculiar, as one would expect something as common as heart disease to occur for the same reasons globally. This begs the question: why do different regions have different variables for predicting heart disease. For example, while most regions has maximum heart rate as a significant predictor that was added early onto the model, the Hungary data set only added it to the end. In addition, another question that this report lead to was why each predictor is related to heart disease. As mentioned earlier, sex appears to have somewhat of an impact on predicting heart disease, which is surprising and could be used as the basis for further studies of its relation to heart disease. In a more general sense, this report poses the question if this type of model can be formed for all types of diseases. Heart diseases is incredibly common, which lead to a large sample size; however with rarer diseases could an accurate model still be made? "
   ]
  },
  {
   "cell_type": "markdown",
   "id": "62616ad6-c870-4105-bdf0-eff6f513459f",
   "metadata": {
    "tags": []
   },
   "source": [
    "## References"
   ]
  },
  {
   "cell_type": "markdown",
   "id": "d4ffd982-5bc1-4846-88ec-92673e9fd8f1",
   "metadata": {},
   "source": [
    "Janosi, A., Steinbrunn, W., Pfisterer, M., & Detrano, R. (1988). UCI Machine Learning Repository [ https://archive.ics.uci.edu/ml/datasets/Heart+Disease ]. Irvine, CA: University of California, School of Information and Computer Science"
   ]
  },
  {
   "cell_type": "markdown",
   "id": "95242f30-0fef-429e-a9b9-9a66f859bb9a",
   "metadata": {},
   "source": [
    "Ritchie, H., Spooner, F., &amp; Roser, M. (2018, February 14). Causes of death. Our World in Data. Retrieved December 3, 2022, from https://ourworldindata.org/causes-of-death "
   ]
  },
  {
   "cell_type": "markdown",
   "id": "5b2a090d-3ecc-4dac-a701-47fa50870a18",
   "metadata": {},
   "source": [
    "Rodgers, J. L., Jones, J., Bolleddu, S. I., Vanthenapalli, S., Rodgers, L. E., Shah, K., Karia, K., & Panguluri, S. K. (2019). Cardiovascular Risks Associated with Gender and Aging. Journal of cardiovascular development and disease, 6(2), 19. https://doi.org/10.3390/jcdd6020019"
   ]
  },
  {
   "cell_type": "markdown",
   "id": "9b66fb77-0fd4-4e89-a886-4b53d9fea2a7",
   "metadata": {},
   "source": [
    "Rawat, S. (2021, June 28). Heart disease prediction. Medium. Retrieved December 3, 2022, from https://towardsdatascience.com/heart-disease-prediction-73468d630cfc "
   ]
  },
  {
   "cell_type": "markdown",
   "id": "09920c1b-3057-42b1-b282-dd41c1cb3061",
   "metadata": {},
   "source": [
    "NHS. (n.d., 2020). Causes - Coronary heart disease. NHS choices. Retrieved December 3, 2022, from https://www.nhs.uk/conditions/coronary-heart-disease/causes/ "
   ]
  },
  {
   "cell_type": "markdown",
   "id": "24300da7-f9a3-41f9-89f6-86553d7c1397",
   "metadata": {},
   "source": [
    "Kaolawanich, Y., & Boonyasirinant, T. (2020). Incremental prognostic value of aortic stiffness in addition to myocardial ischemia by cardiac magnetic resonance imaging. BMC cardiovascular disorders, 20(1), 287. https://doi.org/10.1186/s12872-020-01550-w"
   ]
  },
  {
   "cell_type": "markdown",
   "id": "3ad58d14-ec76-42bb-87af-34860e85bde9",
   "metadata": {},
   "source": [
    "Perret-Guillaume, C., Joly, L., & Benetos, A. (2009). Heart rate as a risk factor for cardiovascular disease. Progress in cardiovascular diseases, 52(1), 6–10. https://doi.org/10.1016/j.pcad.2009.05.003"
   ]
  },
  {
   "cell_type": "markdown",
   "id": "489ef3e5-a499-4714-ba2f-77ee3c6af5d3",
   "metadata": {},
   "source": [
    "Heran, B. S., Chen, J. M., Ebrahim, S., Moxham, T., Oldridge, N., Rees, K., Thompson, D. R., & Taylor, R. S. (2011). Exercise-based cardiac rehabilitation for coronary heart disease. The Cochrane database of systematic reviews, (7), CD001800. https://doi.org/10.1002/14651858.CD001800.pub2"
   ]
  },
  {
   "cell_type": "markdown",
   "id": "9c8347fc-f6de-49e9-8eba-3a8cd453c236",
   "metadata": {},
   "source": [
    "Timbers, T., Campbell, T., &amp; Lee, M. (2022). Data Science a first introduction. CRC Press, Taylor &amp; Francis Group. "
   ]
  },
  {
   "cell_type": "markdown",
   "id": "a7bc5031-b062-4fdd-8ce0-952b27713ea6",
   "metadata": {},
   "source": [
    "Watanabe, T., Akutsu, Y., Yamanaka, H., Michihata, T., Okazaki, O., Katagiri, T., & Harumi, K. (2000). Exercise-induced ST-segment depression: imbalance between myocardial oxygen demand and myocardial blood flow. Acta cardiologica, 55(1), 25–31. https://doi.org/10.2143/AC.55.1.2005714"
   ]
  }
 ],
 "metadata": {
  "kernelspec": {
   "display_name": "R",
   "language": "R",
   "name": "ir"
  },
  "language_info": {
   "codemirror_mode": "r",
   "file_extension": ".r",
   "mimetype": "text/x-r-source",
   "name": "R",
   "pygments_lexer": "r",
   "version": "4.1.3"
  }
 },
 "nbformat": 4,
 "nbformat_minor": 5
}
