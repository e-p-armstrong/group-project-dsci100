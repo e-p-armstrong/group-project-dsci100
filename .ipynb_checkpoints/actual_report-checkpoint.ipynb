{
 "cells": [
  {
   "cell_type": "markdown",
   "id": "bdf633a9-30fc-402f-bfed-4546ed31c49f",
   "metadata": {
    "tags": []
   },
   "source": [
    "# Predicting Heart Disease Based On Physical Characteristics of Patients"
   ]
  },
  {
   "cell_type": "markdown",
   "id": "4011bf46-9235-485e-a640-6e862d490996",
   "metadata": {},
   "source": [
    "# Introduction\n",
    "\n",
    "Heart disease is an often-lethal condition, and being able to accurately predict if patients have it, based on easy-to-observe qualities, would allow for quicker action from doctors and better patient outcomes. So here we ask the question: is it possible to predict whether a patient has heart disease based on a set of measurable factors? To build a model that could answer this, we used the publicly-available heart disease dataset donated by the Hungarian Institute of Cardiology, the University Hospitals of Zurich and Basel, the V. A. Medical Center of Long Beach, and the Cleveland Clinic Foundation. Each row in this dataset represents a patient, and the columns store physical, health-related information about each patient — such as their age, sex, type of chest pain, and resting blood pressure. There are 14 variables in total. The column we are attempting to predict has values of either “true” or “false”, indicating whether a patient has some variety of heart disease. The dataset contains four databases, each with around 100 to 300 patients, donated by institutions in Switzerland, Hungary, and two locations in America. We trained and tested our model on data from all of the databases, as this gives us a larger sample size, and an additional variable to work with (region). This brings the total number of columns in our dataset to 15."
   ]
  },
  {
   "cell_type": "markdown",
   "id": "2e3952a6-c34a-470f-93cb-14dd6e0a01b2",
   "metadata": {},
   "source": [
    "# Methods and Results\n",
    "\n",
    "\n",
    "\n",
    "In this analysis we build a model for each database in our dataset, and another model for all the databases combined. We use the KNN (K-nearest neighbours) classification algorithm to build our predictive model, and we employ forward selection (Campbell et al., 2022, section 6.8.2) to identify the best combination of predictors out of an initial set of theoretically-plausible ones. We also use cross-validation to pick the best \"K\" parameter for our model. Model accuracy is eventually evaluated against a testing dataset, the accuracy of the model for each region's model is calculated, the results of the model are displayed in a confusion matrix. \n",
    "\n",
    "Any variable which is experimentally linked to heart disease is considered as predictor. The variables we are considering for our predictive model, and our reasons for including them, are: \n",
    "\n",
    "1. Age (column name: age)<br>\n",
    "    Regarded as the most important risk factor in developing heart disease, risk approximately triples every decade for individuals (!source). This correlation may make it a good predictor.\n",
    "\n",
    "1. Sex (column name: sex) <br>\n",
    "    It has been established that men are at a greater risk of heart disease than pre-menopausal women (!source). There is also evidence that women with diabetes are more likely to develop heart disease than men with the same condition. \n",
    "    \n",
    "1. chest pain (column name: cp) <br>\n",
    "    ...\n",
    "    \n",
    "1. resting blood pressure (column name: restbps) <br>\n",
    "    It is well-documented that high blood pressure, over long periods of time can damage arteries that feed the heart, and may increase risk of heart disease (!source).\n",
    "    \n",
    "1. Serum Cholesterol <br>\n",
    "    abnormally high levels of low-desnity lipoprotein cholesterol can narrow arteries and contribute to heart issues (!source). \n",
    "\n",
    "1. resting ECG (column name: restecg) <br>\n",
    "    Resting electrocardiography is an established test that can be used to detect hints of certain varieties of heart disease (!source https://www.ncbi.nlm.nih.gov/books/NBK367910/#:~:text=Introduction,hypertrophy%20and%20bundle%20branch%20blocks.)\n",
    "    \n",
    "1. Max Heart Rate Achieved/Thalach (column name: thalach) <br>\n",
    "    Increases in heart rate has been associated with risk of cardiac death; 10 more beats per minute can yield a 20% higher risk of cardiac death (!source).\n",
    "    \n",
    "1. exercise induced angina (column name: exang) <br>\n",
    "    Exercise-induced angia is chest pain that a patient experiences while exercising, and has been linked to heart disease in the past (!source). \n",
    "    \n",
    "1. peak exercise (column name: oldpeak) <br>\n",
    "    Sometimes patients who are being tested for heart disease are made to run on a treadmill while wearing an ECG; depending on the results of this test, a patient may be referred to further urgent testing.\n",
    "\n",
    "We attempt to keep the number of predictors considered low as too many predictors can interfere with the accuracy of forward selection (Campbell et al., 2022, section 6.8.2, para. 8).\n",
    "\n",
    "A scatterplot is used to visualize the predictions of an approximate version of the model, but this plot is neccessarily not a perfect representation due to the use of more than three variables by the final model, which precludes intuitive visualization.\n",
    "\n",
    "This code should take roughly 1100 seconds to run."
   ]
  },
  {
   "cell_type": "markdown",
   "id": "ecfea2c2-83ef-477e-9e24-368fdd206d86",
   "metadata": {},
   "source": [
    "## Preliminary Exploratory Data Analysis"
   ]
  },
  {
   "cell_type": "markdown",
   "id": "59612134-9de0-401c-897e-e9b099955e5b",
   "metadata": {
    "tags": []
   },
   "source": [
    "### Imports"
   ]
  },
  {
   "cell_type": "code",
   "execution_count": 1,
   "id": "67a9c354-41d0-4f63-b4ff-4cf62e85d59f",
   "metadata": {},
   "outputs": [
    {
     "name": "stderr",
     "output_type": "stream",
     "text": [
      "── \u001b[1mAttaching packages\u001b[22m ─────────────────────────────────────── tidyverse 1.3.1 ──\n",
      "\n",
      "\u001b[32m✔\u001b[39m \u001b[34mggplot2\u001b[39m 3.3.6     \u001b[32m✔\u001b[39m \u001b[34mpurrr  \u001b[39m 0.3.4\n",
      "\u001b[32m✔\u001b[39m \u001b[34mtibble \u001b[39m 3.1.7     \u001b[32m✔\u001b[39m \u001b[34mdplyr  \u001b[39m 1.0.9\n",
      "\u001b[32m✔\u001b[39m \u001b[34mtidyr  \u001b[39m 1.2.0     \u001b[32m✔\u001b[39m \u001b[34mstringr\u001b[39m 1.4.0\n",
      "\u001b[32m✔\u001b[39m \u001b[34mreadr  \u001b[39m 2.1.2     \u001b[32m✔\u001b[39m \u001b[34mforcats\u001b[39m 0.5.1\n",
      "\n",
      "── \u001b[1mConflicts\u001b[22m ────────────────────────────────────────── tidyverse_conflicts() ──\n",
      "\u001b[31m✖\u001b[39m \u001b[34mdplyr\u001b[39m::\u001b[32mfilter()\u001b[39m masks \u001b[34mstats\u001b[39m::filter()\n",
      "\u001b[31m✖\u001b[39m \u001b[34mdplyr\u001b[39m::\u001b[32mlag()\u001b[39m    masks \u001b[34mstats\u001b[39m::lag()\n",
      "\n",
      "── \u001b[1mAttaching packages\u001b[22m ────────────────────────────────────── tidymodels 1.0.0 ──\n",
      "\n",
      "\u001b[32m✔\u001b[39m \u001b[34mbroom       \u001b[39m 1.0.0     \u001b[32m✔\u001b[39m \u001b[34mrsample     \u001b[39m 1.0.0\n",
      "\u001b[32m✔\u001b[39m \u001b[34mdials       \u001b[39m 1.0.0     \u001b[32m✔\u001b[39m \u001b[34mtune        \u001b[39m 1.0.0\n",
      "\u001b[32m✔\u001b[39m \u001b[34minfer       \u001b[39m 1.0.2     \u001b[32m✔\u001b[39m \u001b[34mworkflows   \u001b[39m 1.0.0\n",
      "\u001b[32m✔\u001b[39m \u001b[34mmodeldata   \u001b[39m 1.0.0     \u001b[32m✔\u001b[39m \u001b[34mworkflowsets\u001b[39m 1.0.0\n",
      "\u001b[32m✔\u001b[39m \u001b[34mparsnip     \u001b[39m 1.0.0     \u001b[32m✔\u001b[39m \u001b[34myardstick   \u001b[39m 1.0.0\n",
      "\u001b[32m✔\u001b[39m \u001b[34mrecipes     \u001b[39m 1.0.1     \n",
      "\n",
      "── \u001b[1mConflicts\u001b[22m ───────────────────────────────────────── tidymodels_conflicts() ──\n",
      "\u001b[31m✖\u001b[39m \u001b[34mscales\u001b[39m::\u001b[32mdiscard()\u001b[39m masks \u001b[34mpurrr\u001b[39m::discard()\n",
      "\u001b[31m✖\u001b[39m \u001b[34mdplyr\u001b[39m::\u001b[32mfilter()\u001b[39m   masks \u001b[34mstats\u001b[39m::filter()\n",
      "\u001b[31m✖\u001b[39m \u001b[34mrecipes\u001b[39m::\u001b[32mfixed()\u001b[39m  masks \u001b[34mstringr\u001b[39m::fixed()\n",
      "\u001b[31m✖\u001b[39m \u001b[34mdplyr\u001b[39m::\u001b[32mlag()\u001b[39m      masks \u001b[34mstats\u001b[39m::lag()\n",
      "\u001b[31m✖\u001b[39m \u001b[34myardstick\u001b[39m::\u001b[32mspec()\u001b[39m masks \u001b[34mreadr\u001b[39m::spec()\n",
      "\u001b[31m✖\u001b[39m \u001b[34mrecipes\u001b[39m::\u001b[32mstep()\u001b[39m   masks \u001b[34mstats\u001b[39m::step()\n",
      "\u001b[34m•\u001b[39m Use suppressPackageStartupMessages() to eliminate package startup messages\n",
      "\n"
     ]
    }
   ],
   "source": [
    "# load libraries\n",
    "library(tidyverse)\n",
    "library(repr)\n",
    "library(tidymodels)\n",
    "\n",
    "options(repr.matrix.max.rows = 6) # change how tables are displayed\n",
    "set.seed(1048596) # arbitrary seed number picked as an obscure reference to Steins;Gate."
   ]
  },
  {
   "cell_type": "markdown",
   "id": "0f282247-bb0a-42b6-8f3d-85c2f53e10eb",
   "metadata": {},
   "source": [
    "### Reading and tidying the data: to start with, a function\n",
    "\n",
    "A key concept in programming is DRY — Don't Repeat Yourself — and so we start by writing a function which performs some of the more repetitive tasks on a freshly-loaded dataframe for us. This includes selecting the columns above, creating a \"region\" column (this will not be used as a predictor, but *will* help with separating and visualizing the data), and changing some variables from characters to numeric types. "
   ]
  },
  {
   "cell_type": "code",
   "execution_count": 2,
   "id": "67cac22c-281b-48a5-a7aa-4ef6ebbceeb3",
   "metadata": {},
   "outputs": [],
   "source": [
    "# Function to tidy up each of the separate datasets\n",
    "# Discovery: in the non-cleveland sets, many of the more obscure columns have missing values in some rows. If you filter out all the rows that don't have missing values anywhere you sometimes end up with none from that set.\n",
    "\n",
    "tidy_heart_data <- function(df, region=\"\") {\n",
    "    colnames(df) <- column_names\n",
    "    df <- mutate(df, region=region)\n",
    "    df$num<-ifelse(df$num==0,\"true\",\"false\")\n",
    "    if (region != \"\") {\n",
    "        df <- mutate(df, region=as.factor(region))\n",
    "        }\n",
    "    return (df |> select(num,\n",
    "                         age, #\n",
    "                         region,\n",
    "                         cp, #\n",
    "                         sex,#\n",
    "                         thalach, #\n",
    "                         trestbps, #\n",
    "                         chol, #\n",
    "                         fbs, #\n",
    "                         restecg, #\n",
    "                         exang, #\n",
    "                         oldpeak, #\n",
    "                         \n",
    "                        ) |> # Filter out NA values, and values that do not make physical sense\n",
    "                          filter(cp!=\"?\", \n",
    "                                 sex!=\"?\",\n",
    "                                 thalach!=\"?\",\n",
    "                                 trestbps!=\"?\",\n",
    "                                 trestbps!=\"0\", # a blood pressure of 0 is impossible\n",
    "                                 chol!=\"?\",\n",
    "                                 fbs!=\"?\",\n",
    "                                 restecg!=\"?\",\n",
    "                                 exang!=\"?\",\n",
    "                                 oldpeak!=\"?\",)|>\n",
    "                                 \n",
    "                        \n",
    "                          mutate(region=as.factor(region),\n",
    "                                 sex=as.numeric(sex),\n",
    "                                 cp=as.numeric(cp),\n",
    "                                 thalach=as.numeric(thalach),\n",
    "                                 trestbps=as.numeric(trestbps),\n",
    "                                 chol=as.numeric(chol),\n",
    "                                 fbs=as.numeric(fbs),\n",
    "                                 restecg=as.numeric(restecg),\n",
    "                                 exang=as.numeric(exang),\n",
    "                                 oldpeak=as.numeric(oldpeak),\n",
    "                                 # slope=as.numeric(slope),\n",
    "                                 # ca=as.numeric(ca),\n",
    "                                 # thal=as.numeric(thal),\n",
    "                                 num = as.factor(num)))\n",
    "    }\n",
    "\n",
    "column_names <-c(\"age\",\"sex\",\"cp\",\"trestbps\",\"chol\",\"fbs\",\"restecg\",\"thalach\",\"exang\",\"oldpeak\",\"slope\",\"ca\",\"thal\",\"num\")"
   ]
  },
  {
   "cell_type": "markdown",
   "id": "db0c4fbf-2c21-4478-b28b-aa12f19d7c18",
   "metadata": {},
   "source": [
    "### Reading and tidying the data: Calling the function\n",
    "The cells below each call the above function with the freshly-loaded dataframe, and the region name corresponding to the loaded region. "
   ]
  },
  {
   "cell_type": "code",
   "execution_count": 3,
   "id": "71ef0db6-4345-4d2f-aec0-f8463593884f",
   "metadata": {},
   "outputs": [
    {
     "name": "stderr",
     "output_type": "stream",
     "text": [
      "\u001b[1mRows: \u001b[22m\u001b[34m303\u001b[39m \u001b[1mColumns: \u001b[22m\u001b[34m14\u001b[39m\n",
      "\u001b[36m──\u001b[39m \u001b[1mColumn specification\u001b[22m \u001b[36m────────────────────────────────────────────────────────\u001b[39m\n",
      "\u001b[1mDelimiter:\u001b[22m \",\"\n",
      "\u001b[31mchr\u001b[39m  (2): X12, X13\n",
      "\u001b[32mdbl\u001b[39m (12): X1, X2, X3, X4, X5, X6, X7, X8, X9, X10, X11, X14\n",
      "\n",
      "\u001b[36mℹ\u001b[39m Use `spec()` to retrieve the full column specification for this data.\n",
      "\u001b[36mℹ\u001b[39m Specify the column types or set `show_col_types = FALSE` to quiet this message.\n"
     ]
    },
    {
     "name": "stdout",
     "output_type": "stream",
     "text": [
      "[1] \"Table 1: Cleveland dataset (tidied and filtered)\"\n"
     ]
    },
    {
     "data": {
      "text/html": [
       "<table class=\"dataframe\">\n",
       "<caption>A tibble: 303 × 12</caption>\n",
       "<thead>\n",
       "\t<tr><th scope=col>num</th><th scope=col>age</th><th scope=col>region</th><th scope=col>cp</th><th scope=col>sex</th><th scope=col>thalach</th><th scope=col>trestbps</th><th scope=col>chol</th><th scope=col>fbs</th><th scope=col>restecg</th><th scope=col>exang</th><th scope=col>oldpeak</th></tr>\n",
       "\t<tr><th scope=col>&lt;fct&gt;</th><th scope=col>&lt;dbl&gt;</th><th scope=col>&lt;fct&gt;</th><th scope=col>&lt;dbl&gt;</th><th scope=col>&lt;dbl&gt;</th><th scope=col>&lt;dbl&gt;</th><th scope=col>&lt;dbl&gt;</th><th scope=col>&lt;dbl&gt;</th><th scope=col>&lt;dbl&gt;</th><th scope=col>&lt;dbl&gt;</th><th scope=col>&lt;dbl&gt;</th><th scope=col>&lt;dbl&gt;</th></tr>\n",
       "</thead>\n",
       "<tbody>\n",
       "\t<tr><td>true </td><td>63</td><td>C</td><td>1</td><td>1</td><td>150</td><td>145</td><td>233</td><td>1</td><td>2</td><td>0</td><td>2.3</td></tr>\n",
       "\t<tr><td>false</td><td>67</td><td>C</td><td>4</td><td>1</td><td>108</td><td>160</td><td>286</td><td>0</td><td>2</td><td>1</td><td>1.5</td></tr>\n",
       "\t<tr><td>false</td><td>67</td><td>C</td><td>4</td><td>1</td><td>129</td><td>120</td><td>229</td><td>0</td><td>2</td><td>1</td><td>2.6</td></tr>\n",
       "\t<tr><td>⋮</td><td>⋮</td><td>⋮</td><td>⋮</td><td>⋮</td><td>⋮</td><td>⋮</td><td>⋮</td><td>⋮</td><td>⋮</td><td>⋮</td><td>⋮</td></tr>\n",
       "\t<tr><td>false</td><td>57</td><td>C</td><td>4</td><td>1</td><td>115</td><td>130</td><td>131</td><td>0</td><td>0</td><td>1</td><td>1.2</td></tr>\n",
       "\t<tr><td>false</td><td>57</td><td>C</td><td>2</td><td>0</td><td>174</td><td>130</td><td>236</td><td>0</td><td>2</td><td>0</td><td>0.0</td></tr>\n",
       "\t<tr><td>true </td><td>38</td><td>C</td><td>3</td><td>1</td><td>173</td><td>138</td><td>175</td><td>0</td><td>0</td><td>0</td><td>0.0</td></tr>\n",
       "</tbody>\n",
       "</table>\n"
      ],
      "text/latex": [
       "A tibble: 303 × 12\n",
       "\\begin{tabular}{llllllllllll}\n",
       " num & age & region & cp & sex & thalach & trestbps & chol & fbs & restecg & exang & oldpeak\\\\\n",
       " <fct> & <dbl> & <fct> & <dbl> & <dbl> & <dbl> & <dbl> & <dbl> & <dbl> & <dbl> & <dbl> & <dbl>\\\\\n",
       "\\hline\n",
       "\t true  & 63 & C & 1 & 1 & 150 & 145 & 233 & 1 & 2 & 0 & 2.3\\\\\n",
       "\t false & 67 & C & 4 & 1 & 108 & 160 & 286 & 0 & 2 & 1 & 1.5\\\\\n",
       "\t false & 67 & C & 4 & 1 & 129 & 120 & 229 & 0 & 2 & 1 & 2.6\\\\\n",
       "\t ⋮ & ⋮ & ⋮ & ⋮ & ⋮ & ⋮ & ⋮ & ⋮ & ⋮ & ⋮ & ⋮ & ⋮\\\\\n",
       "\t false & 57 & C & 4 & 1 & 115 & 130 & 131 & 0 & 0 & 1 & 1.2\\\\\n",
       "\t false & 57 & C & 2 & 0 & 174 & 130 & 236 & 0 & 2 & 0 & 0.0\\\\\n",
       "\t true  & 38 & C & 3 & 1 & 173 & 138 & 175 & 0 & 0 & 0 & 0.0\\\\\n",
       "\\end{tabular}\n"
      ],
      "text/markdown": [
       "\n",
       "A tibble: 303 × 12\n",
       "\n",
       "| num &lt;fct&gt; | age &lt;dbl&gt; | region &lt;fct&gt; | cp &lt;dbl&gt; | sex &lt;dbl&gt; | thalach &lt;dbl&gt; | trestbps &lt;dbl&gt; | chol &lt;dbl&gt; | fbs &lt;dbl&gt; | restecg &lt;dbl&gt; | exang &lt;dbl&gt; | oldpeak &lt;dbl&gt; |\n",
       "|---|---|---|---|---|---|---|---|---|---|---|---|\n",
       "| true  | 63 | C | 1 | 1 | 150 | 145 | 233 | 1 | 2 | 0 | 2.3 |\n",
       "| false | 67 | C | 4 | 1 | 108 | 160 | 286 | 0 | 2 | 1 | 1.5 |\n",
       "| false | 67 | C | 4 | 1 | 129 | 120 | 229 | 0 | 2 | 1 | 2.6 |\n",
       "| ⋮ | ⋮ | ⋮ | ⋮ | ⋮ | ⋮ | ⋮ | ⋮ | ⋮ | ⋮ | ⋮ | ⋮ |\n",
       "| false | 57 | C | 4 | 1 | 115 | 130 | 131 | 0 | 0 | 1 | 1.2 |\n",
       "| false | 57 | C | 2 | 0 | 174 | 130 | 236 | 0 | 2 | 0 | 0.0 |\n",
       "| true  | 38 | C | 3 | 1 | 173 | 138 | 175 | 0 | 0 | 0 | 0.0 |\n",
       "\n"
      ],
      "text/plain": [
       "    num   age region cp sex thalach trestbps chol fbs restecg exang oldpeak\n",
       "1   true  63  C      1  1   150     145      233  1   2       0     2.3    \n",
       "2   false 67  C      4  1   108     160      286  0   2       1     1.5    \n",
       "3   false 67  C      4  1   129     120      229  0   2       1     2.6    \n",
       "⋮   ⋮     ⋮   ⋮      ⋮  ⋮   ⋮       ⋮        ⋮    ⋮   ⋮       ⋮     ⋮      \n",
       "301 false 57  C      4  1   115     130      131  0   0       1     1.2    \n",
       "302 false 57  C      2  0   174     130      236  0   2       0     0.0    \n",
       "303 true  38  C      3  1   173     138      175  0   0       0     0.0    "
      ]
     },
     "metadata": {},
     "output_type": "display_data"
    }
   ],
   "source": [
    "# Load and tidy Cleveland dataset\n",
    "cleveland_data<- read_delim(\"https://archive.ics.uci.edu/ml/machine-learning-databases/heart-disease/processed.cleveland.data\",\n",
    "                         col_name = FALSE)\n",
    "cleveland_data <- tidy_heart_data(cleveland_data,\"C\")\n",
    "\n",
    "print(\"Table 1: Cleveland dataset (tidied and filtered)\")\n",
    "cleveland_data               \n",
    "# Table 1"
   ]
  },
  {
   "cell_type": "code",
   "execution_count": 4,
   "id": "d35bfc8b-3478-4a34-b0d4-3035cc09149c",
   "metadata": {},
   "outputs": [
    {
     "name": "stderr",
     "output_type": "stream",
     "text": [
      "\u001b[1mRows: \u001b[22m\u001b[34m294\u001b[39m \u001b[1mColumns: \u001b[22m\u001b[34m14\u001b[39m\n",
      "\u001b[36m──\u001b[39m \u001b[1mColumn specification\u001b[22m \u001b[36m────────────────────────────────────────────────────────\u001b[39m\n",
      "\u001b[1mDelimiter:\u001b[22m \",\"\n",
      "\u001b[31mchr\u001b[39m (9): X4, X5, X6, X7, X8, X9, X11, X12, X13\n",
      "\u001b[32mdbl\u001b[39m (5): X1, X2, X3, X10, X14\n",
      "\n",
      "\u001b[36mℹ\u001b[39m Use `spec()` to retrieve the full column specification for this data.\n",
      "\u001b[36mℹ\u001b[39m Specify the column types or set `show_col_types = FALSE` to quiet this message.\n"
     ]
    },
    {
     "name": "stdout",
     "output_type": "stream",
     "text": [
      "[1] \"Table 2: Hungarian dataset (tidied and filtered)\"\n"
     ]
    },
    {
     "data": {
      "text/html": [
       "<table class=\"dataframe\">\n",
       "<caption>A tibble: 261 × 12</caption>\n",
       "<thead>\n",
       "\t<tr><th scope=col>num</th><th scope=col>age</th><th scope=col>region</th><th scope=col>cp</th><th scope=col>sex</th><th scope=col>thalach</th><th scope=col>trestbps</th><th scope=col>chol</th><th scope=col>fbs</th><th scope=col>restecg</th><th scope=col>exang</th><th scope=col>oldpeak</th></tr>\n",
       "\t<tr><th scope=col>&lt;fct&gt;</th><th scope=col>&lt;dbl&gt;</th><th scope=col>&lt;fct&gt;</th><th scope=col>&lt;dbl&gt;</th><th scope=col>&lt;dbl&gt;</th><th scope=col>&lt;dbl&gt;</th><th scope=col>&lt;dbl&gt;</th><th scope=col>&lt;dbl&gt;</th><th scope=col>&lt;dbl&gt;</th><th scope=col>&lt;dbl&gt;</th><th scope=col>&lt;dbl&gt;</th><th scope=col>&lt;dbl&gt;</th></tr>\n",
       "</thead>\n",
       "<tbody>\n",
       "\t<tr><td>true</td><td>28</td><td>H</td><td>2</td><td>1</td><td>185</td><td>130</td><td>132</td><td>0</td><td>2</td><td>0</td><td>0</td></tr>\n",
       "\t<tr><td>true</td><td>29</td><td>H</td><td>2</td><td>1</td><td>160</td><td>120</td><td>243</td><td>0</td><td>0</td><td>0</td><td>0</td></tr>\n",
       "\t<tr><td>true</td><td>30</td><td>H</td><td>1</td><td>0</td><td>170</td><td>170</td><td>237</td><td>0</td><td>1</td><td>0</td><td>0</td></tr>\n",
       "\t<tr><td>⋮</td><td>⋮</td><td>⋮</td><td>⋮</td><td>⋮</td><td>⋮</td><td>⋮</td><td>⋮</td><td>⋮</td><td>⋮</td><td>⋮</td><td>⋮</td></tr>\n",
       "\t<tr><td>false</td><td>56</td><td>H</td><td>4</td><td>1</td><td>150</td><td>155</td><td>342</td><td>1</td><td>0</td><td>1</td><td>3</td></tr>\n",
       "\t<tr><td>false</td><td>58</td><td>H</td><td>2</td><td>0</td><td>110</td><td>180</td><td>393</td><td>0</td><td>0</td><td>1</td><td>1</td></tr>\n",
       "\t<tr><td>false</td><td>65</td><td>H</td><td>4</td><td>1</td><td>115</td><td>130</td><td>275</td><td>0</td><td>1</td><td>1</td><td>1</td></tr>\n",
       "</tbody>\n",
       "</table>\n"
      ],
      "text/latex": [
       "A tibble: 261 × 12\n",
       "\\begin{tabular}{llllllllllll}\n",
       " num & age & region & cp & sex & thalach & trestbps & chol & fbs & restecg & exang & oldpeak\\\\\n",
       " <fct> & <dbl> & <fct> & <dbl> & <dbl> & <dbl> & <dbl> & <dbl> & <dbl> & <dbl> & <dbl> & <dbl>\\\\\n",
       "\\hline\n",
       "\t true & 28 & H & 2 & 1 & 185 & 130 & 132 & 0 & 2 & 0 & 0\\\\\n",
       "\t true & 29 & H & 2 & 1 & 160 & 120 & 243 & 0 & 0 & 0 & 0\\\\\n",
       "\t true & 30 & H & 1 & 0 & 170 & 170 & 237 & 0 & 1 & 0 & 0\\\\\n",
       "\t ⋮ & ⋮ & ⋮ & ⋮ & ⋮ & ⋮ & ⋮ & ⋮ & ⋮ & ⋮ & ⋮ & ⋮\\\\\n",
       "\t false & 56 & H & 4 & 1 & 150 & 155 & 342 & 1 & 0 & 1 & 3\\\\\n",
       "\t false & 58 & H & 2 & 0 & 110 & 180 & 393 & 0 & 0 & 1 & 1\\\\\n",
       "\t false & 65 & H & 4 & 1 & 115 & 130 & 275 & 0 & 1 & 1 & 1\\\\\n",
       "\\end{tabular}\n"
      ],
      "text/markdown": [
       "\n",
       "A tibble: 261 × 12\n",
       "\n",
       "| num &lt;fct&gt; | age &lt;dbl&gt; | region &lt;fct&gt; | cp &lt;dbl&gt; | sex &lt;dbl&gt; | thalach &lt;dbl&gt; | trestbps &lt;dbl&gt; | chol &lt;dbl&gt; | fbs &lt;dbl&gt; | restecg &lt;dbl&gt; | exang &lt;dbl&gt; | oldpeak &lt;dbl&gt; |\n",
       "|---|---|---|---|---|---|---|---|---|---|---|---|\n",
       "| true | 28 | H | 2 | 1 | 185 | 130 | 132 | 0 | 2 | 0 | 0 |\n",
       "| true | 29 | H | 2 | 1 | 160 | 120 | 243 | 0 | 0 | 0 | 0 |\n",
       "| true | 30 | H | 1 | 0 | 170 | 170 | 237 | 0 | 1 | 0 | 0 |\n",
       "| ⋮ | ⋮ | ⋮ | ⋮ | ⋮ | ⋮ | ⋮ | ⋮ | ⋮ | ⋮ | ⋮ | ⋮ |\n",
       "| false | 56 | H | 4 | 1 | 150 | 155 | 342 | 1 | 0 | 1 | 3 |\n",
       "| false | 58 | H | 2 | 0 | 110 | 180 | 393 | 0 | 0 | 1 | 1 |\n",
       "| false | 65 | H | 4 | 1 | 115 | 130 | 275 | 0 | 1 | 1 | 1 |\n",
       "\n"
      ],
      "text/plain": [
       "    num   age region cp sex thalach trestbps chol fbs restecg exang oldpeak\n",
       "1   true  28  H      2  1   185     130      132  0   2       0     0      \n",
       "2   true  29  H      2  1   160     120      243  0   0       0     0      \n",
       "3   true  30  H      1  0   170     170      237  0   1       0     0      \n",
       "⋮   ⋮     ⋮   ⋮      ⋮  ⋮   ⋮       ⋮        ⋮    ⋮   ⋮       ⋮     ⋮      \n",
       "259 false 56  H      4  1   150     155      342  1   0       1     3      \n",
       "260 false 58  H      2  0   110     180      393  0   0       1     1      \n",
       "261 false 65  H      4  1   115     130      275  0   1       1     1      "
      ]
     },
     "metadata": {},
     "output_type": "display_data"
    }
   ],
   "source": [
    "# Load and tidy Hungary dataset\n",
    "hungarian_data<-read_delim(\"https://archive.ics.uci.edu/ml/machine-learning-databases/heart-disease/processed.hungarian.data\",\n",
    "                          col_name = FALSE)\n",
    "hungarian_data <- tidy_heart_data(hungarian_data,\"H\")\n",
    "\n",
    "print(\"Table 2: Hungarian dataset (tidied and filtered)\")\n",
    "hungarian_data\n",
    "# Table 2"
   ]
  },
  {
   "cell_type": "code",
   "execution_count": 5,
   "id": "d8e0317b-2e9e-448b-a8f4-df1c8a947517",
   "metadata": {},
   "outputs": [
    {
     "name": "stderr",
     "output_type": "stream",
     "text": [
      "\u001b[1mRows: \u001b[22m\u001b[34m123\u001b[39m \u001b[1mColumns: \u001b[22m\u001b[34m14\u001b[39m\n",
      "\u001b[36m──\u001b[39m \u001b[1mColumn specification\u001b[22m \u001b[36m────────────────────────────────────────────────────────\u001b[39m\n",
      "\u001b[1mDelimiter:\u001b[22m \",\"\n",
      "\u001b[31mchr\u001b[39m (9): X4, X6, X7, X8, X9, X10, X11, X12, X13\n",
      "\u001b[32mdbl\u001b[39m (5): X1, X2, X3, X5, X14\n",
      "\n",
      "\u001b[36mℹ\u001b[39m Use `spec()` to retrieve the full column specification for this data.\n",
      "\u001b[36mℹ\u001b[39m Specify the column types or set `show_col_types = FALSE` to quiet this message.\n"
     ]
    },
    {
     "name": "stdout",
     "output_type": "stream",
     "text": [
      "[1] \"Table 3: Switzerland dataset (tidied and filtered)\"\n"
     ]
    },
    {
     "data": {
      "text/html": [
       "<table class=\"dataframe\">\n",
       "<caption>A tibble: 46 × 12</caption>\n",
       "<thead>\n",
       "\t<tr><th scope=col>num</th><th scope=col>age</th><th scope=col>region</th><th scope=col>cp</th><th scope=col>sex</th><th scope=col>thalach</th><th scope=col>trestbps</th><th scope=col>chol</th><th scope=col>fbs</th><th scope=col>restecg</th><th scope=col>exang</th><th scope=col>oldpeak</th></tr>\n",
       "\t<tr><th scope=col>&lt;fct&gt;</th><th scope=col>&lt;dbl&gt;</th><th scope=col>&lt;fct&gt;</th><th scope=col>&lt;dbl&gt;</th><th scope=col>&lt;dbl&gt;</th><th scope=col>&lt;dbl&gt;</th><th scope=col>&lt;dbl&gt;</th><th scope=col>&lt;dbl&gt;</th><th scope=col>&lt;dbl&gt;</th><th scope=col>&lt;dbl&gt;</th><th scope=col>&lt;dbl&gt;</th><th scope=col>&lt;dbl&gt;</th></tr>\n",
       "</thead>\n",
       "<tbody>\n",
       "\t<tr><td>false</td><td>38</td><td>S</td><td>4</td><td>0</td><td>156</td><td>110</td><td>0</td><td>0</td><td>0</td><td>0</td><td>0</td></tr>\n",
       "\t<tr><td>false</td><td>38</td><td>S</td><td>3</td><td>1</td><td>128</td><td>115</td><td>0</td><td>0</td><td>0</td><td>1</td><td>0</td></tr>\n",
       "\t<tr><td>false</td><td>42</td><td>S</td><td>4</td><td>1</td><td> 99</td><td>145</td><td>0</td><td>0</td><td>0</td><td>1</td><td>0</td></tr>\n",
       "\t<tr><td>⋮</td><td>⋮</td><td>⋮</td><td>⋮</td><td>⋮</td><td>⋮</td><td>⋮</td><td>⋮</td><td>⋮</td><td>⋮</td><td>⋮</td><td>⋮</td></tr>\n",
       "\t<tr><td>false</td><td>70</td><td>S</td><td>4</td><td>1</td><td> 92</td><td>115</td><td>0</td><td>0</td><td>1</td><td>1</td><td>0</td></tr>\n",
       "\t<tr><td>false</td><td>70</td><td>S</td><td>4</td><td>1</td><td>157</td><td>140</td><td>0</td><td>1</td><td>0</td><td>1</td><td>2</td></tr>\n",
       "\t<tr><td>false</td><td>73</td><td>S</td><td>3</td><td>0</td><td>121</td><td>160</td><td>0</td><td>0</td><td>1</td><td>0</td><td>0</td></tr>\n",
       "</tbody>\n",
       "</table>\n"
      ],
      "text/latex": [
       "A tibble: 46 × 12\n",
       "\\begin{tabular}{llllllllllll}\n",
       " num & age & region & cp & sex & thalach & trestbps & chol & fbs & restecg & exang & oldpeak\\\\\n",
       " <fct> & <dbl> & <fct> & <dbl> & <dbl> & <dbl> & <dbl> & <dbl> & <dbl> & <dbl> & <dbl> & <dbl>\\\\\n",
       "\\hline\n",
       "\t false & 38 & S & 4 & 0 & 156 & 110 & 0 & 0 & 0 & 0 & 0\\\\\n",
       "\t false & 38 & S & 3 & 1 & 128 & 115 & 0 & 0 & 0 & 1 & 0\\\\\n",
       "\t false & 42 & S & 4 & 1 &  99 & 145 & 0 & 0 & 0 & 1 & 0\\\\\n",
       "\t ⋮ & ⋮ & ⋮ & ⋮ & ⋮ & ⋮ & ⋮ & ⋮ & ⋮ & ⋮ & ⋮ & ⋮\\\\\n",
       "\t false & 70 & S & 4 & 1 &  92 & 115 & 0 & 0 & 1 & 1 & 0\\\\\n",
       "\t false & 70 & S & 4 & 1 & 157 & 140 & 0 & 1 & 0 & 1 & 2\\\\\n",
       "\t false & 73 & S & 3 & 0 & 121 & 160 & 0 & 0 & 1 & 0 & 0\\\\\n",
       "\\end{tabular}\n"
      ],
      "text/markdown": [
       "\n",
       "A tibble: 46 × 12\n",
       "\n",
       "| num &lt;fct&gt; | age &lt;dbl&gt; | region &lt;fct&gt; | cp &lt;dbl&gt; | sex &lt;dbl&gt; | thalach &lt;dbl&gt; | trestbps &lt;dbl&gt; | chol &lt;dbl&gt; | fbs &lt;dbl&gt; | restecg &lt;dbl&gt; | exang &lt;dbl&gt; | oldpeak &lt;dbl&gt; |\n",
       "|---|---|---|---|---|---|---|---|---|---|---|---|\n",
       "| false | 38 | S | 4 | 0 | 156 | 110 | 0 | 0 | 0 | 0 | 0 |\n",
       "| false | 38 | S | 3 | 1 | 128 | 115 | 0 | 0 | 0 | 1 | 0 |\n",
       "| false | 42 | S | 4 | 1 |  99 | 145 | 0 | 0 | 0 | 1 | 0 |\n",
       "| ⋮ | ⋮ | ⋮ | ⋮ | ⋮ | ⋮ | ⋮ | ⋮ | ⋮ | ⋮ | ⋮ | ⋮ |\n",
       "| false | 70 | S | 4 | 1 |  92 | 115 | 0 | 0 | 1 | 1 | 0 |\n",
       "| false | 70 | S | 4 | 1 | 157 | 140 | 0 | 1 | 0 | 1 | 2 |\n",
       "| false | 73 | S | 3 | 0 | 121 | 160 | 0 | 0 | 1 | 0 | 0 |\n",
       "\n"
      ],
      "text/plain": [
       "   num   age region cp sex thalach trestbps chol fbs restecg exang oldpeak\n",
       "1  false 38  S      4  0   156     110      0    0   0       0     0      \n",
       "2  false 38  S      3  1   128     115      0    0   0       1     0      \n",
       "3  false 42  S      4  1    99     145      0    0   0       1     0      \n",
       "⋮  ⋮     ⋮   ⋮      ⋮  ⋮   ⋮       ⋮        ⋮    ⋮   ⋮       ⋮     ⋮      \n",
       "44 false 70  S      4  1    92     115      0    0   1       1     0      \n",
       "45 false 70  S      4  1   157     140      0    1   0       1     2      \n",
       "46 false 73  S      3  0   121     160      0    0   1       0     0      "
      ]
     },
     "metadata": {},
     "output_type": "display_data"
    }
   ],
   "source": [
    "# Load and tidy Switzerland dataset\n",
    "switzerland_data<-read_delim(\"https://archive.ics.uci.edu/ml/machine-learning-databases/heart-disease/processed.switzerland.data\",\n",
    "                            col_name = FALSE)\n",
    "switzerland_data <- tidy_heart_data(switzerland_data,\"S\")\n",
    "print(\"Table 3: Switzerland dataset (tidied and filtered)\")\n",
    "\n",
    "switzerland_data\n",
    "# Table 3"
   ]
  },
  {
   "cell_type": "code",
   "execution_count": 6,
   "id": "64d28ba2-33b7-4266-858b-ed8a630403a8",
   "metadata": {},
   "outputs": [
    {
     "name": "stderr",
     "output_type": "stream",
     "text": [
      "\u001b[1mRows: \u001b[22m\u001b[34m200\u001b[39m \u001b[1mColumns: \u001b[22m\u001b[34m14\u001b[39m\n",
      "\u001b[36m──\u001b[39m \u001b[1mColumn specification\u001b[22m \u001b[36m────────────────────────────────────────────────────────\u001b[39m\n",
      "\u001b[1mDelimiter:\u001b[22m \",\"\n",
      "\u001b[31mchr\u001b[39m (9): X4, X5, X6, X8, X9, X10, X11, X12, X13\n",
      "\u001b[32mdbl\u001b[39m (5): X1, X2, X3, X7, X14\n",
      "\n",
      "\u001b[36mℹ\u001b[39m Use `spec()` to retrieve the full column specification for this data.\n",
      "\u001b[36mℹ\u001b[39m Specify the column types or set `show_col_types = FALSE` to quiet this message.\n"
     ]
    },
    {
     "name": "stdout",
     "output_type": "stream",
     "text": [
      "[1] \"Table 4: VA Long Beach dataset (tidied and filtered)\"\n"
     ]
    },
    {
     "data": {
      "text/html": [
       "<table class=\"dataframe\">\n",
       "<caption>A tibble: 129 × 12</caption>\n",
       "<thead>\n",
       "\t<tr><th scope=col>num</th><th scope=col>age</th><th scope=col>region</th><th scope=col>cp</th><th scope=col>sex</th><th scope=col>thalach</th><th scope=col>trestbps</th><th scope=col>chol</th><th scope=col>fbs</th><th scope=col>restecg</th><th scope=col>exang</th><th scope=col>oldpeak</th></tr>\n",
       "\t<tr><th scope=col>&lt;fct&gt;</th><th scope=col>&lt;dbl&gt;</th><th scope=col>&lt;fct&gt;</th><th scope=col>&lt;dbl&gt;</th><th scope=col>&lt;dbl&gt;</th><th scope=col>&lt;dbl&gt;</th><th scope=col>&lt;dbl&gt;</th><th scope=col>&lt;dbl&gt;</th><th scope=col>&lt;dbl&gt;</th><th scope=col>&lt;dbl&gt;</th><th scope=col>&lt;dbl&gt;</th><th scope=col>&lt;dbl&gt;</th></tr>\n",
       "</thead>\n",
       "<tbody>\n",
       "\t<tr><td>false</td><td>63</td><td>VA</td><td>4</td><td>1</td><td>112</td><td>140</td><td>260</td><td>0</td><td>1</td><td>1</td><td>3.0</td></tr>\n",
       "\t<tr><td>true </td><td>44</td><td>VA</td><td>4</td><td>1</td><td>127</td><td>130</td><td>209</td><td>0</td><td>1</td><td>0</td><td>0.0</td></tr>\n",
       "\t<tr><td>false</td><td>60</td><td>VA</td><td>4</td><td>1</td><td>140</td><td>132</td><td>218</td><td>0</td><td>1</td><td>1</td><td>1.5</td></tr>\n",
       "\t<tr><td>⋮</td><td>⋮</td><td>⋮</td><td>⋮</td><td>⋮</td><td>⋮</td><td>⋮</td><td>⋮</td><td>⋮</td><td>⋮</td><td>⋮</td><td>⋮</td></tr>\n",
       "\t<tr><td>false</td><td>54</td><td>VA</td><td>4</td><td>0</td><td>154</td><td>127</td><td>333</td><td>1</td><td>1</td><td>0</td><td>0</td></tr>\n",
       "\t<tr><td>false</td><td>55</td><td>VA</td><td>4</td><td>1</td><td>100</td><td>122</td><td>223</td><td>1</td><td>1</td><td>0</td><td>0</td></tr>\n",
       "\t<tr><td>false</td><td>62</td><td>VA</td><td>2</td><td>1</td><td> 93</td><td>120</td><td>254</td><td>0</td><td>2</td><td>1</td><td>0</td></tr>\n",
       "</tbody>\n",
       "</table>\n"
      ],
      "text/latex": [
       "A tibble: 129 × 12\n",
       "\\begin{tabular}{llllllllllll}\n",
       " num & age & region & cp & sex & thalach & trestbps & chol & fbs & restecg & exang & oldpeak\\\\\n",
       " <fct> & <dbl> & <fct> & <dbl> & <dbl> & <dbl> & <dbl> & <dbl> & <dbl> & <dbl> & <dbl> & <dbl>\\\\\n",
       "\\hline\n",
       "\t false & 63 & VA & 4 & 1 & 112 & 140 & 260 & 0 & 1 & 1 & 3.0\\\\\n",
       "\t true  & 44 & VA & 4 & 1 & 127 & 130 & 209 & 0 & 1 & 0 & 0.0\\\\\n",
       "\t false & 60 & VA & 4 & 1 & 140 & 132 & 218 & 0 & 1 & 1 & 1.5\\\\\n",
       "\t ⋮ & ⋮ & ⋮ & ⋮ & ⋮ & ⋮ & ⋮ & ⋮ & ⋮ & ⋮ & ⋮ & ⋮\\\\\n",
       "\t false & 54 & VA & 4 & 0 & 154 & 127 & 333 & 1 & 1 & 0 & 0\\\\\n",
       "\t false & 55 & VA & 4 & 1 & 100 & 122 & 223 & 1 & 1 & 0 & 0\\\\\n",
       "\t false & 62 & VA & 2 & 1 &  93 & 120 & 254 & 0 & 2 & 1 & 0\\\\\n",
       "\\end{tabular}\n"
      ],
      "text/markdown": [
       "\n",
       "A tibble: 129 × 12\n",
       "\n",
       "| num &lt;fct&gt; | age &lt;dbl&gt; | region &lt;fct&gt; | cp &lt;dbl&gt; | sex &lt;dbl&gt; | thalach &lt;dbl&gt; | trestbps &lt;dbl&gt; | chol &lt;dbl&gt; | fbs &lt;dbl&gt; | restecg &lt;dbl&gt; | exang &lt;dbl&gt; | oldpeak &lt;dbl&gt; |\n",
       "|---|---|---|---|---|---|---|---|---|---|---|---|\n",
       "| false | 63 | VA | 4 | 1 | 112 | 140 | 260 | 0 | 1 | 1 | 3.0 |\n",
       "| true  | 44 | VA | 4 | 1 | 127 | 130 | 209 | 0 | 1 | 0 | 0.0 |\n",
       "| false | 60 | VA | 4 | 1 | 140 | 132 | 218 | 0 | 1 | 1 | 1.5 |\n",
       "| ⋮ | ⋮ | ⋮ | ⋮ | ⋮ | ⋮ | ⋮ | ⋮ | ⋮ | ⋮ | ⋮ | ⋮ |\n",
       "| false | 54 | VA | 4 | 0 | 154 | 127 | 333 | 1 | 1 | 0 | 0 |\n",
       "| false | 55 | VA | 4 | 1 | 100 | 122 | 223 | 1 | 1 | 0 | 0 |\n",
       "| false | 62 | VA | 2 | 1 |  93 | 120 | 254 | 0 | 2 | 1 | 0 |\n",
       "\n"
      ],
      "text/plain": [
       "    num   age region cp sex thalach trestbps chol fbs restecg exang oldpeak\n",
       "1   false 63  VA     4  1   112     140      260  0   1       1     3.0    \n",
       "2   true  44  VA     4  1   127     130      209  0   1       0     0.0    \n",
       "3   false 60  VA     4  1   140     132      218  0   1       1     1.5    \n",
       "⋮   ⋮     ⋮   ⋮      ⋮  ⋮   ⋮       ⋮        ⋮    ⋮   ⋮       ⋮     ⋮      \n",
       "127 false 54  VA     4  0   154     127      333  1   1       0     0      \n",
       "128 false 55  VA     4  1   100     122      223  1   1       0     0      \n",
       "129 false 62  VA     2  1    93     120      254  0   2       1     0      "
      ]
     },
     "metadata": {},
     "output_type": "display_data"
    }
   ],
   "source": [
    "# Load and tidy VA dataset\n",
    "\n",
    "va_data<-read_delim(\"https://archive.ics.uci.edu/ml/machine-learning-databases/heart-disease/processed.va.data\",\n",
    "                   col_name = FALSE)\n",
    "va_data <- tidy_heart_data(va_data,\"VA\")\n",
    "print(\"Table 4: VA Long Beach dataset (tidied and filtered)\")\n",
    "va_data\n",
    "# Table 4"
   ]
  },
  {
   "cell_type": "markdown",
   "id": "ff1c1647-6258-44ff-87ee-8c980a5f17fe",
   "metadata": {},
   "source": [
    "#### Creating the combined dataset\n",
    "\n",
    "In this cell we combine all the data from earlier into a larger, super-dataset. This is so that we can analyze the accuracy of KNN on each region separately, and then each region together, to see which is more accurate; it gives us more options to explore during our analysis. This is also why we appended a \"region\" column to each dataset — this hardly would have made sense if we were keeping them separate the entire time."
   ]
  },
  {
   "cell_type": "code",
   "execution_count": 7,
   "id": "c3e2f851-6006-4610-8485-92c6f65a3185",
   "metadata": {},
   "outputs": [
    {
     "name": "stdout",
     "output_type": "stream",
     "text": [
      "[1] \"Table 5: Combination of all datasets\"\n"
     ]
    },
    {
     "data": {
      "text/html": [
       "<table class=\"dataframe\">\n",
       "<caption>A tibble: 739 × 12</caption>\n",
       "<thead>\n",
       "\t<tr><th scope=col>num</th><th scope=col>age</th><th scope=col>region</th><th scope=col>cp</th><th scope=col>sex</th><th scope=col>thalach</th><th scope=col>trestbps</th><th scope=col>chol</th><th scope=col>fbs</th><th scope=col>restecg</th><th scope=col>exang</th><th scope=col>oldpeak</th></tr>\n",
       "\t<tr><th scope=col>&lt;fct&gt;</th><th scope=col>&lt;dbl&gt;</th><th scope=col>&lt;fct&gt;</th><th scope=col>&lt;dbl&gt;</th><th scope=col>&lt;dbl&gt;</th><th scope=col>&lt;dbl&gt;</th><th scope=col>&lt;dbl&gt;</th><th scope=col>&lt;dbl&gt;</th><th scope=col>&lt;dbl&gt;</th><th scope=col>&lt;dbl&gt;</th><th scope=col>&lt;dbl&gt;</th><th scope=col>&lt;dbl&gt;</th></tr>\n",
       "</thead>\n",
       "<tbody>\n",
       "\t<tr><td>true </td><td>63</td><td>C</td><td>1</td><td>1</td><td>150</td><td>145</td><td>233</td><td>1</td><td>2</td><td>0</td><td>2.3</td></tr>\n",
       "\t<tr><td>false</td><td>67</td><td>C</td><td>4</td><td>1</td><td>108</td><td>160</td><td>286</td><td>0</td><td>2</td><td>1</td><td>1.5</td></tr>\n",
       "\t<tr><td>false</td><td>67</td><td>C</td><td>4</td><td>1</td><td>129</td><td>120</td><td>229</td><td>0</td><td>2</td><td>1</td><td>2.6</td></tr>\n",
       "\t<tr><td>⋮</td><td>⋮</td><td>⋮</td><td>⋮</td><td>⋮</td><td>⋮</td><td>⋮</td><td>⋮</td><td>⋮</td><td>⋮</td><td>⋮</td><td>⋮</td></tr>\n",
       "\t<tr><td>false</td><td>54</td><td>VA</td><td>4</td><td>0</td><td>154</td><td>127</td><td>333</td><td>1</td><td>1</td><td>0</td><td>0</td></tr>\n",
       "\t<tr><td>false</td><td>55</td><td>VA</td><td>4</td><td>1</td><td>100</td><td>122</td><td>223</td><td>1</td><td>1</td><td>0</td><td>0</td></tr>\n",
       "\t<tr><td>false</td><td>62</td><td>VA</td><td>2</td><td>1</td><td> 93</td><td>120</td><td>254</td><td>0</td><td>2</td><td>1</td><td>0</td></tr>\n",
       "</tbody>\n",
       "</table>\n"
      ],
      "text/latex": [
       "A tibble: 739 × 12\n",
       "\\begin{tabular}{llllllllllll}\n",
       " num & age & region & cp & sex & thalach & trestbps & chol & fbs & restecg & exang & oldpeak\\\\\n",
       " <fct> & <dbl> & <fct> & <dbl> & <dbl> & <dbl> & <dbl> & <dbl> & <dbl> & <dbl> & <dbl> & <dbl>\\\\\n",
       "\\hline\n",
       "\t true  & 63 & C & 1 & 1 & 150 & 145 & 233 & 1 & 2 & 0 & 2.3\\\\\n",
       "\t false & 67 & C & 4 & 1 & 108 & 160 & 286 & 0 & 2 & 1 & 1.5\\\\\n",
       "\t false & 67 & C & 4 & 1 & 129 & 120 & 229 & 0 & 2 & 1 & 2.6\\\\\n",
       "\t ⋮ & ⋮ & ⋮ & ⋮ & ⋮ & ⋮ & ⋮ & ⋮ & ⋮ & ⋮ & ⋮ & ⋮\\\\\n",
       "\t false & 54 & VA & 4 & 0 & 154 & 127 & 333 & 1 & 1 & 0 & 0\\\\\n",
       "\t false & 55 & VA & 4 & 1 & 100 & 122 & 223 & 1 & 1 & 0 & 0\\\\\n",
       "\t false & 62 & VA & 2 & 1 &  93 & 120 & 254 & 0 & 2 & 1 & 0\\\\\n",
       "\\end{tabular}\n"
      ],
      "text/markdown": [
       "\n",
       "A tibble: 739 × 12\n",
       "\n",
       "| num &lt;fct&gt; | age &lt;dbl&gt; | region &lt;fct&gt; | cp &lt;dbl&gt; | sex &lt;dbl&gt; | thalach &lt;dbl&gt; | trestbps &lt;dbl&gt; | chol &lt;dbl&gt; | fbs &lt;dbl&gt; | restecg &lt;dbl&gt; | exang &lt;dbl&gt; | oldpeak &lt;dbl&gt; |\n",
       "|---|---|---|---|---|---|---|---|---|---|---|---|\n",
       "| true  | 63 | C | 1 | 1 | 150 | 145 | 233 | 1 | 2 | 0 | 2.3 |\n",
       "| false | 67 | C | 4 | 1 | 108 | 160 | 286 | 0 | 2 | 1 | 1.5 |\n",
       "| false | 67 | C | 4 | 1 | 129 | 120 | 229 | 0 | 2 | 1 | 2.6 |\n",
       "| ⋮ | ⋮ | ⋮ | ⋮ | ⋮ | ⋮ | ⋮ | ⋮ | ⋮ | ⋮ | ⋮ | ⋮ |\n",
       "| false | 54 | VA | 4 | 0 | 154 | 127 | 333 | 1 | 1 | 0 | 0 |\n",
       "| false | 55 | VA | 4 | 1 | 100 | 122 | 223 | 1 | 1 | 0 | 0 |\n",
       "| false | 62 | VA | 2 | 1 |  93 | 120 | 254 | 0 | 2 | 1 | 0 |\n",
       "\n"
      ],
      "text/plain": [
       "    num   age region cp sex thalach trestbps chol fbs restecg exang oldpeak\n",
       "1   true  63  C      1  1   150     145      233  1   2       0     2.3    \n",
       "2   false 67  C      4  1   108     160      286  0   2       1     1.5    \n",
       "3   false 67  C      4  1   129     120      229  0   2       1     2.6    \n",
       "⋮   ⋮     ⋮   ⋮      ⋮  ⋮   ⋮       ⋮        ⋮    ⋮   ⋮       ⋮     ⋮      \n",
       "737 false 54  VA     4  0   154     127      333  1   1       0     0      \n",
       "738 false 55  VA     4  1   100     122      223  1   1       0     0      \n",
       "739 false 62  VA     2  1    93     120      254  0   2       1     0      "
      ]
     },
     "metadata": {},
     "output_type": "display_data"
    }
   ],
   "source": [
    "# Combine data from all regions\n",
    "\n",
    "all_data <-rbind(cleveland_data,hungarian_data,switzerland_data,va_data)\n",
    "\n",
    "print(\"Table 5: Combination of all datasets\")\n",
    "all_data\n",
    "# Table 5"
   ]
  },
  {
   "cell_type": "markdown",
   "id": "ef39391a-1f8f-4f08-9e09-255d2abca9f5",
   "metadata": {},
   "source": [
    "### Summary of dataset, pre-analysis\n",
    "\n",
    "!EA just copy-paste from the methods section of the proposal."
   ]
  },
  {
   "cell_type": "markdown",
   "id": "4fccba81-1e43-414a-b6fc-410d17f7b837",
   "metadata": {},
   "source": [
    "### Visualization, pre-analysis\n",
    "\n",
    "Before performing the analysis itself, we visualize some of the data that we loaded. In figure 1 we use bar graphs to visually represent how many patients in each dataset (after tidying) have heart disease, and how many do not. Understanding the ratio will give us a better idea of which variable will dominate the knn algorithm; knowing broadly how many patients there are in each dataset will also partially tell us what values of K might be too high (because they essentially become averages). This visualization tells us that we cannot make a separate model for Switzerland alone: it has just one positive case of heart disease, so when split into training and testing data, one of the sets will lack any positive cases. Therefore, we will not build a separate model for Switzerland in this project."
   ]
  },
  {
   "cell_type": "code",
   "execution_count": 8,
   "id": "07bd3cdd-6590-42cb-8d25-8b01e1774adc",
   "metadata": {},
   "outputs": [
    {
     "data": {
      "image/png": "[encoded data removed]",
      "text/plain": [
       "plot without title"
      ]
     },
     "metadata": {
      "image/png": {
       "height": 600,
       "width": 480
      }
     },
     "output_type": "display_data"
    }
   ],
   "source": [
    "# Visualize distribution of positive and negative cases by region\n",
    "\n",
    "# increase plot size\n",
    "options(repr.plot.width=8, repr.plot.height=10)\n",
    "\n",
    "# Figure 1\n",
    "\n",
    "# print(\"Figure 1: VA Long Beach dataset (tidied and filtered)\")\n",
    "ggplot(all_data, aes(x = num, fill = region)) +\n",
    "    geom_bar() +\n",
    "    facet_grid(rows = vars(region)) +\n",
    "    labs(x = \"Patient has heart disease\", y = \"# of patients (in the region)\", fill = \"Region\", title = \"Figure 1: Switzerland has too few positive cases for \\nmodels to be fitted on it alone\") +\n",
    "    scale_fill_discrete(labels = c(\"Cleaveland\", \"Hungary\", \"Switzerland\", \"VA Long Beach\")) +\n",
    "    theme(text = element_text(size = 18))\n"
   ]
  },
  {
   "cell_type": "markdown",
   "id": "1146efd4-5f2f-47c4-8c9e-f1197c51fb56",
   "metadata": {},
   "source": [
    "To establish that some of our selected predictors are good choices, we plot chest pain versus thalach, and color points based on the presence of heart disease. Stunningly, people with chest pain type 4 (asymptomatic, i.e., they have no chest pain) appear to be most at risk of developing heart disease. One explanation for this correlation could be that people who have symptoms sufficient to warrant a medical examination and get placed on this dataset, but who lack chest pain, are at significant risk. \n",
    "\n",
    "This graph is the answer to a tertiary exploratory question, \"Is chest pain correlated with heart disease?\" Later, we will use a simplified version of our model (with two predictors) to answer the predictive version of this same question."
   ]
  },
  {
   "cell_type": "code",
   "execution_count": 21,
   "id": "6f5049ab-95f2-4a62-9f9b-9648a749da8e",
   "metadata": {},
   "outputs": [
    {
     "data": {
      "image/png": "[encoded data removed]",
      "text/plain": [
       "plot without title"
      ]
     },
     "metadata": {
      "image/png": {
       "height": 480,
       "width": 360
      }
     },
     "output_type": "display_data"
    }
   ],
   "source": [
    "# Graph chest pain vs thalach colored by heart disease\n",
    "# Figure 2\n",
    "ggplot(cleveland_data, aes(x = cp, y = thalach, color = num)) +\n",
    "    geom_point() +\n",
    "    labs(x = \"Type of chest pain\",\n",
    "         y = \"Thalach (max heart rate achieved)\", \n",
    "         color = \"Region\", \n",
    "         title = \"Figure 2: No chest pain strongly correlated with heart disease\") +\n",
    "    scale_color_manual(labels = c(\"heart disease present\", \"heart disease not present\"),\n",
    "                       values = c(\"red1\", \"steelblue1\")) +\n",
    "    theme(text = element_text(size = 15))"
   ]
  },
  {
   "cell_type": "markdown",
   "id": "d268145f-8290-48a0-97eb-5119cff5deb1",
   "metadata": {},
   "source": [
    "### Splitting the data into training and testing sets\n",
    "\n",
    "In this cell we split each of our regional datasets (and our combined dataset) into  training and testing sets; the ratio is 75% to the training set, 25% to the testing set. The \"num\" column is stratified so that positive and negative cases are evenly distributed. Given the somewhat limited size of our datasets we prioritized model accuracy over generating a more precise estimation of this model accuracy. Therefore, we allocate 75% of the data to the training sets that the models for each region (and the super-group of all regions) will be allowed to learn from, while only 25% is allocated to the testing set."
   ]
  },
  {
   "cell_type": "code",
   "execution_count": 10,
   "id": "47070997-bb17-4e5a-b6e7-c35d1475dc57",
   "metadata": {},
   "outputs": [
    {
     "name": "stdout",
     "output_type": "stream",
     "text": [
      "[1] \"Table 6: Training set for all regions combined\"\n"
     ]
    },
    {
     "data": {
      "text/html": [
       "<table class=\"dataframe\">\n",
       "<caption>A tibble: 553 × 12</caption>\n",
       "<thead>\n",
       "\t<tr><th scope=col>num</th><th scope=col>age</th><th scope=col>region</th><th scope=col>cp</th><th scope=col>sex</th><th scope=col>thalach</th><th scope=col>trestbps</th><th scope=col>chol</th><th scope=col>fbs</th><th scope=col>restecg</th><th scope=col>exang</th><th scope=col>oldpeak</th></tr>\n",
       "\t<tr><th scope=col>&lt;fct&gt;</th><th scope=col>&lt;dbl&gt;</th><th scope=col>&lt;fct&gt;</th><th scope=col>&lt;dbl&gt;</th><th scope=col>&lt;dbl&gt;</th><th scope=col>&lt;dbl&gt;</th><th scope=col>&lt;dbl&gt;</th><th scope=col>&lt;dbl&gt;</th><th scope=col>&lt;dbl&gt;</th><th scope=col>&lt;dbl&gt;</th><th scope=col>&lt;dbl&gt;</th><th scope=col>&lt;dbl&gt;</th></tr>\n",
       "</thead>\n",
       "<tbody>\n",
       "\t<tr><td>false</td><td>67</td><td>C</td><td>4</td><td>1</td><td>108</td><td>160</td><td>286</td><td>0</td><td>2</td><td>1</td><td>1.5</td></tr>\n",
       "\t<tr><td>false</td><td>67</td><td>C</td><td>4</td><td>1</td><td>129</td><td>120</td><td>229</td><td>0</td><td>2</td><td>1</td><td>2.6</td></tr>\n",
       "\t<tr><td>false</td><td>62</td><td>C</td><td>4</td><td>0</td><td>160</td><td>140</td><td>268</td><td>0</td><td>2</td><td>0</td><td>3.6</td></tr>\n",
       "\t<tr><td>⋮</td><td>⋮</td><td>⋮</td><td>⋮</td><td>⋮</td><td>⋮</td><td>⋮</td><td>⋮</td><td>⋮</td><td>⋮</td><td>⋮</td><td>⋮</td></tr>\n",
       "\t<tr><td>true</td><td>37</td><td>VA</td><td>3</td><td>1</td><td>165</td><td>118</td><td>240</td><td>0</td><td>2</td><td>0</td><td>1</td></tr>\n",
       "\t<tr><td>true</td><td>68</td><td>VA</td><td>3</td><td>1</td><td>151</td><td>134</td><td>254</td><td>1</td><td>0</td><td>1</td><td>0</td></tr>\n",
       "\t<tr><td>true</td><td>51</td><td>VA</td><td>4</td><td>0</td><td> 96</td><td>114</td><td>258</td><td>1</td><td>2</td><td>0</td><td>1</td></tr>\n",
       "</tbody>\n",
       "</table>\n"
      ],
      "text/latex": [
       "A tibble: 553 × 12\n",
       "\\begin{tabular}{llllllllllll}\n",
       " num & age & region & cp & sex & thalach & trestbps & chol & fbs & restecg & exang & oldpeak\\\\\n",
       " <fct> & <dbl> & <fct> & <dbl> & <dbl> & <dbl> & <dbl> & <dbl> & <dbl> & <dbl> & <dbl> & <dbl>\\\\\n",
       "\\hline\n",
       "\t false & 67 & C & 4 & 1 & 108 & 160 & 286 & 0 & 2 & 1 & 1.5\\\\\n",
       "\t false & 67 & C & 4 & 1 & 129 & 120 & 229 & 0 & 2 & 1 & 2.6\\\\\n",
       "\t false & 62 & C & 4 & 0 & 160 & 140 & 268 & 0 & 2 & 0 & 3.6\\\\\n",
       "\t ⋮ & ⋮ & ⋮ & ⋮ & ⋮ & ⋮ & ⋮ & ⋮ & ⋮ & ⋮ & ⋮ & ⋮\\\\\n",
       "\t true & 37 & VA & 3 & 1 & 165 & 118 & 240 & 0 & 2 & 0 & 1\\\\\n",
       "\t true & 68 & VA & 3 & 1 & 151 & 134 & 254 & 1 & 0 & 1 & 0\\\\\n",
       "\t true & 51 & VA & 4 & 0 &  96 & 114 & 258 & 1 & 2 & 0 & 1\\\\\n",
       "\\end{tabular}\n"
      ],
      "text/markdown": [
       "\n",
       "A tibble: 553 × 12\n",
       "\n",
       "| num &lt;fct&gt; | age &lt;dbl&gt; | region &lt;fct&gt; | cp &lt;dbl&gt; | sex &lt;dbl&gt; | thalach &lt;dbl&gt; | trestbps &lt;dbl&gt; | chol &lt;dbl&gt; | fbs &lt;dbl&gt; | restecg &lt;dbl&gt; | exang &lt;dbl&gt; | oldpeak &lt;dbl&gt; |\n",
       "|---|---|---|---|---|---|---|---|---|---|---|---|\n",
       "| false | 67 | C | 4 | 1 | 108 | 160 | 286 | 0 | 2 | 1 | 1.5 |\n",
       "| false | 67 | C | 4 | 1 | 129 | 120 | 229 | 0 | 2 | 1 | 2.6 |\n",
       "| false | 62 | C | 4 | 0 | 160 | 140 | 268 | 0 | 2 | 0 | 3.6 |\n",
       "| ⋮ | ⋮ | ⋮ | ⋮ | ⋮ | ⋮ | ⋮ | ⋮ | ⋮ | ⋮ | ⋮ | ⋮ |\n",
       "| true | 37 | VA | 3 | 1 | 165 | 118 | 240 | 0 | 2 | 0 | 1 |\n",
       "| true | 68 | VA | 3 | 1 | 151 | 134 | 254 | 1 | 0 | 1 | 0 |\n",
       "| true | 51 | VA | 4 | 0 |  96 | 114 | 258 | 1 | 2 | 0 | 1 |\n",
       "\n"
      ],
      "text/plain": [
       "    num   age region cp sex thalach trestbps chol fbs restecg exang oldpeak\n",
       "1   false 67  C      4  1   108     160      286  0   2       1     1.5    \n",
       "2   false 67  C      4  1   129     120      229  0   2       1     2.6    \n",
       "3   false 62  C      4  0   160     140      268  0   2       0     3.6    \n",
       "⋮   ⋮     ⋮   ⋮      ⋮  ⋮   ⋮       ⋮        ⋮    ⋮   ⋮       ⋮     ⋮      \n",
       "551 true  37  VA     3  1   165     118      240  0   2       0     1      \n",
       "552 true  68  VA     3  1   151     134      254  1   0       1     0      \n",
       "553 true  51  VA     4  0    96     114      258  1   2       0     1      "
      ]
     },
     "metadata": {},
     "output_type": "display_data"
    }
   ],
   "source": [
    "#split all the datasets into training and testing sets\n",
    "\n",
    "cleveland_split <- initial_split(cleveland_data, prop = 0.75, strata = num)\n",
    "cleveland_train <- training(cleveland_split)\n",
    "cleveland_test <- testing(cleveland_split)\n",
    "\n",
    "hungarian_split <- initial_split(hungarian_data, prop = 0.75, strata = num)\n",
    "hungarian_train <- training(hungarian_split)\n",
    "hungarian_test <- testing(hungarian_split)\n",
    "\n",
    "switzerland_split <- initial_split(switzerland_data, prop = 0.75, strata = num)\n",
    "switzerland_train <- training(switzerland_split)\n",
    "switzerland_test <- testing(switzerland_split)\n",
    "\n",
    "va_split <- initial_split(va_data, prop = 0.75, strata = num)\n",
    "va_train <- training(va_split)\n",
    "va_test <- testing(va_split)\n",
    "\n",
    "all_split <- initial_split(all_data, prop = 0.75, strata = num)\n",
    "all_train <- training(all_split)\n",
    "all_test <- testing(all_split)\n",
    "\n",
    "print(\"Table 6: Training set for all regions combined\")\n",
    "all_train # Table 6"
   ]
  },
  {
   "cell_type": "markdown",
   "id": "b296e256-ecf1-4163-9e9c-246779b26dec",
   "metadata": {},
   "source": [
    "### Forward Selection: finding the best predictors\n",
    "We write a function which performs forward selection on a training set (provided as an argument). This function then returns a tibble which lists the accuracy that results from using different combinations and numbers of predictors with the given dataframe. This table also includes the best value of K for each model. The specifics of this function are complex, but essentially it performs the following steps:\n",
    "\n",
    "Starting with no predictors \"used\"...\n",
    "1. try adding each of the unused predictors to the model formed by the current \"used\" predictors in turn; evaluate the accuracy of the resulting model\n",
    "2. Whichever resulting model was the most accurate becomes the new model, and the new predictor added to it is removed from the \"unused\" predictors\n",
    "3. The process repeats until no predictors remain\n",
    "\n",
    "A human can then choose the model with the best combination of accuracy and simplicity*\n",
    "In this case, we multiply the accuracy stat of each combination of predictors to get a value back in units of % accuracy.\n",
    "\n",
    "\\*In the case of this project, because we do not start off with too many predictors, we use code to automatically pick the most accurate set of predictors and use it in later steps."
   ]
  },
  {
   "cell_type": "code",
   "execution_count": 44,
   "id": "471a1d0a-2fc4-4e95-be62-a50e5bb7cb27",
   "metadata": {},
   "outputs": [],
   "source": [
    "# Define a function to select best parameters for a given set of training data\n",
    "# Doing this with a function makes performing forward selection on all four sets of training data much easier\n",
    "\n",
    "# The following code was adapted for this project from Chapter 6 of \"Data Science: A First Introduction\" by Tiffany Timbers, Trevor Campbell, and Melissa Lee.\n",
    "\n",
    "find_predictors <- function(df) {\n",
    "#!EA rename stuff from cancer to heart disease\n",
    "    \n",
    "    # avoid mutating the function argument\n",
    "    dataset <- df\n",
    "    \n",
    "    # select all numeric predictors\n",
    "    names <- colnames(dataset |> select(-num,-region))\n",
    "    \n",
    "    # debug: print out dataset\n",
    "    #dataset\n",
    "\n",
    "\n",
    "    # create an empty tibble to store the results\n",
    "    accuracies <- tibble(size = integer(), \n",
    "                         model_string = character(), \n",
    "                         accuracy = numeric(),\n",
    "                         k = numeric())\n",
    "\n",
    "    # create a model specification\n",
    "    knn_spec <- nearest_neighbor(weight_func = \"rectangular\", \n",
    "                                 neighbors = tune()) |>\n",
    "         set_engine(\"kknn\") |>\n",
    "         set_mode(\"classification\")\n",
    "\n",
    "    # create a 5-fold cross-validation object\n",
    "    heart_vfold <- vfold_cv(dataset, v = 5, strata = num)\n",
    "\n",
    "    # store the total number of predictors\n",
    "    n_total <- length(names)\n",
    "\n",
    "    # stores selected predictors\n",
    "    selected <- c()\n",
    "\n",
    "    # for every size from 1 to the total number of predictors\n",
    "    for (i in 1:n_total) {\n",
    "        # for every predictor still not added yet\n",
    "        accs <- list()\n",
    "        models <- list()\n",
    "        ks <- list()\n",
    "        for (j in 1:length(names)) {\n",
    "            # create a model string for this combination of predictors\n",
    "            preds_new <- c(selected, names[[j]])\n",
    "            model_string <- paste(\"num\", \"~\", paste(preds_new, collapse=\"+\"))\n",
    "\n",
    "            # create a recipe from the model string\n",
    "            heart_recipe <- recipe(as.formula(model_string), \n",
    "                                    data = dataset) |>\n",
    "                              step_scale(all_predictors()) |>\n",
    "                              step_center(all_predictors())\n",
    "\n",
    "            # tune the KNN classifier with these predictors, \n",
    "            # and collect the accuracy, K for the best model\n",
    "            acc <- workflow() |>\n",
    "              add_recipe(heart_recipe) |>\n",
    "              add_model(knn_spec) |>\n",
    "              tune_grid(resamples = heart_vfold, grid = 10) |>\n",
    "              collect_metrics() |>\n",
    "              filter(.metric == \"accuracy\") \n",
    "            \n",
    "            # extract the best value of K for use later when building the actual model\n",
    "            best_k <- acc |> slice_max(order_by = mean, n = 1, with_ties = FALSE) |> select(neighbors) |> pull()\n",
    "            \n",
    "            # Extract the accuracy for the best model\n",
    "            acc <- acc |> slice_max(order_by = mean, n = 1, with_ties = FALSE) |> select(mean) |> pull() \n",
    "            \n",
    "            # add this result to the dataframe\n",
    "            accs[[j]] <- acc\n",
    "            models[[j]] <- model_string\n",
    "            ks[[j]] <- best_k\n",
    "        }\n",
    "        jstar <- which.max(unlist(accs))\n",
    "        accuracies <- accuracies |> \n",
    "          add_row(size = i, \n",
    "                  model_string = models[[jstar]], \n",
    "                  accuracy = accs[[jstar]],\n",
    "                  k = ks[[jstar]])\n",
    "        selected <- c(selected, names[[jstar]])\n",
    "        names <- names[-jstar]\n",
    "    }\n",
    "\n",
    "    accuracies <- mutate(accuracies, percent_accuracy = accuracy*100)\n",
    "\n",
    "    return(accuracies)\n",
    "\n",
    "}\n",
    "    \n",
    "\n",
    "\n"
   ]
  },
  {
   "cell_type": "markdown",
   "id": "69fc0d49-573f-4338-987c-1587646efbc6",
   "metadata": {},
   "source": [
    "### Applying the function to calculate the best predictor sets\n",
    "In the cell below we calculate the best set of predictors for each dataset, using the function we wrote above. The highest-accuracy set of predictors for each dataset is printed out."
   ]
  },
  {
   "cell_type": "code",
   "execution_count": 45,
   "id": "efc9289a-28a6-4453-a3ac-c84e24ddd903",
   "metadata": {},
   "outputs": [
    {
     "name": "stdout",
     "output_type": "stream",
     "text": [
      "[1] \"A\"\n",
      "[1] \"B\"\n",
      "[1] \"C\"\n"
     ]
    }
   ],
   "source": [
    "# Run forward selection (using the function above) on each dataset we are considering (everything excluding Switzerland)\n",
    "# This will take a LONG time to run. Possibly 16 minutes.\n",
    "\n",
    "set.seed(0337187)\n",
    "\n",
    "all_accuracy <- find_predictors(all_train)\n",
    "\n",
    "print(\"A\")\n",
    "\n",
    "cleveland_accuracy <- find_predictors(cleveland_train)\n",
    "\n",
    "print(\"B\")\n",
    "\n",
    "hungarian_accuracy <- find_predictors(hungarian_train)\n",
    "\n",
    "print(\"C\")\n",
    "\n",
    "va_accuracy <- find_predictors(va_train)"
   ]
  },
  {
   "cell_type": "markdown",
   "id": "52df1633-3d81-486e-b143-d2451ac808b7",
   "metadata": {},
   "source": [
    "We display the highest achieved accuracy values for each model, as well as the model strings that produced this accuracy, in Table 7. The \"best\" model appears to be VA Long Beach, but this could very well be due to the low number of positive cases in its testing set, and should not be taken upfront."
   ]
  },
  {
   "cell_type": "code",
   "execution_count": 46,
   "id": "5c6601d4-9b0b-4eb8-8002-bebcac563302",
   "metadata": {},
   "outputs": [
    {
     "name": "stdout",
     "output_type": "stream",
     "text": [
      "[1] \"Table 7: Best model strings and highest accuracies for each region\"\n"
     ]
    },
    {
     "data": {
      "text/html": [
       "<table class=\"dataframe\">\n",
       "<caption>A tibble: 4 × 4</caption>\n",
       "<thead>\n",
       "\t<tr><th scope=col>model_string</th><th scope=col>percent_accuracy</th><th scope=col>k</th><th scope=col>region</th></tr>\n",
       "\t<tr><th scope=col>&lt;chr&gt;</th><th scope=col>&lt;dbl&gt;</th><th scope=col>&lt;dbl&gt;</th><th scope=col>&lt;chr&gt;</th></tr>\n",
       "</thead>\n",
       "<tbody>\n",
       "\t<tr><td>num ~ thalach+cp+exang+oldpeak+sex+restecg+chol         </td><td>79.95001</td><td> 3</td><td>All          </td></tr>\n",
       "\t<tr><td>num ~ thalach+cp+oldpeak+sex+exang+restecg+fbs          </td><td>82.73869</td><td>15</td><td>Cleveland    </td></tr>\n",
       "\t<tr><td>num ~ cp+sex+oldpeak+chol+age+thalach                   </td><td>85.58097</td><td> 9</td><td>Hungary      </td></tr>\n",
       "\t<tr><td>num ~ age+chol+sex+fbs+exang+restecg+cp+trestbps+oldpeak</td><td>86.47368</td><td> 8</td><td>VA Long Beach</td></tr>\n",
       "</tbody>\n",
       "</table>\n"
      ],
      "text/latex": [
       "A tibble: 4 × 4\n",
       "\\begin{tabular}{llll}\n",
       " model\\_string & percent\\_accuracy & k & region\\\\\n",
       " <chr> & <dbl> & <dbl> & <chr>\\\\\n",
       "\\hline\n",
       "\t num \\textasciitilde{} thalach+cp+exang+oldpeak+sex+restecg+chol          & 79.95001 &  3 & All          \\\\\n",
       "\t num \\textasciitilde{} thalach+cp+oldpeak+sex+exang+restecg+fbs           & 82.73869 & 15 & Cleveland    \\\\\n",
       "\t num \\textasciitilde{} cp+sex+oldpeak+chol+age+thalach                    & 85.58097 &  9 & Hungary      \\\\\n",
       "\t num \\textasciitilde{} age+chol+sex+fbs+exang+restecg+cp+trestbps+oldpeak & 86.47368 &  8 & VA Long Beach\\\\\n",
       "\\end{tabular}\n"
      ],
      "text/markdown": [
       "\n",
       "A tibble: 4 × 4\n",
       "\n",
       "| model_string &lt;chr&gt; | percent_accuracy &lt;dbl&gt; | k &lt;dbl&gt; | region &lt;chr&gt; |\n",
       "|---|---|---|---|\n",
       "| num ~ thalach+cp+exang+oldpeak+sex+restecg+chol          | 79.95001 |  3 | All           |\n",
       "| num ~ thalach+cp+oldpeak+sex+exang+restecg+fbs           | 82.73869 | 15 | Cleveland     |\n",
       "| num ~ cp+sex+oldpeak+chol+age+thalach                    | 85.58097 |  9 | Hungary       |\n",
       "| num ~ age+chol+sex+fbs+exang+restecg+cp+trestbps+oldpeak | 86.47368 |  8 | VA Long Beach |\n",
       "\n"
      ],
      "text/plain": [
       "  model_string                                             percent_accuracy k \n",
       "1 num ~ thalach+cp+exang+oldpeak+sex+restecg+chol          79.95001          3\n",
       "2 num ~ thalach+cp+oldpeak+sex+exang+restecg+fbs           82.73869         15\n",
       "3 num ~ cp+sex+oldpeak+chol+age+thalach                    85.58097          9\n",
       "4 num ~ age+chol+sex+fbs+exang+restecg+cp+trestbps+oldpeak 86.47368          8\n",
       "  region       \n",
       "1 All          \n",
       "2 Cleveland    \n",
       "3 Hungary      \n",
       "4 VA Long Beach"
      ]
     },
     "metadata": {},
     "output_type": "display_data"
    }
   ],
   "source": [
    "# Produce a table with the best models and their model strings\n",
    "all_accuracy_for_comb <- all_accuracy |> select(model_string, percent_accuracy, k) |> slice_max(order_by = percent_accuracy, n = 1) |> mutate(region = \"All\")\n",
    "cleveland_accuracy_for_comb <- cleveland_accuracy |> select(model_string, percent_accuracy, k) |> slice_max(order_by = percent_accuracy, n = 1) |> mutate(region = \"Cleveland\")\n",
    "hungarian_accuracy_for_comb <- hungarian_accuracy |> select(model_string, percent_accuracy, k) |> slice_max(order_by = percent_accuracy, n = 1) |> mutate(region = \"Hungary\")\n",
    "va_accuracy_for_comb <- va_accuracy |> select(model_string, percent_accuracy, k) |> slice_max(order_by = percent_accuracy, n = 1) |> mutate(region = \"VA Long Beach\")\n",
    "combined_accuracies_and_strings <- rbind(all_accuracy_for_comb,\n",
    "                                         cleveland_accuracy_for_comb,\n",
    "                                         hungarian_accuracy_for_comb,\n",
    "                                         va_accuracy_for_comb)\n",
    "print(\"Table 7: Best model strings and highest accuracies for each region\")\n",
    "combined_accuracies_and_strings\n",
    "\n"
   ]
  },
  {
   "cell_type": "markdown",
   "id": "c0195c8c-7349-4bed-9743-9740c562f850",
   "metadata": {},
   "source": [
    "### Plotting the accuracy of different sets of predictors for each region\n",
    "To confirm that we picked good choices for our predictor sets, we graph the number of predictors selected against the accuracy of each set of predictors. The function we write below helps speed this process up; given an accuracy dataframe of the type that is returned by the find_predictors() function we wrote, it will produce a graph of the # of predictors of each model vs the accuracy the model provides."
   ]
  },
  {
   "cell_type": "code",
   "execution_count": 30,
   "id": "8f25d3be-1307-4e38-875d-71890b133ee9",
   "metadata": {},
   "outputs": [],
   "source": [
    "# Define a function that plots the accuracy of a model vs the number of predictors that model uses.\n",
    "plot_accuracy <- function(accur, t=\"UNDEFINED\", num=\"X\"){\n",
    "    ggplot(accur, aes(x = size, y = percent_accuracy)) +\n",
    "        geom_point() +\n",
    "        geom_line() +\n",
    "        labs(x = \"Number of predictors\", y = \"Accuracy (%)\", title = paste(\"Figure\",num,\":\",\" Percent accuracy vs # of predictors for \",t, sep=\"\")) +\n",
    "        theme(text = element_text(size = 15)) +\n",
    "        scale_x_continuous(breaks = seq(0,10, by = 1))\n",
    "    }\n",
    "\n",
    "# Make the following graphs smaller\n",
    "options(repr.plot.width=6, repr.plot.height=8)"
   ]
  },
  {
   "cell_type": "code",
   "execution_count": 48,
   "id": "b4502228-c564-4d8b-88b4-e9728e92f095",
   "metadata": {},
   "outputs": [
    {
     "data": {
      "image/png": "[encoded data removed]",
      "text/plain": [
       "plot without title"
      ]
     },
     "metadata": {
      "image/png": {
       "height": 480,
       "width": 360
      }
     },
     "output_type": "display_data"
    }
   ],
   "source": [
    "plot_accuracy(all_accuracy, \"all regions\",\"3\")"
   ]
  },
  {
   "cell_type": "code",
   "execution_count": 50,
   "id": "bf684a11-3607-45d5-adee-576fc78cc3a7",
   "metadata": {},
   "outputs": [
    {
     "data": {
      "image/png": "[encoded data removed]",
      "text/plain": [
       "plot without title"
      ]
     },
     "metadata": {
      "image/png": {
       "height": 480,
       "width": 360
      }
     },
     "output_type": "display_data"
    }
   ],
   "source": [
    "plot_accuracy(cleveland_accuracy, \"Cleveland\",\"4\")"
   ]
  },
  {
   "cell_type": "code",
   "execution_count": 51,
   "id": "406f690e-57b4-4184-9415-47f47053666e",
   "metadata": {},
   "outputs": [
    {
     "data": {
      "image/png": "[encoded data removed]",
      "text/plain": [
       "plot without title"
      ]
     },
     "metadata": {
      "image/png": {
       "height": 480,
       "width": 360
      }
     },
     "output_type": "display_data"
    }
   ],
   "source": [
    "plot_accuracy(hungarian_accuracy, \"Hungary\",\"5\")"
   ]
  },
  {
   "cell_type": "code",
   "execution_count": 52,
   "id": "601b00e1-7184-4f92-b763-8dc0a1659824",
   "metadata": {},
   "outputs": [
    {
     "data": {
      "image/png": "[encoded data removed]",
      "text/plain": [
       "plot without title"
      ]
     },
     "metadata": {
      "image/png": {
       "height": 480,
       "width": 360
      }
     },
     "output_type": "display_data"
    }
   ],
   "source": [
    "plot_accuracy(va_accuracy, \"VA Long Beach\",\"6\")"
   ]
  },
  {
   "cell_type": "markdown",
   "id": "ded4e528-c607-45f2-8647-0937b10e5e27",
   "metadata": {},
   "source": [
    "Do note that while the textbook says to pick the \"elbow\" of the graph, we let our code automatically pick the model with the highest accuracy, out of concern that our relative inexperience will lead to us picking a poor elbow and compromising the accuracy of the model."
   ]
  },
  {
   "cell_type": "markdown",
   "id": "b126dab6-dadc-4f73-a1e2-94fd530cec30",
   "metadata": {},
   "source": [
    "### Building the model and estimating its accuracy against the testing data\n",
    "We write a function that fits a knn classification model using the best value of \"k\" (found during forward selection) and then estimates the accuracy with the testing set. The function returns the model's accuracy, its best value of K, and a confusion matrix for the produced model. The confusion matricies will be invaluable for getting a sense of how accurate this model is, as it cannot be easily graphed given its high dimensionality."
   ]
  },
  {
   "cell_type": "code",
   "execution_count": 53,
   "id": "0bfd8d80-02d5-42f8-af02-c801954ba0cc",
   "metadata": {},
   "outputs": [],
   "source": [
    "model_and_fit <- function(accuracy_df, train_df, test_df, region=\"\"){\n",
    "    # get predictors with max accuracy\n",
    "    best_model <- accuracy_df |> slice_max(percent_accuracy, n = 1) \n",
    "    best_predictors <- best_model |> pull(model_string)\n",
    "    best_k <- best_model |> pull(k)\n",
    "    \n",
    "    # KNN\n",
    "#     df_recipe <- recipe(as.formula(best_predictors), data = train_df) |> \n",
    "#         step_scale(all_predictors()) |> \n",
    "#         step_center(all_predictors())\n",
    "    \n",
    "#     df_spec_tune <- nearest_neighbor(weight_func = \"rectangular\", neighbors = tune()) |> set_engine(\"kknn\") |> set_mode(\"classification\")\n",
    "    \n",
    "#     df_fold <- vfold_cv(train_df, v = 10, strata = num)\n",
    "    \n",
    "#     df_k_fit <- workflow() |>\n",
    "#         add_recipe(df_recipe) |>\n",
    "#         add_model(df_spec_tune) |>\n",
    "#         tune_grid(resamples = df_fold, grid = 20) |>\n",
    "#         collect_metrics()\n",
    "    \n",
    "#     best_k <- df_k_fit |> slice_max(mean, n = 1, with_ties = FALSE) |> select(neighbors) |> pull()\n",
    "    \n",
    "        df_recipe <- recipe(as.formula(best_predictors), data = train_df) |> \n",
    "            step_scale(all_predictors()) |> \n",
    "            step_center(all_predictors())\n",
    "    \n",
    "    print(paste(\"The best value of K for\", region, \"is\", best_k))\n",
    "    \n",
    "    df_spec_k <- nearest_neighbor(weight_func = \"rectangular\", neighbors = best_k) |> set_engine(\"kknn\") |> set_mode(\"classification\")\n",
    "    \n",
    "    df_fit <- workflow() |>\n",
    "        add_recipe(df_recipe) |>\n",
    "        add_model(df_spec_k) |>\n",
    "        fit(data = train_df)\n",
    "\n",
    "    df_summary <- df_fit |>\n",
    "        predict(test_df) |>\n",
    "        bind_cols(test_df) |>\n",
    "        metrics(truth = num, estimate = .pred_class) |>\n",
    "        filter(.metric == \"accuracy\") |>\n",
    "        select(.estimate) |>\n",
    "        rename(accuracy = .estimate) |>\n",
    "        pull()\n",
    "\n",
    "    df_conf_mat <- df_fit |>  predict(test_df) |>\n",
    "                              bind_cols(test_df) |>\n",
    "                              conf_mat(truth = num, estimate = .pred_class)\n",
    "    return(c(df_summary,best_k,df_conf_mat)) # return the tuple so that I can access best_k in code later\n",
    "    }\n",
    "\n",
    "# model_and_fit(switzerland_accuracy,switzerland_train,switzerland_test, \"Switzerland\")[1] # Switzerland explodes for some reason, probably due to lack of data causing unexpected inputs.\n",
    "\n",
    "\n"
   ]
  },
  {
   "cell_type": "markdown",
   "id": "cdaa2ca6-c930-418f-bc58-5a094407cb11",
   "metadata": {},
   "source": [
    "#### Calculating accuracy using test dataset: All\n",
    "\n",
    "In the cells below we call the function we wrote above to get the accuracy of the model (using the best set of predictors and the best K) as evaluated against the testing set. In each case we must take the first element of the tuple returned by the function, as the function's return value is of the form c(*accuracy*, *best_k*). The cell directly below this one calculates and extracts the accuracy of the model we created for the super-dataset, comprised of information from all the regions considered in this project."
   ]
  },
  {
   "cell_type": "code",
   "execution_count": 54,
   "id": "843988b0-6c0f-4a67-a0f9-32fa7ac35885",
   "metadata": {},
   "outputs": [
    {
     "name": "stdout",
     "output_type": "stream",
     "text": [
      "[1] \"The best value of K for all regions combined is 3\"\n",
      "[1] \"Table 8: Accuracy of the best model for all regions combined\"\n"
     ]
    },
    {
     "data": {
      "text/html": [
       "<ol>\n",
       "\t<li>0.82258064516129</li>\n",
       "</ol>\n"
      ],
      "text/latex": [
       "\\begin{enumerate}\n",
       "\\item 0.82258064516129\n",
       "\\end{enumerate}\n"
      ],
      "text/markdown": [
       "1. 0.82258064516129\n",
       "\n",
       "\n"
      ],
      "text/plain": [
       "[[1]]\n",
       "[1] 0.8225806\n"
      ]
     },
     "metadata": {},
     "output_type": "display_data"
    }
   ],
   "source": [
    "all_mod <- model_and_fit(all_accuracy,all_train,all_test, \"all regions combined\")\n",
    "print(\"Table 8: Accuracy of the best model for all regions combined\") # These steps could have been added to the function, but in this position they help serve as titles too.\n",
    "all_mod[1]\n"
   ]
  },
  {
   "cell_type": "markdown",
   "id": "16ae4384-2804-437d-9519-8fa52e7358b2",
   "metadata": {},
   "source": [
    "#### Calculating accuracy using test dataset: Cleveland\n",
    "\n",
    "In the cell below we calculate the accuracy of the best model we can make using the data specifically from Cleveland."
   ]
  },
  {
   "cell_type": "code",
   "execution_count": 55,
   "id": "3484eb18-8be9-4ba3-b9fc-d31bf110964a",
   "metadata": {},
   "outputs": [
    {
     "name": "stdout",
     "output_type": "stream",
     "text": [
      "[1] \"The best value of K for Cleveland is 15\"\n",
      "[1] \"Table 10: Accuracy of the best model for Cleveland\"\n"
     ]
    },
    {
     "data": {
      "text/html": [
       "<ol>\n",
       "\t<li>0.776315789473684</li>\n",
       "</ol>\n"
      ],
      "text/latex": [
       "\\begin{enumerate}\n",
       "\\item 0.776315789473684\n",
       "\\end{enumerate}\n"
      ],
      "text/markdown": [
       "1. 0.776315789473684\n",
       "\n",
       "\n"
      ],
      "text/plain": [
       "[[1]]\n",
       "[1] 0.7763158\n"
      ]
     },
     "metadata": {},
     "output_type": "display_data"
    }
   ],
   "source": [
    "cl_mod <- model_and_fit(cleveland_accuracy,cleveland_train,cleveland_test, \"Cleveland\")\n",
    "print(\"Table 10: Accuracy of the best model for Cleveland\")\n",
    "cl_mod[1]\n"
   ]
  },
  {
   "cell_type": "markdown",
   "id": "63fd81f6-0cf0-4557-b871-a4908e7f672d",
   "metadata": {},
   "source": [
    "#### Calculating accuracy using test dataset: Hungary\n",
    "\n",
    "In the cell below we calculate the accuracy of the best model we can make using the data specifically from Hungary."
   ]
  },
  {
   "cell_type": "code",
   "execution_count": 56,
   "id": "afc0f347-ffba-4568-afd0-b9841c4d3ade",
   "metadata": {},
   "outputs": [
    {
     "name": "stdout",
     "output_type": "stream",
     "text": [
      "[1] \"The best value of K for Hungary is 9\"\n",
      "[1] \"Table 12: Accuracy of the best model for Hungary\"\n"
     ]
    },
    {
     "data": {
      "text/html": [
       "<ol>\n",
       "\t<li>0.696969696969697</li>\n",
       "</ol>\n"
      ],
      "text/latex": [
       "\\begin{enumerate}\n",
       "\\item 0.696969696969697\n",
       "\\end{enumerate}\n"
      ],
      "text/markdown": [
       "1. 0.696969696969697\n",
       "\n",
       "\n"
      ],
      "text/plain": [
       "[[1]]\n",
       "[1] 0.6969697\n"
      ]
     },
     "metadata": {},
     "output_type": "display_data"
    }
   ],
   "source": [
    "hu_mod <- model_and_fit(hungarian_accuracy,hungarian_train,hungarian_test, \"Hungary\")\n",
    "print(\"Table 12: Accuracy of the best model for Hungary\")\n",
    "hu_mod[1]\n"
   ]
  },
  {
   "cell_type": "markdown",
   "id": "7322e28e-c0d1-4472-a9c6-d3c2dbdc1709",
   "metadata": {},
   "source": [
    "#### Calculating accuracy using test dataset: VA Long Beach\n",
    "\n",
    "In the cell below we calculate the accuracy of the best model we can make using the data specifically from VA Long Beach."
   ]
  },
  {
   "cell_type": "code",
   "execution_count": 57,
   "id": "d53a1da9-59e0-4d59-9e73-8a88950d9f92",
   "metadata": {},
   "outputs": [
    {
     "name": "stdout",
     "output_type": "stream",
     "text": [
      "[1] \"The best value of K for VA Long Beach is 8\"\n",
      "[1] \"Table 14: Accuracy of the best model for VA Long Beach\"\n"
     ]
    },
    {
     "data": {
      "text/html": [
       "<ol>\n",
       "\t<li>0.787878787878788</li>\n",
       "</ol>\n"
      ],
      "text/latex": [
       "\\begin{enumerate}\n",
       "\\item 0.787878787878788\n",
       "\\end{enumerate}\n"
      ],
      "text/markdown": [
       "1. 0.787878787878788\n",
       "\n",
       "\n"
      ],
      "text/plain": [
       "[[1]]\n",
       "[1] 0.7878788\n"
      ]
     },
     "metadata": {},
     "output_type": "display_data"
    }
   ],
   "source": [
    "va_mod <- model_and_fit(va_accuracy,va_train,va_test, \"VA Long Beach\") \n",
    "print(\"Table 14: Accuracy of the best model for VA Long Beach\")\n",
    "va_mod[1]                                                             \n"
   ]
  },
  {
   "cell_type": "markdown",
   "id": "3e3ceaf7-29fa-4e7a-b159-82352a6e6df7",
   "metadata": {},
   "source": [
    "## Visualization of the analysis\n",
    "In this section we use visualization to provide a more concrete interpretation of the results of our analysis. Unfortunately, because we used more than two predictors for each of our models, they are not easily graphed -- humans can only visualize things in three dimensions, and only graphs in two dimensions are truly easy to understand at a glance. \n",
    "\n",
    "This being the case, the most revealing visualization we can produce is the confusion matrix for each model we generated. The confusion matrecies are shown below.\n",
    "\n"
   ]
  },
  {
   "cell_type": "code",
   "execution_count": 58,
   "id": "6d902a51-4ecc-47ad-9ea9-838c286e232e",
   "metadata": {},
   "outputs": [
    {
     "name": "stdout",
     "output_type": "stream",
     "text": [
      "[1] \"Table 9: Confusion Matrix for all regions combined\"\n"
     ]
    },
    {
     "data": {
      "text/plain": [
       "$table\n",
       "          Truth\n",
       "Prediction false true\n",
       "     false    83   20\n",
       "     true     13   70\n"
      ]
     },
     "metadata": {},
     "output_type": "display_data"
    }
   ],
   "source": [
    "print(\"Table 9: Confusion Matrix for all regions combined\")\n",
    "all_mod[3]"
   ]
  },
  {
   "cell_type": "code",
   "execution_count": 59,
   "id": "8e85e493-4ac6-4e2a-9941-cd0f393a0c7d",
   "metadata": {},
   "outputs": [
    {
     "name": "stdout",
     "output_type": "stream",
     "text": [
      "[1] \"Table 13: Confusion Matrix for Hungary\"\n"
     ]
    },
    {
     "data": {
      "text/plain": [
       "$table\n",
       "          Truth\n",
       "Prediction false true\n",
       "     false    14    9\n",
       "     true     11   32\n"
      ]
     },
     "metadata": {},
     "output_type": "display_data"
    }
   ],
   "source": [
    "print(\"Table 13: Confusion Matrix for Hungary\")\n",
    "hu_mod[3]"
   ]
  },
  {
   "cell_type": "code",
   "execution_count": 60,
   "id": "207e0c9d-ea53-40f1-94e8-3ed710d2c2fa",
   "metadata": {},
   "outputs": [
    {
     "name": "stdout",
     "output_type": "stream",
     "text": [
      "[1] \"Table 11: Confusion Matrix for Cleveland\"\n"
     ]
    },
    {
     "data": {
      "text/plain": [
       "$table\n",
       "          Truth\n",
       "Prediction false true\n",
       "     false    27    9\n",
       "     true      8   32\n"
      ]
     },
     "metadata": {},
     "output_type": "display_data"
    }
   ],
   "source": [
    "print(\"Table 11: Confusion Matrix for Cleveland\")\n",
    "cl_mod[3]"
   ]
  },
  {
   "cell_type": "code",
   "execution_count": 61,
   "id": "142b9480-80c5-44af-bff3-045c6521b758",
   "metadata": {},
   "outputs": [
    {
     "name": "stdout",
     "output_type": "stream",
     "text": [
      "[1] \"Table 15: Confusion Matrix for VA Long Beach\"\n"
     ]
    },
    {
     "data": {
      "text/plain": [
       "$table\n",
       "          Truth\n",
       "Prediction false true\n",
       "     false    25    7\n",
       "     true      0    1\n"
      ]
     },
     "metadata": {},
     "output_type": "display_data"
    }
   ],
   "source": [
    "print(\"Table 15: Confusion Matrix for VA Long Beach\")\n",
    "va_mod[3]"
   ]
  },
  {
   "cell_type": "markdown",
   "id": "ecc60270-9a62-4abf-906b-f6ccf82928a6",
   "metadata": {},
   "source": [
    "As a secondary visualization of the analysis, we make a simplified version of our model that uses only two parameters so that we can graph it and observe its predictions. We use the Cleveland dataset, as it is the largest of the regional datasets. We use the predictors cp and thalach, the first two predictors uncovered by our forward selection for this region.  \n",
    "\n",
    "After doing this, we create a graph with \"zones of classification\" -- areas where any new points that fall in them get classified as having a certain class -- overlaid on top of the plot. These zones are produced with code, using the predictions of our simplified model. \n",
    "\n",
    "### Part 1: Find Best K for Simplified Model\n",
    "In the following cell, we identify the best value of k for our simplified, two-parameter KNN model."
   ]
  },
  {
   "cell_type": "code",
   "execution_count": 62,
   "id": "5aa59a43-5ba6-43ca-8877-92839508c965",
   "metadata": {},
   "outputs": [],
   "source": [
    "# Part 1: Best K for 2 predictors\n",
    "# (Since we're unable to visualize more than 3 dimensions, we must pick only 2 predictors: I will select cp and thalach,\n",
    "# which together had pretty decent accuracy results for most of the regions)\n",
    "\n",
    "cleveland_recipe <- recipe(num ~ cp + thalach, data = cleveland_train) |> \n",
    "    step_scale(all_predictors()) |> \n",
    "    step_center(all_predictors())\n",
    " \n",
    "cl_spec_tune <- nearest_neighbor(weight_func = \"rectangular\", neighbors = tune()) |> set_engine(\"kknn\") |> set_mode(\"classification\")\n",
    "\n",
    "cl_fold <- vfold_cv(cleveland_train, v = 10, strata = num)\n",
    "\n",
    "cl_k_fit <- workflow() |>\n",
    "    add_recipe(cleveland_recipe) |>\n",
    "    add_model(cl_spec_tune) |>\n",
    "    tune_grid(resamples = cl_fold, grid = 10) |>\n",
    "    collect_metrics()\n",
    "\n",
    "cl_best_k <- cl_k_fit |> slice_max(mean, n = 1) |> select(neighbors) |> pull()\n",
    "\n",
    "\n",
    "\n",
    "# Interesting idea: plot the number of datapoints in a region vs the best value of K. This can be accomplished by counting the rows of each dataframe and binding these summarized tibbles.\n",
    "# Make the model_and_fit function return a tuple with the accuracy value and the best value of K so that I can pull those and bind them. Or just read the values off the output.\n",
    "# ggplot("
   ]
  },
  {
   "cell_type": "markdown",
   "id": "b1bed3ab-e830-4787-86eb-476c851cf18e",
   "metadata": {},
   "source": [
    "### Part 2: Fit\n",
    "\n",
    "In the next cell, we use the calculated best value of K in a new model that is fit on the training data."
   ]
  },
  {
   "cell_type": "code",
   "execution_count": 63,
   "id": "f714d514-5d41-402e-92eb-4a53f04d7c98",
   "metadata": {},
   "outputs": [],
   "source": [
    "# Part 2: Fit\n",
    "# We're viewing cleveland because it's the most accurate. (we've also then validated the choice of past ML researchers, who used the cleveland set exclusively as well)\n",
    "\n",
    "cleveland_spec <- nearest_neighbor(weight_func = \"rectangular\", neighbors = cl_best_k) |>\n",
    "    set_engine(\"kknn\") |>\n",
    "    set_mode(\"classification\")\n",
    "\n",
    "cleveland_fit <- workflow() |>\n",
    "    add_recipe(cleveland_recipe) |>\n",
    "    add_model(cleveland_spec) |>\n",
    "    fit(data = cleveland_train)\n"
   ]
  },
  {
   "cell_type": "markdown",
   "id": "74890901-a7b9-4d62-b538-66b4de20ba68",
   "metadata": {},
   "source": [
    "### Part 3: Predict\n",
    "\n",
    "In the following cell, we create a grid of artificial values that will be used in visualizing where a point has to fall to be classified as having heart disease or not. We predict the !EA num variable of each of these artificial values for this same purpose. This cell uses a lot of code adapted from the textbook."
   ]
  },
  {
   "cell_type": "code",
   "execution_count": 64,
   "id": "1bed0923-dd45-47e9-9ee7-394ab7a5b4e4",
   "metadata": {},
   "outputs": [],
   "source": [
    "# Part 3: Predict\n",
    "# The following code was adapted for this project from Chapter 6 of \"Data Science: A First Introduction\" by Tiffany Timbers, Trevor Campbell, and Melissa Lee.\n",
    "\n",
    "thal_grid <- seq(min(cleveland_train$thalach),\n",
    "                 max(cleveland_train$thalach),\n",
    "                 length.out = 100) # sets the desired length of the sequence\n",
    "cp_grid <- seq(min(cleveland_train$cp),\n",
    "                 max(cleveland_train$cp),\n",
    "                 length.out = 100) # sets the desired length of the sequence\n",
    "combined_grid <- as_tibble(expand.grid(thalach = thal_grid, cp = cp_grid)) # TODO !EA: figure out using the docs what CP is, put its name here\n",
    "\n",
    "predicted_grid <- predict(cleveland_fit, combined_grid)\n",
    "\n",
    "prediction_table <- bind_cols(predicted_grid,combined_grid) |> rename(num = .pred_class)\n"
   ]
  },
  {
   "cell_type": "markdown",
   "id": "ab2614ab-1030-47fb-93ec-af04be079cf7",
   "metadata": {},
   "source": [
    "### Part 4: Graph\n",
    "In the next cell, we plot each point of the entire Cleveland dataset with the cp variable on the x axis, and the thalach variable on the y axis of a scatterplot. The predicted grid of artificial values is plotted as well, with a large size and low alpha, as a method of visualizing which locations lead to which classifications. The model shows that chest pain is not only correlated with heart disease, as our pre-analysis visualisation demonstrated; chest pain predicts heart disease. We have answered both exploratory and predictive questions with this analysis."
   ]
  },
  {
   "cell_type": "code",
   "execution_count": null,
   "id": "5e30f224-c8ed-432a-a4d1-1658ec6a55c2",
   "metadata": {},
   "outputs": [],
   "source": [
    "# Set graph dimensions\n",
    "options(repr.plot.width=8, repr.plot.height=10)\n",
    "\n",
    "# Part 4: Graph\n",
    "ggplot() +\n",
    "    geom_point(data = cleveland_data,\n",
    "               mapping = aes(x = cp, y = thalach, color = num), alpha = 0.75) +\n",
    "    geom_point(data = prediction_table,\n",
    "               mapping = aes(x = cp, y = thalach, color = num), alpha = 0.02, size = 5) +\n",
    "    labs(color = \"Patient has heart disease\",\n",
    "         x = \"Thalach (maximum heart rate achieved)\",\n",
    "         y = \"CP (no idea what this means rn\",\n",
    "         title =\"Figure 6: Heart disease is strongly correlated with a CP of 4\") +\n",
    "    scale_color_manual(labels = c(\"heart disease present\", \"heart disease not present\"),\n",
    "                       values = c(\"red1\", \"steelblue1\")) +\n",
    "    theme(text = element_text(size = 15))\n",
    "    \n",
    "    \n",
    "\n"
   ]
  },
  {
   "cell_type": "markdown",
   "id": "b000e63b-0f26-4b86-926f-573d93e9c7d8",
   "metadata": {},
   "source": [
    "### Extra: See if there is a relation between number of observations and value of K\n",
    "\n",
    "As a matter of curiosity, we plotted the count of observations versus the calculated best value of K for each of the datasets we built models for (excluding the \"all\" dataset). The results were mixed. There are likely too few examples to draw any solid conclusions (3 is hardly a large sample size) but the result of the smallest of the datasets (VA Long Beach) having the lowest best K is consistent with what we know: a smaller dataset, where individual points are more significant to a given prediction, is more likely to suffer from underfitting if K is large."
   ]
  },
  {
   "cell_type": "code",
   "execution_count": null,
   "id": "51784ea1-5563-4135-86ab-db3646eed2b9",
   "metadata": {},
   "outputs": [],
   "source": [
    "count_by_region <- group_by(all_data, region) |> summarize(count = n())\n",
    "count_by_region <- filter(count_by_region, region != \"S\") # Remove Switzerland because Switzerland 's data has innaccurate knn results due to low size\n",
    "\n",
    "# Add best k values to dataframe, convert from named list to integer vector\n",
    "count_by_region <- bind_cols(count_by_region, tibble(best_k = unlist(c(cl_mod[2],hu_mod[2],va_mod[2]), use.names=FALSE)))\n",
    "# count_by_region <- mutate(count_by_region, best_k = integer(best_k))\n",
    "count_by_region\n",
    "\n",
    "# Make the graph\n",
    "ggplot() +\n",
    "    geom_point(data = count_by_region, \n",
    "               mapping = aes(x = best_k, y = count, color = region), size = 5) +\n",
    "    geom_line(data = count_by_region, \n",
    "               mapping = aes(x = best_k, y = count)) +\n",
    "    labs(x = \"Best value of K for that region\", y = \"# of rows in that region\", color = \"Region\") +\n",
    "    theme(text = element_text(size = 18))\n",
    "\n",
    "# With three datapoints it's hard to draw any clear conclusions. It makes sense that a dataset with very few datapoints would work best with a low value of K, though.\n",
    "                             "
   ]
  },
  {
   "cell_type": "markdown",
   "id": "fd789dd9-ffb0-4b85-9436-43158fac3a55",
   "metadata": {},
   "source": [
    "## Methods\n",
    "\n",
    "In order to decide what variables will be used as predictors for this model, we will employ forward selection, using the metric of accuracy. This will allow us to reliably determine, without assumptions, which variables contribute to improving the accuracy of the model and which do not. Because we have not yet done the analysis (and thus haven’t performed the forward selection yet) we cannot state which columns we will use at this time. To visualize the results, we will plot different choices of *k* for the model vs the accuracy that this choice of parameter produces. We will use this visualization to determine which choice of *k* results in the best accuracy."
   ]
  },
  {
   "cell_type": "markdown",
   "id": "c3aca1b3-7fa9-4b7f-9451-0deca47bf37a",
   "metadata": {},
   "source": [
    "## Expected Outcomes And Significance"
   ]
  },
  {
   "cell_type": "markdown",
   "id": "1bd6ae66-302c-4e33-ad3c-d99a247e1617",
   "metadata": {},
   "source": [
    "### What do you expect to find?\n",
    "\n",
    "With this data analysis, we would expect to find a correlation between whether or not an individual has a heart disease, and certain variables that we could use to predict it. For example, if an individual has a higher than average resting blood pressure, and higher than average cholesterol, we would expect for them to have a similarly higher chance of having a heart disease. This prediction is based on previous knowledge of heart diseases, but with our analysis we would expect to find some other factors that point to an individual having a higher or lower chance of contracting a heart disease. \n",
    "\n",
    "### What impact could such findings have?\n",
    "\n",
    "These findings could allow hospitals to more accurately predict if an individual has a heart disease by attempting to classify it using our data set. It could also reduce the workload of doctors and nurses by automatically calculating how likely it is for someone to have a heart disease, which could get rid of the easy diagnoses and let doctors take over for the more difficult ones. By capturing the most impactful properties that indicate heart disease, we can also attempt to figure out methods of treatment and prevention that directly influence these properties.\n",
    "\n",
    "### What future questions could this lead to?\n",
    "\n",
    "This could lead to further questions about medical diagnoses from data, and if they could ever have any real life applications in the medical field. For example, based on the properties of a mole, could we predict if it is harmful or not? On the other hand, we could also ask the question of how legitimate our model is, by using a completely different heart disease data set and comparing the accuracy. Finally, as we have access to heart disease data from a variety of locations, we could ask the question: do the characteristics of heart disease remain consistent in different regions of the world? If they do not, we could try to figure out how it is different and why."
   ]
  },
  {
   "cell_type": "code",
   "execution_count": null,
   "id": "553aa353-3e54-4e20-a08d-2ff6b313fea3",
   "metadata": {},
   "outputs": [],
   "source": []
  },
  {
   "cell_type": "code",
   "execution_count": null,
   "id": "55243e61-0a73-456d-a30f-b5a3ee544f64",
   "metadata": {},
   "outputs": [],
   "source": []
  },
  {
   "cell_type": "code",
   "execution_count": null,
   "id": "6705221e-1991-48ca-bcba-e7838277257e",
   "metadata": {},
   "outputs": [],
   "source": []
  }
 ],
 "metadata": {
  "kernelspec": {
   "display_name": "R",
   "language": "R",
   "name": "ir"
  },
  "language_info": {
   "codemirror_mode": "r",
   "file_extension": ".r",
   "mimetype": "text/x-r-source",
   "name": "R",
   "pygments_lexer": "r",
   "version": "4.1.3"
  }
 },
 "nbformat": 4,
 "nbformat_minor": 5
}
