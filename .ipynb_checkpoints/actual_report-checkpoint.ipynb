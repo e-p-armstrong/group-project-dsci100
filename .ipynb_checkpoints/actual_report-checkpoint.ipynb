{
 "cells": [
  {
   "cell_type": "markdown",
   "id": "bdf633a9-30fc-402f-bfed-4546ed31c49f",
   "metadata": {
    "tags": []
   },
   "source": [
    "# Predicting Heart Disease Based On Physical Characteristics of Patients"
   ]
  },
  {
   "cell_type": "markdown",
   "id": "4011bf46-9235-485e-a640-6e862d490996",
   "metadata": {},
   "source": [
    "# Introduction\n",
    "\n",
    "Heart disease is an often-lethal condition, and being able to accurately predict if patients have it, based on easy-to-observe qualities, would allow for quicker action from doctors and better patient outcomes. So here we ask the question: is it possible to predict whether a patient has heart disease based on a set of measurable factors? To build a model that could answer this, we used the publicly-available heart disease dataset donated by the Hungarian Institute of Cardiology, the University Hospitals of Zurich and Basel, the V. A. Medical Center of Long Beach, and the Cleveland Clinic Foundation. Each row in this dataset represents a patient, and the columns store physical, health-related information about each patient — such as their age, sex, type of chest pain, and resting blood pressure. There are 14 variables in total. The column we are attempting to predict has values of either “true” or “false”, indicating whether a patient has some variety of heart disease. The dataset contains four databases, each with around 100 to 300 patients, donated by institutions in Switzerland, Hungary, and two locations in America. We trained and tested our model on data from all of the databases, as this gives us a larger sample size, and an additional variable to work with (region). This brings the total number of columns in our dataset to 15."
   ]
  },
  {
   "cell_type": "markdown",
   "id": "ecfea2c2-83ef-477e-9e24-368fdd206d86",
   "metadata": {},
   "source": [
    "## Preliminary Exploratory Data Analysis"
   ]
  },
  {
   "cell_type": "markdown",
   "id": "59612134-9de0-401c-897e-e9b099955e5b",
   "metadata": {
    "tags": []
   },
   "source": [
    "### Imports\n",
    "In this cell we import a number of neccessary libraries, whose functions we will be using frequently in the analysis. Of note are tidyverse and tidymodels. We also set the seed of the program so that running it multiple times will produce consistent results"
   ]
  },
  {
   "cell_type": "code",
   "execution_count": 1,
   "id": "67a9c354-41d0-4f63-b4ff-4cf62e85d59f",
   "metadata": {},
   "outputs": [
    {
     "name": "stderr",
     "output_type": "stream",
     "text": [
      "── \u001b[1mAttaching packages\u001b[22m ─────────────────────────────────────── tidyverse 1.3.1 ──\n",
      "\n",
      "\u001b[32m✔\u001b[39m \u001b[34mggplot2\u001b[39m 3.3.6     \u001b[32m✔\u001b[39m \u001b[34mpurrr  \u001b[39m 0.3.4\n",
      "\u001b[32m✔\u001b[39m \u001b[34mtibble \u001b[39m 3.1.7     \u001b[32m✔\u001b[39m \u001b[34mdplyr  \u001b[39m 1.0.9\n",
      "\u001b[32m✔\u001b[39m \u001b[34mtidyr  \u001b[39m 1.2.0     \u001b[32m✔\u001b[39m \u001b[34mstringr\u001b[39m 1.4.0\n",
      "\u001b[32m✔\u001b[39m \u001b[34mreadr  \u001b[39m 2.1.2     \u001b[32m✔\u001b[39m \u001b[34mforcats\u001b[39m 0.5.1\n",
      "\n",
      "── \u001b[1mConflicts\u001b[22m ────────────────────────────────────────── tidyverse_conflicts() ──\n",
      "\u001b[31m✖\u001b[39m \u001b[34mdplyr\u001b[39m::\u001b[32mfilter()\u001b[39m masks \u001b[34mstats\u001b[39m::filter()\n",
      "\u001b[31m✖\u001b[39m \u001b[34mdplyr\u001b[39m::\u001b[32mlag()\u001b[39m    masks \u001b[34mstats\u001b[39m::lag()\n",
      "\n",
      "── \u001b[1mAttaching packages\u001b[22m ────────────────────────────────────── tidymodels 1.0.0 ──\n",
      "\n",
      "\u001b[32m✔\u001b[39m \u001b[34mbroom       \u001b[39m 1.0.0     \u001b[32m✔\u001b[39m \u001b[34mrsample     \u001b[39m 1.0.0\n",
      "\u001b[32m✔\u001b[39m \u001b[34mdials       \u001b[39m 1.0.0     \u001b[32m✔\u001b[39m \u001b[34mtune        \u001b[39m 1.0.0\n",
      "\u001b[32m✔\u001b[39m \u001b[34minfer       \u001b[39m 1.0.2     \u001b[32m✔\u001b[39m \u001b[34mworkflows   \u001b[39m 1.0.0\n",
      "\u001b[32m✔\u001b[39m \u001b[34mmodeldata   \u001b[39m 1.0.0     \u001b[32m✔\u001b[39m \u001b[34mworkflowsets\u001b[39m 1.0.0\n",
      "\u001b[32m✔\u001b[39m \u001b[34mparsnip     \u001b[39m 1.0.0     \u001b[32m✔\u001b[39m \u001b[34myardstick   \u001b[39m 1.0.0\n",
      "\u001b[32m✔\u001b[39m \u001b[34mrecipes     \u001b[39m 1.0.1     \n",
      "\n",
      "── \u001b[1mConflicts\u001b[22m ───────────────────────────────────────── tidymodels_conflicts() ──\n",
      "\u001b[31m✖\u001b[39m \u001b[34mscales\u001b[39m::\u001b[32mdiscard()\u001b[39m masks \u001b[34mpurrr\u001b[39m::discard()\n",
      "\u001b[31m✖\u001b[39m \u001b[34mdplyr\u001b[39m::\u001b[32mfilter()\u001b[39m   masks \u001b[34mstats\u001b[39m::filter()\n",
      "\u001b[31m✖\u001b[39m \u001b[34mrecipes\u001b[39m::\u001b[32mfixed()\u001b[39m  masks \u001b[34mstringr\u001b[39m::fixed()\n",
      "\u001b[31m✖\u001b[39m \u001b[34mdplyr\u001b[39m::\u001b[32mlag()\u001b[39m      masks \u001b[34mstats\u001b[39m::lag()\n",
      "\u001b[31m✖\u001b[39m \u001b[34myardstick\u001b[39m::\u001b[32mspec()\u001b[39m masks \u001b[34mreadr\u001b[39m::spec()\n",
      "\u001b[31m✖\u001b[39m \u001b[34mrecipes\u001b[39m::\u001b[32mstep()\u001b[39m   masks \u001b[34mstats\u001b[39m::step()\n",
      "\u001b[34m•\u001b[39m Use suppressPackageStartupMessages() to eliminate package startup messages\n",
      "\n"
     ]
    }
   ],
   "source": [
    "library(tidyverse)\n",
    "library(repr)\n",
    "library(tidymodels)\n",
    "options(repr.matrix.max.rows = 6)\n",
    "set.seed(1048596) # specific seed number picked because Steins;Gate references automatically make the code work better because of convergence or something "
   ]
  },
  {
   "cell_type": "markdown",
   "id": "0f282247-bb0a-42b6-8f3d-85c2f53e10eb",
   "metadata": {},
   "source": [
    "### Reading and tidying the data: to start with, a function\n",
    "\n",
    "We have a number of datasets that we're working with in this analysis: data on heart disease from health centers of Cleveland, Long Beach (Veteran's Affairs), Hungary, and Switzerland. For each of them we want to first load them and then \"tidy\" them — in this case, this means we want to select a few relevant columns out of the whole bunch, remove columns with NA values (cases where key data wasn't recorded, these points do not work well with numbers-based classification algorithms like KNN), and also change the types of some columns that are loaded in as character vectors to numeric. A key coding concept is DRY — Don't Repeat Yourself — and so we write a function which performs some of the more repetitive tasks on a freshly-loaded dataframe for us. This function descriptively renames the initially-nameless columns, assigns a region to loaded observations, changes \"num\" from a numeric to a character vector (which makes more sense for a factor, and is also easier interpret), and selects the specific columns we want for the purposes of this analysis. \n",
    "\n",
    "We picked the columns we did because \n",
    "## !!!!!!!**DOMAIN ANALYSIS WOULD GO HERE**!!!!!!!\n",
    "Also note to self: change num to has_heart_disease or something, num makes absolutely 0 sense after it was converted to a factor."
   ]
  },
  {
   "cell_type": "code",
   "execution_count": 2,
   "id": "67cac22c-281b-48a5-a7aa-4ef6ebbceeb3",
   "metadata": {},
   "outputs": [],
   "source": [
    "# Function to tidy up each of the separate datasets\n",
    "# Discovery: in the non-cleveland sets, many of the more obscure columns have missing values in some rows. If you filter out all the rows that don't have missing values anywhere you sometimes end up with none from that set.\n",
    "# TODO: get domain knowledge, use to find best predictors to use\n",
    "\n",
    "tidy_heart_data <- function(df, region=\"\") {\n",
    "    colnames(df) <- column_names\n",
    "    df <- mutate(df, region=region) #cleveland\n",
    "    df$num<-ifelse(df$num==0,\"true\",\"false\")\n",
    "    if (region != \"\") {\n",
    "        df <- mutate(df, region=as.factor(region))\n",
    "        }\n",
    "    return (df |> select(num,\n",
    "                         region,\n",
    "                         cp,\n",
    "                         sex,\n",
    "                         thalach,\n",
    "                         trestbps,\n",
    "                         chol,\n",
    "                         fbs,\n",
    "                         restecg) |> \n",
    "                          filter(cp!=\"?\",\n",
    "                                 sex!=\"?\",\n",
    "                                 thalach!=\"?\",\n",
    "                                 trestbps!=\"?\",\n",
    "                                 trestbps!=\"0\",\n",
    "                                 chol!=\"?\",\n",
    "                                 fbs!=\"?\",\n",
    "                                 restecg!=\"?\")|>\n",
    "                                 # exang!=\"?\",\n",
    "                                 # oldpeak!=\"?\",\n",
    "                                 # slope!=\"?\",\n",
    "                                 # ca!=\"?\",\n",
    "                                 # thal!=\"?\"\n",
    "                        \n",
    "                          mutate(region=as.factor(region),\n",
    "                                 sex=as.numeric(sex),\n",
    "                                 cp=as.numeric(cp),\n",
    "                                 thalach=as.numeric(thalach),\n",
    "                                 trestbps=as.numeric(trestbps),\n",
    "                                 chol=as.numeric(chol),\n",
    "                                 fbs=as.numeric(fbs),\n",
    "                                 restecg=as.numeric(restecg),\n",
    "                                 # exang=as.numeric(exang),\n",
    "                                 # oldpeak=as.numeric(oldpeak),\n",
    "                                 # slope=as.numeric(slope),\n",
    "                                 # ca=as.numeric(ca),\n",
    "                                 # thal=as.numeric(thal),\n",
    "                                 num = as.factor(num)))\n",
    "    }\n",
    "\n",
    "column_names <-c(\"age\",\"sex\",\"cp\",\"trestbps\",\"chol\",\"fbs\",\"restecg\",\"thalach\",\"exang\",\"oldpeak\",\"slope\",\"ca\",\"thal\",\"num\")"
   ]
  },
  {
   "cell_type": "markdown",
   "id": "db0c4fbf-2c21-4478-b28b-aa12f19d7c18",
   "metadata": {},
   "source": [
    "### Reading and tidying the data: Calling the function\n",
    "The cells below each call the above function with the freshly-loaded dataframe, and the region name corresponding to the loaded region. \n",
    "\n",
    "#### Cleveland \n",
    "In the case directly below, we load and tidy the data from the Cleveland Clinic Foundation."
   ]
  },
  {
   "cell_type": "code",
   "execution_count": 3,
   "id": "71ef0db6-4345-4d2f-aec0-f8463593884f",
   "metadata": {},
   "outputs": [
    {
     "name": "stderr",
     "output_type": "stream",
     "text": [
      "\u001b[1mRows: \u001b[22m\u001b[34m303\u001b[39m \u001b[1mColumns: \u001b[22m\u001b[34m14\u001b[39m\n",
      "\u001b[36m──\u001b[39m \u001b[1mColumn specification\u001b[22m \u001b[36m────────────────────────────────────────────────────────\u001b[39m\n",
      "\u001b[1mDelimiter:\u001b[22m \",\"\n",
      "\u001b[31mchr\u001b[39m  (2): X12, X13\n",
      "\u001b[32mdbl\u001b[39m (12): X1, X2, X3, X4, X5, X6, X7, X8, X9, X10, X11, X14\n",
      "\n",
      "\u001b[36mℹ\u001b[39m Use `spec()` to retrieve the full column specification for this data.\n",
      "\u001b[36mℹ\u001b[39m Specify the column types or set `show_col_types = FALSE` to quiet this message.\n"
     ]
    },
    {
     "data": {
      "text/html": [
       "<table class=\"dataframe\">\n",
       "<caption>A tibble: 303 × 9</caption>\n",
       "<thead>\n",
       "\t<tr><th scope=col>num</th><th scope=col>region</th><th scope=col>cp</th><th scope=col>sex</th><th scope=col>thalach</th><th scope=col>trestbps</th><th scope=col>chol</th><th scope=col>fbs</th><th scope=col>restecg</th></tr>\n",
       "\t<tr><th scope=col>&lt;fct&gt;</th><th scope=col>&lt;fct&gt;</th><th scope=col>&lt;dbl&gt;</th><th scope=col>&lt;dbl&gt;</th><th scope=col>&lt;dbl&gt;</th><th scope=col>&lt;dbl&gt;</th><th scope=col>&lt;dbl&gt;</th><th scope=col>&lt;dbl&gt;</th><th scope=col>&lt;dbl&gt;</th></tr>\n",
       "</thead>\n",
       "<tbody>\n",
       "\t<tr><td>true </td><td>C</td><td>1</td><td>1</td><td>150</td><td>145</td><td>233</td><td>1</td><td>2</td></tr>\n",
       "\t<tr><td>false</td><td>C</td><td>4</td><td>1</td><td>108</td><td>160</td><td>286</td><td>0</td><td>2</td></tr>\n",
       "\t<tr><td>false</td><td>C</td><td>4</td><td>1</td><td>129</td><td>120</td><td>229</td><td>0</td><td>2</td></tr>\n",
       "\t<tr><td>⋮</td><td>⋮</td><td>⋮</td><td>⋮</td><td>⋮</td><td>⋮</td><td>⋮</td><td>⋮</td><td>⋮</td></tr>\n",
       "\t<tr><td>false</td><td>C</td><td>4</td><td>1</td><td>115</td><td>130</td><td>131</td><td>0</td><td>0</td></tr>\n",
       "\t<tr><td>false</td><td>C</td><td>2</td><td>0</td><td>174</td><td>130</td><td>236</td><td>0</td><td>2</td></tr>\n",
       "\t<tr><td>true </td><td>C</td><td>3</td><td>1</td><td>173</td><td>138</td><td>175</td><td>0</td><td>0</td></tr>\n",
       "</tbody>\n",
       "</table>\n"
      ],
      "text/latex": [
       "A tibble: 303 × 9\n",
       "\\begin{tabular}{lllllllll}\n",
       " num & region & cp & sex & thalach & trestbps & chol & fbs & restecg\\\\\n",
       " <fct> & <fct> & <dbl> & <dbl> & <dbl> & <dbl> & <dbl> & <dbl> & <dbl>\\\\\n",
       "\\hline\n",
       "\t true  & C & 1 & 1 & 150 & 145 & 233 & 1 & 2\\\\\n",
       "\t false & C & 4 & 1 & 108 & 160 & 286 & 0 & 2\\\\\n",
       "\t false & C & 4 & 1 & 129 & 120 & 229 & 0 & 2\\\\\n",
       "\t ⋮ & ⋮ & ⋮ & ⋮ & ⋮ & ⋮ & ⋮ & ⋮ & ⋮\\\\\n",
       "\t false & C & 4 & 1 & 115 & 130 & 131 & 0 & 0\\\\\n",
       "\t false & C & 2 & 0 & 174 & 130 & 236 & 0 & 2\\\\\n",
       "\t true  & C & 3 & 1 & 173 & 138 & 175 & 0 & 0\\\\\n",
       "\\end{tabular}\n"
      ],
      "text/markdown": [
       "\n",
       "A tibble: 303 × 9\n",
       "\n",
       "| num &lt;fct&gt; | region &lt;fct&gt; | cp &lt;dbl&gt; | sex &lt;dbl&gt; | thalach &lt;dbl&gt; | trestbps &lt;dbl&gt; | chol &lt;dbl&gt; | fbs &lt;dbl&gt; | restecg &lt;dbl&gt; |\n",
       "|---|---|---|---|---|---|---|---|---|\n",
       "| true  | C | 1 | 1 | 150 | 145 | 233 | 1 | 2 |\n",
       "| false | C | 4 | 1 | 108 | 160 | 286 | 0 | 2 |\n",
       "| false | C | 4 | 1 | 129 | 120 | 229 | 0 | 2 |\n",
       "| ⋮ | ⋮ | ⋮ | ⋮ | ⋮ | ⋮ | ⋮ | ⋮ | ⋮ |\n",
       "| false | C | 4 | 1 | 115 | 130 | 131 | 0 | 0 |\n",
       "| false | C | 2 | 0 | 174 | 130 | 236 | 0 | 2 |\n",
       "| true  | C | 3 | 1 | 173 | 138 | 175 | 0 | 0 |\n",
       "\n"
      ],
      "text/plain": [
       "    num   region cp sex thalach trestbps chol fbs restecg\n",
       "1   true  C      1  1   150     145      233  1   2      \n",
       "2   false C      4  1   108     160      286  0   2      \n",
       "3   false C      4  1   129     120      229  0   2      \n",
       "⋮   ⋮     ⋮      ⋮  ⋮   ⋮       ⋮        ⋮    ⋮   ⋮      \n",
       "301 false C      4  1   115     130      131  0   0      \n",
       "302 false C      2  0   174     130      236  0   2      \n",
       "303 true  C      3  1   173     138      175  0   0      "
      ]
     },
     "metadata": {},
     "output_type": "display_data"
    }
   ],
   "source": [
    "cleveland_data<- read_delim(\"https://archive.ics.uci.edu/ml/machine-learning-databases/heart-disease/processed.cleveland.data\",\n",
    "                         col_name = FALSE)\n",
    "cleveland_data <- tidy_heart_data(cleveland_data,\"C\")\n",
    "\n",
    "cleveland_data               \n",
    "# Table 1"
   ]
  },
  {
   "cell_type": "markdown",
   "id": "009e0153-7fb1-40cd-86fe-90cb3c345b71",
   "metadata": {},
   "source": [
    "#### Hungary\n",
    "Next, we load and tidy the data from The University Hospital of Basel. The usefulness of the function we wrote in reducing clutter is already evident."
   ]
  },
  {
   "cell_type": "code",
   "execution_count": 4,
   "id": "d35bfc8b-3478-4a34-b0d4-3035cc09149c",
   "metadata": {},
   "outputs": [
    {
     "name": "stderr",
     "output_type": "stream",
     "text": [
      "\u001b[1mRows: \u001b[22m\u001b[34m294\u001b[39m \u001b[1mColumns: \u001b[22m\u001b[34m14\u001b[39m\n",
      "\u001b[36m──\u001b[39m \u001b[1mColumn specification\u001b[22m \u001b[36m────────────────────────────────────────────────────────\u001b[39m\n",
      "\u001b[1mDelimiter:\u001b[22m \",\"\n",
      "\u001b[31mchr\u001b[39m (9): X4, X5, X6, X7, X8, X9, X11, X12, X13\n",
      "\u001b[32mdbl\u001b[39m (5): X1, X2, X3, X10, X14\n",
      "\n",
      "\u001b[36mℹ\u001b[39m Use `spec()` to retrieve the full column specification for this data.\n",
      "\u001b[36mℹ\u001b[39m Specify the column types or set `show_col_types = FALSE` to quiet this message.\n"
     ]
    },
    {
     "data": {
      "text/html": [
       "<table class=\"dataframe\">\n",
       "<caption>A tibble: 261 × 9</caption>\n",
       "<thead>\n",
       "\t<tr><th scope=col>num</th><th scope=col>region</th><th scope=col>cp</th><th scope=col>sex</th><th scope=col>thalach</th><th scope=col>trestbps</th><th scope=col>chol</th><th scope=col>fbs</th><th scope=col>restecg</th></tr>\n",
       "\t<tr><th scope=col>&lt;fct&gt;</th><th scope=col>&lt;fct&gt;</th><th scope=col>&lt;dbl&gt;</th><th scope=col>&lt;dbl&gt;</th><th scope=col>&lt;dbl&gt;</th><th scope=col>&lt;dbl&gt;</th><th scope=col>&lt;dbl&gt;</th><th scope=col>&lt;dbl&gt;</th><th scope=col>&lt;dbl&gt;</th></tr>\n",
       "</thead>\n",
       "<tbody>\n",
       "\t<tr><td>true</td><td>H</td><td>2</td><td>1</td><td>185</td><td>130</td><td>132</td><td>0</td><td>2</td></tr>\n",
       "\t<tr><td>true</td><td>H</td><td>2</td><td>1</td><td>160</td><td>120</td><td>243</td><td>0</td><td>0</td></tr>\n",
       "\t<tr><td>true</td><td>H</td><td>1</td><td>0</td><td>170</td><td>170</td><td>237</td><td>0</td><td>1</td></tr>\n",
       "\t<tr><td>⋮</td><td>⋮</td><td>⋮</td><td>⋮</td><td>⋮</td><td>⋮</td><td>⋮</td><td>⋮</td><td>⋮</td></tr>\n",
       "\t<tr><td>false</td><td>H</td><td>4</td><td>1</td><td>150</td><td>155</td><td>342</td><td>1</td><td>0</td></tr>\n",
       "\t<tr><td>false</td><td>H</td><td>2</td><td>0</td><td>110</td><td>180</td><td>393</td><td>0</td><td>0</td></tr>\n",
       "\t<tr><td>false</td><td>H</td><td>4</td><td>1</td><td>115</td><td>130</td><td>275</td><td>0</td><td>1</td></tr>\n",
       "</tbody>\n",
       "</table>\n"
      ],
      "text/latex": [
       "A tibble: 261 × 9\n",
       "\\begin{tabular}{lllllllll}\n",
       " num & region & cp & sex & thalach & trestbps & chol & fbs & restecg\\\\\n",
       " <fct> & <fct> & <dbl> & <dbl> & <dbl> & <dbl> & <dbl> & <dbl> & <dbl>\\\\\n",
       "\\hline\n",
       "\t true & H & 2 & 1 & 185 & 130 & 132 & 0 & 2\\\\\n",
       "\t true & H & 2 & 1 & 160 & 120 & 243 & 0 & 0\\\\\n",
       "\t true & H & 1 & 0 & 170 & 170 & 237 & 0 & 1\\\\\n",
       "\t ⋮ & ⋮ & ⋮ & ⋮ & ⋮ & ⋮ & ⋮ & ⋮ & ⋮\\\\\n",
       "\t false & H & 4 & 1 & 150 & 155 & 342 & 1 & 0\\\\\n",
       "\t false & H & 2 & 0 & 110 & 180 & 393 & 0 & 0\\\\\n",
       "\t false & H & 4 & 1 & 115 & 130 & 275 & 0 & 1\\\\\n",
       "\\end{tabular}\n"
      ],
      "text/markdown": [
       "\n",
       "A tibble: 261 × 9\n",
       "\n",
       "| num &lt;fct&gt; | region &lt;fct&gt; | cp &lt;dbl&gt; | sex &lt;dbl&gt; | thalach &lt;dbl&gt; | trestbps &lt;dbl&gt; | chol &lt;dbl&gt; | fbs &lt;dbl&gt; | restecg &lt;dbl&gt; |\n",
       "|---|---|---|---|---|---|---|---|---|\n",
       "| true | H | 2 | 1 | 185 | 130 | 132 | 0 | 2 |\n",
       "| true | H | 2 | 1 | 160 | 120 | 243 | 0 | 0 |\n",
       "| true | H | 1 | 0 | 170 | 170 | 237 | 0 | 1 |\n",
       "| ⋮ | ⋮ | ⋮ | ⋮ | ⋮ | ⋮ | ⋮ | ⋮ | ⋮ |\n",
       "| false | H | 4 | 1 | 150 | 155 | 342 | 1 | 0 |\n",
       "| false | H | 2 | 0 | 110 | 180 | 393 | 0 | 0 |\n",
       "| false | H | 4 | 1 | 115 | 130 | 275 | 0 | 1 |\n",
       "\n"
      ],
      "text/plain": [
       "    num   region cp sex thalach trestbps chol fbs restecg\n",
       "1   true  H      2  1   185     130      132  0   2      \n",
       "2   true  H      2  1   160     120      243  0   0      \n",
       "3   true  H      1  0   170     170      237  0   1      \n",
       "⋮   ⋮     ⋮      ⋮  ⋮   ⋮       ⋮        ⋮    ⋮   ⋮      \n",
       "259 false H      4  1   150     155      342  1   0      \n",
       "260 false H      2  0   110     180      393  0   0      \n",
       "261 false H      4  1   115     130      275  0   1      "
      ]
     },
     "metadata": {},
     "output_type": "display_data"
    }
   ],
   "source": [
    "hungarian_data<-read_delim(\"https://archive.ics.uci.edu/ml/machine-learning-databases/heart-disease/processed.hungarian.data\",\n",
    "                          col_name = FALSE)\n",
    "hungarian_data <- tidy_heart_data(hungarian_data,\"H\")\n",
    "hungarian_data\n",
    "# Table 2"
   ]
  },
  {
   "cell_type": "markdown",
   "id": "1b1a2a7c-0fad-4559-bfbc-a7e9280bdf65",
   "metadata": {},
   "source": [
    "#### Switzerland\n",
    "Here we perform the same procedure for Switzerland. Note the size of this table is much smaller than the rest of the ones we have loaded so far: not only is it the smallest of the datasets we have, coming in around 130 rows, but it also includes many missing values, which means this small size gets shrunk down even further after we process it. This will have ramifications for later parts of our analysis."
   ]
  },
  {
   "cell_type": "code",
   "execution_count": 5,
   "id": "d8e0317b-2e9e-448b-a8f4-df1c8a947517",
   "metadata": {},
   "outputs": [
    {
     "name": "stderr",
     "output_type": "stream",
     "text": [
      "\u001b[1mRows: \u001b[22m\u001b[34m123\u001b[39m \u001b[1mColumns: \u001b[22m\u001b[34m14\u001b[39m\n",
      "\u001b[36m──\u001b[39m \u001b[1mColumn specification\u001b[22m \u001b[36m────────────────────────────────────────────────────────\u001b[39m\n",
      "\u001b[1mDelimiter:\u001b[22m \",\"\n",
      "\u001b[31mchr\u001b[39m (9): X4, X6, X7, X8, X9, X10, X11, X12, X13\n",
      "\u001b[32mdbl\u001b[39m (5): X1, X2, X3, X5, X14\n",
      "\n",
      "\u001b[36mℹ\u001b[39m Use `spec()` to retrieve the full column specification for this data.\n",
      "\u001b[36mℹ\u001b[39m Specify the column types or set `show_col_types = FALSE` to quiet this message.\n"
     ]
    },
    {
     "data": {
      "text/html": [
       "<table class=\"dataframe\">\n",
       "<caption>A tibble: 47 × 9</caption>\n",
       "<thead>\n",
       "\t<tr><th scope=col>num</th><th scope=col>region</th><th scope=col>cp</th><th scope=col>sex</th><th scope=col>thalach</th><th scope=col>trestbps</th><th scope=col>chol</th><th scope=col>fbs</th><th scope=col>restecg</th></tr>\n",
       "\t<tr><th scope=col>&lt;fct&gt;</th><th scope=col>&lt;fct&gt;</th><th scope=col>&lt;dbl&gt;</th><th scope=col>&lt;dbl&gt;</th><th scope=col>&lt;dbl&gt;</th><th scope=col>&lt;dbl&gt;</th><th scope=col>&lt;dbl&gt;</th><th scope=col>&lt;dbl&gt;</th><th scope=col>&lt;dbl&gt;</th></tr>\n",
       "</thead>\n",
       "<tbody>\n",
       "\t<tr><td>false</td><td>S</td><td>4</td><td>0</td><td>156</td><td>110</td><td>0</td><td>0</td><td>0</td></tr>\n",
       "\t<tr><td>false</td><td>S</td><td>3</td><td>1</td><td>128</td><td>115</td><td>0</td><td>0</td><td>0</td></tr>\n",
       "\t<tr><td>false</td><td>S</td><td>4</td><td>1</td><td> 99</td><td>145</td><td>0</td><td>0</td><td>0</td></tr>\n",
       "\t<tr><td>⋮</td><td>⋮</td><td>⋮</td><td>⋮</td><td>⋮</td><td>⋮</td><td>⋮</td><td>⋮</td><td>⋮</td></tr>\n",
       "\t<tr><td>false</td><td>S</td><td>4</td><td>1</td><td> 92</td><td>115</td><td>0</td><td>0</td><td>1</td></tr>\n",
       "\t<tr><td>false</td><td>S</td><td>4</td><td>1</td><td>157</td><td>140</td><td>0</td><td>1</td><td>0</td></tr>\n",
       "\t<tr><td>false</td><td>S</td><td>3</td><td>0</td><td>121</td><td>160</td><td>0</td><td>0</td><td>1</td></tr>\n",
       "</tbody>\n",
       "</table>\n"
      ],
      "text/latex": [
       "A tibble: 47 × 9\n",
       "\\begin{tabular}{lllllllll}\n",
       " num & region & cp & sex & thalach & trestbps & chol & fbs & restecg\\\\\n",
       " <fct> & <fct> & <dbl> & <dbl> & <dbl> & <dbl> & <dbl> & <dbl> & <dbl>\\\\\n",
       "\\hline\n",
       "\t false & S & 4 & 0 & 156 & 110 & 0 & 0 & 0\\\\\n",
       "\t false & S & 3 & 1 & 128 & 115 & 0 & 0 & 0\\\\\n",
       "\t false & S & 4 & 1 &  99 & 145 & 0 & 0 & 0\\\\\n",
       "\t ⋮ & ⋮ & ⋮ & ⋮ & ⋮ & ⋮ & ⋮ & ⋮ & ⋮\\\\\n",
       "\t false & S & 4 & 1 &  92 & 115 & 0 & 0 & 1\\\\\n",
       "\t false & S & 4 & 1 & 157 & 140 & 0 & 1 & 0\\\\\n",
       "\t false & S & 3 & 0 & 121 & 160 & 0 & 0 & 1\\\\\n",
       "\\end{tabular}\n"
      ],
      "text/markdown": [
       "\n",
       "A tibble: 47 × 9\n",
       "\n",
       "| num &lt;fct&gt; | region &lt;fct&gt; | cp &lt;dbl&gt; | sex &lt;dbl&gt; | thalach &lt;dbl&gt; | trestbps &lt;dbl&gt; | chol &lt;dbl&gt; | fbs &lt;dbl&gt; | restecg &lt;dbl&gt; |\n",
       "|---|---|---|---|---|---|---|---|---|\n",
       "| false | S | 4 | 0 | 156 | 110 | 0 | 0 | 0 |\n",
       "| false | S | 3 | 1 | 128 | 115 | 0 | 0 | 0 |\n",
       "| false | S | 4 | 1 |  99 | 145 | 0 | 0 | 0 |\n",
       "| ⋮ | ⋮ | ⋮ | ⋮ | ⋮ | ⋮ | ⋮ | ⋮ | ⋮ |\n",
       "| false | S | 4 | 1 |  92 | 115 | 0 | 0 | 1 |\n",
       "| false | S | 4 | 1 | 157 | 140 | 0 | 1 | 0 |\n",
       "| false | S | 3 | 0 | 121 | 160 | 0 | 0 | 1 |\n",
       "\n"
      ],
      "text/plain": [
       "   num   region cp sex thalach trestbps chol fbs restecg\n",
       "1  false S      4  0   156     110      0    0   0      \n",
       "2  false S      3  1   128     115      0    0   0      \n",
       "3  false S      4  1    99     145      0    0   0      \n",
       "⋮  ⋮     ⋮      ⋮  ⋮   ⋮       ⋮        ⋮    ⋮   ⋮      \n",
       "45 false S      4  1    92     115      0    0   1      \n",
       "46 false S      4  1   157     140      0    1   0      \n",
       "47 false S      3  0   121     160      0    0   1      "
      ]
     },
     "metadata": {},
     "output_type": "display_data"
    }
   ],
   "source": [
    "\n",
    "switzerland_data<-read_delim(\"https://archive.ics.uci.edu/ml/machine-learning-databases/heart-disease/processed.switzerland.data\",\n",
    "                            col_name = FALSE)\n",
    "switzerland_data <- tidy_heart_data(switzerland_data,\"S\")\n",
    "switzerland_data\n",
    "# Table 3"
   ]
  },
  {
   "cell_type": "markdown",
   "id": "921465d5-17fd-4590-8baf-7a8840cb4db1",
   "metadata": {},
   "source": [
    "#### VA Long Beach\n",
    "We call the function we wrote earlier to tidy the data from the V. A. Medical Center of Long Beach."
   ]
  },
  {
   "cell_type": "code",
   "execution_count": 6,
   "id": "64d28ba2-33b7-4266-858b-ed8a630403a8",
   "metadata": {},
   "outputs": [
    {
     "name": "stderr",
     "output_type": "stream",
     "text": [
      "\u001b[1mRows: \u001b[22m\u001b[34m200\u001b[39m \u001b[1mColumns: \u001b[22m\u001b[34m14\u001b[39m\n",
      "\u001b[36m──\u001b[39m \u001b[1mColumn specification\u001b[22m \u001b[36m────────────────────────────────────────────────────────\u001b[39m\n",
      "\u001b[1mDelimiter:\u001b[22m \",\"\n",
      "\u001b[31mchr\u001b[39m (9): X4, X5, X6, X8, X9, X10, X11, X12, X13\n",
      "\u001b[32mdbl\u001b[39m (5): X1, X2, X3, X7, X14\n",
      "\n",
      "\u001b[36mℹ\u001b[39m Use `spec()` to retrieve the full column specification for this data.\n",
      "\u001b[36mℹ\u001b[39m Specify the column types or set `show_col_types = FALSE` to quiet this message.\n"
     ]
    },
    {
     "data": {
      "text/html": [
       "<table class=\"dataframe\">\n",
       "<caption>A tibble: 132 × 9</caption>\n",
       "<thead>\n",
       "\t<tr><th scope=col>num</th><th scope=col>region</th><th scope=col>cp</th><th scope=col>sex</th><th scope=col>thalach</th><th scope=col>trestbps</th><th scope=col>chol</th><th scope=col>fbs</th><th scope=col>restecg</th></tr>\n",
       "\t<tr><th scope=col>&lt;fct&gt;</th><th scope=col>&lt;fct&gt;</th><th scope=col>&lt;dbl&gt;</th><th scope=col>&lt;dbl&gt;</th><th scope=col>&lt;dbl&gt;</th><th scope=col>&lt;dbl&gt;</th><th scope=col>&lt;dbl&gt;</th><th scope=col>&lt;dbl&gt;</th><th scope=col>&lt;dbl&gt;</th></tr>\n",
       "</thead>\n",
       "<tbody>\n",
       "\t<tr><td>false</td><td>VA</td><td>4</td><td>1</td><td>112</td><td>140</td><td>260</td><td>0</td><td>1</td></tr>\n",
       "\t<tr><td>true </td><td>VA</td><td>4</td><td>1</td><td>127</td><td>130</td><td>209</td><td>0</td><td>1</td></tr>\n",
       "\t<tr><td>false</td><td>VA</td><td>4</td><td>1</td><td>140</td><td>132</td><td>218</td><td>0</td><td>1</td></tr>\n",
       "\t<tr><td>⋮</td><td>⋮</td><td>⋮</td><td>⋮</td><td>⋮</td><td>⋮</td><td>⋮</td><td>⋮</td><td>⋮</td></tr>\n",
       "\t<tr><td>false</td><td>VA</td><td>4</td><td>0</td><td>154</td><td>127</td><td>333</td><td>1</td><td>1</td></tr>\n",
       "\t<tr><td>false</td><td>VA</td><td>4</td><td>1</td><td>100</td><td>122</td><td>223</td><td>1</td><td>1</td></tr>\n",
       "\t<tr><td>false</td><td>VA</td><td>2</td><td>1</td><td> 93</td><td>120</td><td>254</td><td>0</td><td>2</td></tr>\n",
       "</tbody>\n",
       "</table>\n"
      ],
      "text/latex": [
       "A tibble: 132 × 9\n",
       "\\begin{tabular}{lllllllll}\n",
       " num & region & cp & sex & thalach & trestbps & chol & fbs & restecg\\\\\n",
       " <fct> & <fct> & <dbl> & <dbl> & <dbl> & <dbl> & <dbl> & <dbl> & <dbl>\\\\\n",
       "\\hline\n",
       "\t false & VA & 4 & 1 & 112 & 140 & 260 & 0 & 1\\\\\n",
       "\t true  & VA & 4 & 1 & 127 & 130 & 209 & 0 & 1\\\\\n",
       "\t false & VA & 4 & 1 & 140 & 132 & 218 & 0 & 1\\\\\n",
       "\t ⋮ & ⋮ & ⋮ & ⋮ & ⋮ & ⋮ & ⋮ & ⋮ & ⋮\\\\\n",
       "\t false & VA & 4 & 0 & 154 & 127 & 333 & 1 & 1\\\\\n",
       "\t false & VA & 4 & 1 & 100 & 122 & 223 & 1 & 1\\\\\n",
       "\t false & VA & 2 & 1 &  93 & 120 & 254 & 0 & 2\\\\\n",
       "\\end{tabular}\n"
      ],
      "text/markdown": [
       "\n",
       "A tibble: 132 × 9\n",
       "\n",
       "| num &lt;fct&gt; | region &lt;fct&gt; | cp &lt;dbl&gt; | sex &lt;dbl&gt; | thalach &lt;dbl&gt; | trestbps &lt;dbl&gt; | chol &lt;dbl&gt; | fbs &lt;dbl&gt; | restecg &lt;dbl&gt; |\n",
       "|---|---|---|---|---|---|---|---|---|\n",
       "| false | VA | 4 | 1 | 112 | 140 | 260 | 0 | 1 |\n",
       "| true  | VA | 4 | 1 | 127 | 130 | 209 | 0 | 1 |\n",
       "| false | VA | 4 | 1 | 140 | 132 | 218 | 0 | 1 |\n",
       "| ⋮ | ⋮ | ⋮ | ⋮ | ⋮ | ⋮ | ⋮ | ⋮ | ⋮ |\n",
       "| false | VA | 4 | 0 | 154 | 127 | 333 | 1 | 1 |\n",
       "| false | VA | 4 | 1 | 100 | 122 | 223 | 1 | 1 |\n",
       "| false | VA | 2 | 1 |  93 | 120 | 254 | 0 | 2 |\n",
       "\n"
      ],
      "text/plain": [
       "    num   region cp sex thalach trestbps chol fbs restecg\n",
       "1   false VA     4  1   112     140      260  0   1      \n",
       "2   true  VA     4  1   127     130      209  0   1      \n",
       "3   false VA     4  1   140     132      218  0   1      \n",
       "⋮   ⋮     ⋮      ⋮  ⋮   ⋮       ⋮        ⋮    ⋮   ⋮      \n",
       "130 false VA     4  0   154     127      333  1   1      \n",
       "131 false VA     4  1   100     122      223  1   1      \n",
       "132 false VA     2  1    93     120      254  0   2      "
      ]
     },
     "metadata": {},
     "output_type": "display_data"
    }
   ],
   "source": [
    "va_data<-read_delim(\"https://archive.ics.uci.edu/ml/machine-learning-databases/heart-disease/processed.va.data\",\n",
    "                   col_name = FALSE)\n",
    "va_data <- tidy_heart_data(va_data,\"VA\")\n",
    "va_data\n",
    "# Table 4"
   ]
  },
  {
   "cell_type": "markdown",
   "id": "ff1c1647-6258-44ff-87ee-8c980a5f17fe",
   "metadata": {},
   "source": [
    "#### Creating the combined dataset\n",
    "\n",
    "In this cell we combine all the data from earlier into a larger, super-dataset. This is so that we can analyze the accuracy of knn on each region separately, and then each region together, to see which is more accurate; it gives us more options to explore during our analysis. This is also why we appended a \"region\" column to each dataset — this hardly would have made sense if we were keeping them separate the entire time."
   ]
  },
  {
   "cell_type": "code",
   "execution_count": 7,
   "id": "c3e2f851-6006-4610-8485-92c6f65a3185",
   "metadata": {},
   "outputs": [
    {
     "data": {
      "text/html": [
       "<table class=\"dataframe\">\n",
       "<caption>A tibble: 743 × 9</caption>\n",
       "<thead>\n",
       "\t<tr><th scope=col>num</th><th scope=col>region</th><th scope=col>cp</th><th scope=col>sex</th><th scope=col>thalach</th><th scope=col>trestbps</th><th scope=col>chol</th><th scope=col>fbs</th><th scope=col>restecg</th></tr>\n",
       "\t<tr><th scope=col>&lt;fct&gt;</th><th scope=col>&lt;fct&gt;</th><th scope=col>&lt;dbl&gt;</th><th scope=col>&lt;dbl&gt;</th><th scope=col>&lt;dbl&gt;</th><th scope=col>&lt;dbl&gt;</th><th scope=col>&lt;dbl&gt;</th><th scope=col>&lt;dbl&gt;</th><th scope=col>&lt;dbl&gt;</th></tr>\n",
       "</thead>\n",
       "<tbody>\n",
       "\t<tr><td>true </td><td>C</td><td>1</td><td>1</td><td>150</td><td>145</td><td>233</td><td>1</td><td>2</td></tr>\n",
       "\t<tr><td>false</td><td>C</td><td>4</td><td>1</td><td>108</td><td>160</td><td>286</td><td>0</td><td>2</td></tr>\n",
       "\t<tr><td>false</td><td>C</td><td>4</td><td>1</td><td>129</td><td>120</td><td>229</td><td>0</td><td>2</td></tr>\n",
       "\t<tr><td>⋮</td><td>⋮</td><td>⋮</td><td>⋮</td><td>⋮</td><td>⋮</td><td>⋮</td><td>⋮</td><td>⋮</td></tr>\n",
       "\t<tr><td>false</td><td>VA</td><td>4</td><td>0</td><td>154</td><td>127</td><td>333</td><td>1</td><td>1</td></tr>\n",
       "\t<tr><td>false</td><td>VA</td><td>4</td><td>1</td><td>100</td><td>122</td><td>223</td><td>1</td><td>1</td></tr>\n",
       "\t<tr><td>false</td><td>VA</td><td>2</td><td>1</td><td> 93</td><td>120</td><td>254</td><td>0</td><td>2</td></tr>\n",
       "</tbody>\n",
       "</table>\n"
      ],
      "text/latex": [
       "A tibble: 743 × 9\n",
       "\\begin{tabular}{lllllllll}\n",
       " num & region & cp & sex & thalach & trestbps & chol & fbs & restecg\\\\\n",
       " <fct> & <fct> & <dbl> & <dbl> & <dbl> & <dbl> & <dbl> & <dbl> & <dbl>\\\\\n",
       "\\hline\n",
       "\t true  & C & 1 & 1 & 150 & 145 & 233 & 1 & 2\\\\\n",
       "\t false & C & 4 & 1 & 108 & 160 & 286 & 0 & 2\\\\\n",
       "\t false & C & 4 & 1 & 129 & 120 & 229 & 0 & 2\\\\\n",
       "\t ⋮ & ⋮ & ⋮ & ⋮ & ⋮ & ⋮ & ⋮ & ⋮ & ⋮\\\\\n",
       "\t false & VA & 4 & 0 & 154 & 127 & 333 & 1 & 1\\\\\n",
       "\t false & VA & 4 & 1 & 100 & 122 & 223 & 1 & 1\\\\\n",
       "\t false & VA & 2 & 1 &  93 & 120 & 254 & 0 & 2\\\\\n",
       "\\end{tabular}\n"
      ],
      "text/markdown": [
       "\n",
       "A tibble: 743 × 9\n",
       "\n",
       "| num &lt;fct&gt; | region &lt;fct&gt; | cp &lt;dbl&gt; | sex &lt;dbl&gt; | thalach &lt;dbl&gt; | trestbps &lt;dbl&gt; | chol &lt;dbl&gt; | fbs &lt;dbl&gt; | restecg &lt;dbl&gt; |\n",
       "|---|---|---|---|---|---|---|---|---|\n",
       "| true  | C | 1 | 1 | 150 | 145 | 233 | 1 | 2 |\n",
       "| false | C | 4 | 1 | 108 | 160 | 286 | 0 | 2 |\n",
       "| false | C | 4 | 1 | 129 | 120 | 229 | 0 | 2 |\n",
       "| ⋮ | ⋮ | ⋮ | ⋮ | ⋮ | ⋮ | ⋮ | ⋮ | ⋮ |\n",
       "| false | VA | 4 | 0 | 154 | 127 | 333 | 1 | 1 |\n",
       "| false | VA | 4 | 1 | 100 | 122 | 223 | 1 | 1 |\n",
       "| false | VA | 2 | 1 |  93 | 120 | 254 | 0 | 2 |\n",
       "\n"
      ],
      "text/plain": [
       "    num   region cp sex thalach trestbps chol fbs restecg\n",
       "1   true  C      1  1   150     145      233  1   2      \n",
       "2   false C      4  1   108     160      286  0   2      \n",
       "3   false C      4  1   129     120      229  0   2      \n",
       "⋮   ⋮     ⋮      ⋮  ⋮   ⋮       ⋮        ⋮    ⋮   ⋮      \n",
       "741 false VA     4  0   154     127      333  1   1      \n",
       "742 false VA     4  1   100     122      223  1   1      \n",
       "743 false VA     2  1    93     120      254  0   2      "
      ]
     },
     "metadata": {},
     "output_type": "display_data"
    }
   ],
   "source": [
    "\n",
    "\n",
    "all_data <-rbind(cleveland_data,hungarian_data,switzerland_data,va_data)\n",
    "\n",
    "all_data\n",
    "# Table 5"
   ]
  },
  {
   "cell_type": "markdown",
   "id": "ef39391a-1f8f-4f08-9e09-255d2abca9f5",
   "metadata": {},
   "source": [
    "### Summary of dataset, pre-analysis\n",
    "\n",
    "!EA just copy-paste from the methods section of the proposal."
   ]
  },
  {
   "cell_type": "markdown",
   "id": "4fccba81-1e43-414a-b6fc-410d17f7b837",
   "metadata": {},
   "source": [
    "### Visualization, pre-analysis\n",
    "\n",
    "Here, before performing the analysis itself, we visualize some of the data that we loaded. In figure 1 we used bar graphs to visually represent how many patients in each dataset (after tidying, which makes sense considering that we'll be working with the tidied, filtered dataset) have heart disease, and how many do not. Understanding the ratio will give us a better idea of which variable will dominate the knn algorithm; knowing broadly how many patients there are in each dataset will also partially tell us what values of K might be too high (by virtue of essentially becoming averages). This visualization also has the additional benefit in that it shows us that Switzerland will not be suitable for analysis by itself: it has too few positive cases of heart disease, at one single case, so when stratified into training and testing data one of the two will lack any positive cases. This state of affairs will also cause issues with cross-validation. Therefore, we will not perform analysis on Switzerland seperately throughout this project."
   ]
  },
  {
   "cell_type": "code",
   "execution_count": 8,
   "id": "07bd3cdd-6590-42cb-8d25-8b01e1774adc",
   "metadata": {},
   "outputs": [
    {
     "data": {
      "image/png": "[encoded data removed]",
      "text/plain": [
       "plot without title"
      ]
     },
     "metadata": {
      "image/png": {
       "height": 420,
       "width": 420
      }
     },
     "output_type": "display_data"
    }
   ],
   "source": [
    "## TODO !EA Visualization of data relevant to the analysis (blocked on domain knowledge, need to know what variables to graph)\n",
    "# Visualization of heart disease by region (will at least explain why we don't use f***ing Switzerland) \n",
    "# Of note for the description: switzerland sucks, Cleveland and Hungary (after being filtered for NA), have more people with heart disease than not.\n",
    "\n",
    "# Figure 1\n",
    "ggplot(all_data, aes(x = num, fill = region)) +\n",
    "    geom_bar() +\n",
    "    facet_grid(rows = vars(region)) +\n",
    "    labs(x = \"Patient has heart disease\", y = \"# of patients (in the region)\", fill = \"Region\", title = \"Switzerland has too few positives for models to be fitted on it alone\") +\n",
    "    scale_fill_discrete(labels = c(\"Cleaveland\", \"Hungary\", \"Switzerland\", \"VA Long Beach\"))\n"
   ]
  },
  {
   "cell_type": "markdown",
   "id": "d268145f-8290-48a0-97eb-5119cff5deb1",
   "metadata": {},
   "source": [
    "### Splitting the data into training and testing sets\n",
    "\n",
    "In this cell we split each of our regional datasets (and our combined dataset) into  training and testing sets; the ratio is 75% training, 25% testing, and stratification is done on the \"num\" column, to ensure that both sets have at least a few positive and negative cases each."
   ]
  },
  {
   "cell_type": "code",
   "execution_count": 9,
   "id": "47070997-bb17-4e5a-b6e7-c35d1475dc57",
   "metadata": {},
   "outputs": [
    {
     "data": {
      "text/html": [
       "<table class=\"dataframe\">\n",
       "<caption>A tibble: 557 × 9</caption>\n",
       "<thead>\n",
       "\t<tr><th scope=col>num</th><th scope=col>region</th><th scope=col>cp</th><th scope=col>sex</th><th scope=col>thalach</th><th scope=col>trestbps</th><th scope=col>chol</th><th scope=col>fbs</th><th scope=col>restecg</th></tr>\n",
       "\t<tr><th scope=col>&lt;fct&gt;</th><th scope=col>&lt;fct&gt;</th><th scope=col>&lt;dbl&gt;</th><th scope=col>&lt;dbl&gt;</th><th scope=col>&lt;dbl&gt;</th><th scope=col>&lt;dbl&gt;</th><th scope=col>&lt;dbl&gt;</th><th scope=col>&lt;dbl&gt;</th><th scope=col>&lt;dbl&gt;</th></tr>\n",
       "</thead>\n",
       "<tbody>\n",
       "\t<tr><td>false</td><td>C</td><td>4</td><td>1</td><td>108</td><td>160</td><td>286</td><td>0</td><td>2</td></tr>\n",
       "\t<tr><td>false</td><td>C</td><td>4</td><td>1</td><td>129</td><td>120</td><td>229</td><td>0</td><td>2</td></tr>\n",
       "\t<tr><td>false</td><td>C</td><td>4</td><td>0</td><td>160</td><td>140</td><td>268</td><td>0</td><td>2</td></tr>\n",
       "\t<tr><td>⋮</td><td>⋮</td><td>⋮</td><td>⋮</td><td>⋮</td><td>⋮</td><td>⋮</td><td>⋮</td><td>⋮</td></tr>\n",
       "\t<tr><td>true</td><td>VA</td><td>4</td><td>1</td><td>110</td><td>100</td><td>213</td><td>0</td><td>1</td></tr>\n",
       "\t<tr><td>true</td><td>VA</td><td>4</td><td>1</td><td> 96</td><td>130</td><td>207</td><td>0</td><td>1</td></tr>\n",
       "\t<tr><td>true</td><td>VA</td><td>4</td><td>0</td><td> 96</td><td>114</td><td>258</td><td>1</td><td>2</td></tr>\n",
       "</tbody>\n",
       "</table>\n"
      ],
      "text/latex": [
       "A tibble: 557 × 9\n",
       "\\begin{tabular}{lllllllll}\n",
       " num & region & cp & sex & thalach & trestbps & chol & fbs & restecg\\\\\n",
       " <fct> & <fct> & <dbl> & <dbl> & <dbl> & <dbl> & <dbl> & <dbl> & <dbl>\\\\\n",
       "\\hline\n",
       "\t false & C & 4 & 1 & 108 & 160 & 286 & 0 & 2\\\\\n",
       "\t false & C & 4 & 1 & 129 & 120 & 229 & 0 & 2\\\\\n",
       "\t false & C & 4 & 0 & 160 & 140 & 268 & 0 & 2\\\\\n",
       "\t ⋮ & ⋮ & ⋮ & ⋮ & ⋮ & ⋮ & ⋮ & ⋮ & ⋮\\\\\n",
       "\t true & VA & 4 & 1 & 110 & 100 & 213 & 0 & 1\\\\\n",
       "\t true & VA & 4 & 1 &  96 & 130 & 207 & 0 & 1\\\\\n",
       "\t true & VA & 4 & 0 &  96 & 114 & 258 & 1 & 2\\\\\n",
       "\\end{tabular}\n"
      ],
      "text/markdown": [
       "\n",
       "A tibble: 557 × 9\n",
       "\n",
       "| num &lt;fct&gt; | region &lt;fct&gt; | cp &lt;dbl&gt; | sex &lt;dbl&gt; | thalach &lt;dbl&gt; | trestbps &lt;dbl&gt; | chol &lt;dbl&gt; | fbs &lt;dbl&gt; | restecg &lt;dbl&gt; |\n",
       "|---|---|---|---|---|---|---|---|---|\n",
       "| false | C | 4 | 1 | 108 | 160 | 286 | 0 | 2 |\n",
       "| false | C | 4 | 1 | 129 | 120 | 229 | 0 | 2 |\n",
       "| false | C | 4 | 0 | 160 | 140 | 268 | 0 | 2 |\n",
       "| ⋮ | ⋮ | ⋮ | ⋮ | ⋮ | ⋮ | ⋮ | ⋮ | ⋮ |\n",
       "| true | VA | 4 | 1 | 110 | 100 | 213 | 0 | 1 |\n",
       "| true | VA | 4 | 1 |  96 | 130 | 207 | 0 | 1 |\n",
       "| true | VA | 4 | 0 |  96 | 114 | 258 | 1 | 2 |\n",
       "\n"
      ],
      "text/plain": [
       "    num   region cp sex thalach trestbps chol fbs restecg\n",
       "1   false C      4  1   108     160      286  0   2      \n",
       "2   false C      4  1   129     120      229  0   2      \n",
       "3   false C      4  0   160     140      268  0   2      \n",
       "⋮   ⋮     ⋮      ⋮  ⋮   ⋮       ⋮        ⋮    ⋮   ⋮      \n",
       "555 true  VA     4  1   110     100      213  0   1      \n",
       "556 true  VA     4  1    96     130      207  0   1      \n",
       "557 true  VA     4  0    96     114      258  1   2      "
      ]
     },
     "metadata": {},
     "output_type": "display_data"
    }
   ],
   "source": [
    "#split all the datasets into training and testing sets\n",
    "\n",
    "cleveland_split <- initial_split(cleveland_data, prop = 0.75, strata = num)\n",
    "cleveland_train <- training(cleveland_split)\n",
    "cleveland_test <- testing(cleveland_split)\n",
    "\n",
    "hungarian_split <- initial_split(hungarian_data, prop = 0.75, strata = num)\n",
    "hungarian_train <- training(hungarian_split)\n",
    "hungarian_test <- testing(hungarian_split)\n",
    "\n",
    "switzerland_split <- initial_split(switzerland_data, prop = 0.75, strata = num)\n",
    "switzerland_train <- training(switzerland_split)\n",
    "switzerland_test <- testing(switzerland_split)\n",
    "\n",
    "va_split <- initial_split(va_data, prop = 0.75, strata = num)\n",
    "va_train <- training(va_split)\n",
    "va_test <- testing(va_split)\n",
    "\n",
    "all_split <- initial_split(all_data, prop = 0.75, strata = num)\n",
    "all_train <- training(all_split)\n",
    "all_test <- testing(all_split)\n",
    "\n",
    "all_train # Table 6"
   ]
  },
  {
   "cell_type": "markdown",
   "id": "b296e256-ecf1-4163-9e9c-246779b26dec",
   "metadata": {},
   "source": [
    "### Forward Selection: finding the best predictors\n",
    "In this cell, we write a function (written using a lot of code adapted from the textbook) which performs forward selection on a training set, which will be provided as an argument. This function then returns a tibble which lists the accuracy that results from using different combinations and numbers of predictors with the given dataframe. The specifics of this function are complex, but essentially it performs the following steps:\n",
    "\n",
    "Starting with no predictors \"used\"...\n",
    "1. try adding each of the unused predictors to the model formed by the current \"used\" predictors in turn; evaluate the accuracy of the resulting model\n",
    "2. Whichever resulting model was the most accurate, becomes the new model, and the new predictor added to it is removed from the \"unused\" predictors\n",
    "3. The process repeats until no predictors remain\n",
    "\n",
    "A human can then choose the model with the best combination of accuracy* and simplicity** \n",
    "In this case, we multiply the accuracy stat of each combination of predictors to get a value back in units of % accuracy.\n",
    "\n",
    "\\*sometimes additional predictors will *reduce* the accuracy, after a point; sometimes the best model in terms of accuracy will have so many predictors its unwieldy to predict with. That being said, forward selection should not be used with too many predictors lest is accuracy reporting become unreliable, so the latter concern is less of an issue)\n",
    "\\*\\*In the case of this project, because we are not even starting off with too many predictors, we use code to automatically pick the most accurate set of predictors and use it in later steps."
   ]
  },
  {
   "cell_type": "code",
   "execution_count": 10,
   "id": "471a1d0a-2fc4-4e95-be62-a50e5bb7cb27",
   "metadata": {},
   "outputs": [],
   "source": [
    "find_predictors <- function(df) {\n",
    "#!EA rename stuff from cancer to heart disease\n",
    "    cancer_subset <- df\n",
    "    names <- colnames(cancer_subset |> select(-num,-region))\n",
    "    \n",
    "    cancer_subset\n",
    "\n",
    "\n",
    "    # create an empty tibble to store the results\n",
    "    accuracies <- tibble(size = integer(), \n",
    "                         model_string = character(), \n",
    "                         accuracy = numeric())\n",
    "\n",
    "    # create a model specification\n",
    "    knn_spec <- nearest_neighbor(weight_func = \"rectangular\", \n",
    "                                 neighbors = tune()) |>\n",
    "         set_engine(\"kknn\") |>\n",
    "         set_mode(\"classification\")\n",
    "\n",
    "    # create a 5-fold cross-validation object\n",
    "    cancer_vfold <- vfold_cv(cancer_subset, v = 5, strata = num)\n",
    "\n",
    "    # store the total number of predictors\n",
    "    n_total <- length(names)\n",
    "\n",
    "    # stores selected predictors\n",
    "    selected <- c()\n",
    "\n",
    "    # for every size from 1 to the total number of predictors\n",
    "    for (i in 1:n_total) {\n",
    "        # for every predictor still not added yet\n",
    "        accs <- list()\n",
    "        models <- list()\n",
    "        for (j in 1:length(names)) {\n",
    "            # create a model string for this combination of predictors\n",
    "            preds_new <- c(selected, names[[j]])\n",
    "            model_string <- paste(\"num\", \"~\", paste(preds_new, collapse=\"+\"))\n",
    "\n",
    "            # create a recipe from the model string\n",
    "            cancer_recipe <- recipe(as.formula(model_string), \n",
    "                                    data = cancer_subset) |>\n",
    "                              step_scale(all_predictors()) |>\n",
    "                              step_center(all_predictors())\n",
    "\n",
    "            # tune the KNN classifier with these predictors, \n",
    "            # and collect the accuracy for the best K\n",
    "            acc <- workflow() |>\n",
    "              add_recipe(cancer_recipe) |>\n",
    "              add_model(knn_spec) |>\n",
    "              tune_grid(resamples = cancer_vfold, grid = 10) |>\n",
    "              collect_metrics() |>\n",
    "              filter(.metric == \"accuracy\") |>\n",
    "              summarize(mx = max(mean))\n",
    "            acc <- acc$mx |> unlist()\n",
    "\n",
    "            # add this result to the dataframe\n",
    "            accs[[j]] <- acc\n",
    "            models[[j]] <- model_string\n",
    "        }\n",
    "        jstar <- which.max(unlist(accs))\n",
    "        accuracies <- accuracies |> \n",
    "          add_row(size = i, \n",
    "                  model_string = models[[jstar]], \n",
    "                  accuracy = accs[[jstar]])\n",
    "        selected <- c(selected, names[[jstar]])\n",
    "        names <- names[-jstar]\n",
    "    }\n",
    "\n",
    "    accuracies <- mutate(accuracies, percent_accuracy = accuracy*100)\n",
    "\n",
    "    return(accuracies)\n",
    "\n",
    "}\n",
    "    \n",
    "\n",
    "\n"
   ]
  },
  {
   "cell_type": "markdown",
   "id": "69fc0d49-573f-4338-987c-1587646efbc6",
   "metadata": {},
   "source": [
    "### Applying the function to calculate best predictor sets\n",
    "In the cell below we calculate the best set of predictors for each data set (excluding Switzerland, for reasons mentioned earlier), using the function we wrote above. The highest-accuracy set of predictors for each dataset is printed out. These "
   ]
  },
  {
   "cell_type": "code",
   "execution_count": 11,
   "id": "efc9289a-28a6-4453-a3ac-c84e24ddd903",
   "metadata": {},
   "outputs": [
    {
     "name": "stdout",
     "output_type": "stream",
     "text": [
      "\u001b[90m# A tibble: 1 × 2\u001b[39m\n",
      "  model_string                       percent_accuracy\n",
      "  \u001b[3m\u001b[90m<chr>\u001b[39m\u001b[23m                                         \u001b[3m\u001b[90m<dbl>\u001b[39m\u001b[23m\n",
      "\u001b[90m1\u001b[39m num ~ thalach+cp+chol+trestbps+fbs             77.2\n",
      "\u001b[90m# A tibble: 1 × 2\u001b[39m\n",
      "  model_string                               percent_accuracy\n",
      "  \u001b[3m\u001b[90m<chr>\u001b[39m\u001b[23m                                                 \u001b[3m\u001b[90m<dbl>\u001b[39m\u001b[23m\n",
      "\u001b[90m1\u001b[39m num ~ thalach+cp+trestbps+sex+chol+restecg             79.3\n",
      "\u001b[90m# A tibble: 1 × 2\u001b[39m\n",
      "  model_string              percent_accuracy\n",
      "  \u001b[3m\u001b[90m<chr>\u001b[39m\u001b[23m                                \u001b[3m\u001b[90m<dbl>\u001b[39m\u001b[23m\n",
      "\u001b[90m1\u001b[39m num ~ cp+sex+chol+thalach             83.6\n",
      "\u001b[90m# A tibble: 1 × 2\u001b[39m\n",
      "  model_string                  percent_accuracy\n",
      "  \u001b[3m\u001b[90m<chr>\u001b[39m\u001b[23m                                    \u001b[3m\u001b[90m<dbl>\u001b[39m\u001b[23m\n",
      "\u001b[90m1\u001b[39m num ~ trestbps+sex+cp+thalach             80.7\n"
     ]
    }
   ],
   "source": [
    "all_accuracy <- find_predictors(all_train)\n",
    "print(all_accuracy |> select(model_string, percent_accuracy) |> slice_max(order_by = percent_accuracy, n = 1))\n",
    "\n",
    "cleveland_accuracy <- find_predictors(cleveland_train)\n",
    "print(cleveland_accuracy |> select(model_string, percent_accuracy) |> slice_max(order_by = percent_accuracy, n = 1))\n",
    "\n",
    "hungarian_accuracy <- find_predictors(hungarian_train)\n",
    "print(hungarian_accuracy |> select(model_string, percent_accuracy) |> slice_max(order_by = percent_accuracy, n = 1))\n",
    "\n",
    "# switzerland_accuracy <- find_predictors(switzerland_train) # Note: this dataset is way too small, such that many validation sets will lack \"true\" values. Tune the filtering-out of NA values, or just don't test it.\n",
    "# print(switzerland_accuracy, n=10)\n",
    "\n",
    "va_accuracy <- find_predictors(va_train)\n",
    "print(va_accuracy |> select(model_string, percent_accuracy) |> slice_max(order_by = percent_accuracy, n = 1))"
   ]
  },
  {
   "cell_type": "markdown",
   "id": "c0195c8c-7349-4bed-9743-9740c562f850",
   "metadata": {},
   "source": [
    "### Plotting the accuracy of different sets of predictors for each region\n",
    "In the following code cells, to confirm that we picked good choices for our predictor sets, we graph the number of predictors selected against the accuracy of each set of predictors. The function we write below helps speed this process up; given an accuracy dataframe of the type that is returned by the find_predictors() function we wrote, it will produce a graph of the # of predictors of each model vs the accuracy the model provides."
   ]
  },
  {
   "cell_type": "code",
   "execution_count": 12,
   "id": "8f25d3be-1307-4e38-875d-71890b133ee9",
   "metadata": {},
   "outputs": [],
   "source": [
    "plot_accuracy <- function(accur, t=\"UNDEFINED\"){\n",
    "    ggplot(accur, aes(x = size, y = percent_accuracy)) +\n",
    "        geom_point() +\n",
    "        geom_line() +\n",
    "        labs(x = \"Number of predictors\", y = \"Accuracy (%)\", title = paste(\"Percent accuracy vs # of predictors for\",t)) +\n",
    "        theme(text = element_text(size = 15))\n",
    "    }"
   ]
  },
  {
   "cell_type": "markdown",
   "id": "45d4c216-363d-4103-a529-1522a5e96960",
   "metadata": {},
   "source": [
    "In the cell below we plot the accuracy of models trained on the super-dataset of all regions combined. The \"elbow\" appears to be at the point where the number of predictors is equal to !EA"
   ]
  },
  {
   "cell_type": "code",
   "execution_count": 13,
   "id": "b4502228-c564-4d8b-88b4-e9728e92f095",
   "metadata": {},
   "outputs": [
    {
     "data": {
      "image/png": "[encoded data removed]",
      "text/plain": [
       "plot without title"
      ]
     },
     "metadata": {
      "image/png": {
       "height": 420,
       "width": 420
      }
     },
     "output_type": "display_data"
    }
   ],
   "source": [
    "plot_accuracy(all_accuracy, \"all regions\")"
   ]
  },
  {
   "cell_type": "markdown",
   "id": "c977717c-921c-409b-b4c2-17550069ef2b",
   "metadata": {},
   "source": [
    "In the cell below we plot the accuracy of models trained on the Cleveland Clinic Foundation dataset. The \"elbow\" appears to be at the point where the number of predictors is equal to !EA"
   ]
  },
  {
   "cell_type": "code",
   "execution_count": 14,
   "id": "bf684a11-3607-45d5-adee-576fc78cc3a7",
   "metadata": {},
   "outputs": [
    {
     "data": {
      "image/png": "[encoded data removed]",
      "text/plain": [
       "plot without title"
      ]
     },
     "metadata": {
      "image/png": {
       "height": 420,
       "width": 420
      }
     },
     "output_type": "display_data"
    }
   ],
   "source": [
    "plot_accuracy(cleveland_accuracy, \"Cleveland\")"
   ]
  },
  {
   "cell_type": "markdown",
   "id": "1211d0dd-401b-4a90-b724-09d59d460571",
   "metadata": {},
   "source": [
    "In the cell below we plot the accuracy of models trained on the University Hospital of Basel dataset. The \"elbow\" appears to be at the point where the number of predictors is equal to !EA"
   ]
  },
  {
   "cell_type": "code",
   "execution_count": 15,
   "id": "406f690e-57b4-4184-9415-47f47053666e",
   "metadata": {},
   "outputs": [
    {
     "data": {
      "image/png": "[encoded data removed]",
      "text/plain": [
       "plot without title"
      ]
     },
     "metadata": {
      "image/png": {
       "height": 420,
       "width": 420
      }
     },
     "output_type": "display_data"
    }
   ],
   "source": [
    "plot_accuracy(hungarian_accuracy, \"Hungary\")"
   ]
  },
  {
   "cell_type": "markdown",
   "id": "5caec811-cf1d-4a79-b9ad-2f5b5d802e4f",
   "metadata": {},
   "source": [
    "In the cell below we plot the accuracy of models trained on the Veterans Affairs Long Beach Medical Center dataset. The \"elbow\" appears to be at the point where the number of predictors is equal to !EA"
   ]
  },
  {
   "cell_type": "code",
   "execution_count": 16,
   "id": "601b00e1-7184-4f92-b763-8dc0a1659824",
   "metadata": {},
   "outputs": [
    {
     "data": {
      "image/png": "[encoded data removed]",
      "text/plain": [
       "plot without title"
      ]
     },
     "metadata": {
      "image/png": {
       "height": 420,
       "width": 420
      }
     },
     "output_type": "display_data"
    }
   ],
   "source": [
    "plot_accuracy(va_accuracy, \"VA Long Beach\")"
   ]
  },
  {
   "cell_type": "markdown",
   "id": "ded4e528-c607-45f2-8647-0937b10e5e27",
   "metadata": {},
   "source": [
    "Do note that while the textbook says to pick the \"elbow\" of the graph, we let our code automatically pick the model with the highest accuracy, out of concern that our relative inexperience will lead to us picking a poor elbow and compromising the accuracy of the model. # !EA maybe just delete this and take the punch and rewrite things so that we manually judge the elbow. Ahhhhh but that would suck the current way is cool. Think on it. Or maybe someone else can make the call. Ahh just do it. But later, I'm not ready yet to kill my over-engineered darling."
   ]
  },
  {
   "cell_type": "markdown",
   "id": "b126dab6-dadc-4f73-a1e2-94fd530cec30",
   "metadata": {},
   "source": [
    "### Checking accuracy against the testing data | the final step\n",
    "In the code cell below, we write a functioon that takes an accuracy dataframe (of the type outputted by the forward-selection function we built earlier), a training dataframe, and a testing dataframe, fits a knn classification model using the best value of \"k\", and then checks the accuracy of this fitted model against the testing set. The function returns a tuple (two-element vector) with the measured accuracy and the best value of K as elements (we will use the best value of K in a later visualization). The process here closely follows the types of problems we have done in-class, but at a high level:\n",
    "\n",
    "1. The best set of predictors is pulled from the \"accuracy\" dataframe.\n",
    "1. A recipe is created using this set of predictors; all predictors are scaled and centered\n",
    "1. A model specification is set up, with the neighbors argument equal to \"tune()\" -- we have to pick the best value of K for our model before we evaluate its accuracy.\n",
    "1. A fold object is created, with the # of folds equal to 10, for the sake of greater precision. At this point enough randomness has appeared that we want to be as precise as we can be.\n",
    "1. The model is tuned, the accuracy for each value of K collected, and the best value of K is extracted and saved to a variable\n",
    "1. Another KNN model is created, this time using the best value of K, identified in the previous steps, as its neighbors value.\n",
    "1. This KNN model is fit on the training data, and then used to predict values in the testing set.\n",
    "1. The prediction is tidied up a bit, with only the .estimate column of the \"accuracy\" observation being kept, and it being renamed to \"accuracy.\"\n",
    "1. The accuracy of the model using the best value of K, as well as this best value of K, are returned."
   ]
  },
  {
   "cell_type": "code",
   "execution_count": null,
   "id": "0bfd8d80-02d5-42f8-af02-c801954ba0cc",
   "metadata": {},
   "outputs": [],
   "source": [
    "model_and_fit <- function(accuracy_df, train_df, test_df, region=\"\"){\n",
    "    # get predictors with max accuracy\n",
    "    best_predictors <- accuracy_df |> slice_max(percent_accuracy, n = 1) |> pull(model_string)\n",
    "    \n",
    "    df_recipe <- recipe(as.formula(best_predictors), data = train_df) |> \n",
    "        step_scale(all_predictors()) |> \n",
    "        step_center(all_predictors())\n",
    "    \n",
    "    df_spec_tune <- nearest_neighbor(weight_func = \"rectangular\", neighbors = tune()) |> set_engine(\"kknn\") |> set_mode(\"classification\")\n",
    "    \n",
    "    df_fold <- vfold_cv(train_df, v = 10, strata = num)\n",
    "    \n",
    "    df_k_fit <- workflow() |>\n",
    "        add_recipe(df_recipe) |>\n",
    "        add_model(df_spec_tune) |>\n",
    "        tune_grid(resamples = df_fold, grid = 10) |>\n",
    "        collect_metrics()\n",
    "    \n",
    "    best_k <- df_k_fit |> slice_max(mean, n = 1) |> select(neighbors) |> pull()\n",
    "    print(paste(\"The best value of K for\", region, \"is\", best_k))\n",
    "    \n",
    "    df_spec_k <- nearest_neighbor(weight_func = \"rectangular\", neighbors = best_k) |> set_engine(\"kknn\") |> set_mode(\"classification\")\n",
    "    \n",
    "    df_fit <- workflow() |>\n",
    "        add_recipe(df_recipe) |>\n",
    "        add_model(df_spec_k) |>\n",
    "        fit(data = train_df)\n",
    "\n",
    "    df_summary <- df_fit |>\n",
    "        predict(test_df) |>\n",
    "        bind_cols(test_df) |>\n",
    "        metrics(truth = num, estimate = .pred_class) |>\n",
    "        filter(.metric == \"accuracy\") |>\n",
    "        select(.estimate) |>\n",
    "        rename(accuracy = .estimate)\n",
    "    return(c(df_summary,best_k)) # return the tuple so that I can access best_k in code later\n",
    "    }\n",
    "        \n",
    "# cleveland_test\n",
    "\n",
    "\n",
    "\n",
    "\n",
    "# model_and_fit(switzerland_accuracy,switzerland_train,switzerland_test, \"Switzerland\")[1] # Switzerland explodes for some reason, probably due to lack of data causing unexpected inputs.\n",
    "\n",
    "\n"
   ]
  },
  {
   "cell_type": "markdown",
   "id": "cdaa2ca6-c930-418f-bc58-5a094407cb11",
   "metadata": {},
   "source": [
    "#### Calculating accuracy using test dataset: All\n",
    "\n",
    "In the cells below we call the function we wrote above to get the accuracy of the model (using the best set of predictors and the best K) as evaluated against the testing set. In each case we must take the first element of the tuple returned by the function, as the function's return value is of the form c(*accuracy*, *best_k*). The cell directly below this one calculates and extracts the accuracy of the model we created for the super-dataset, comprised of information from all the regions considered in this project."
   ]
  },
  {
   "cell_type": "code",
   "execution_count": 18,
   "id": "843988b0-6c0f-4a67-a0f9-32fa7ac35885",
   "metadata": {},
   "outputs": [
    {
     "name": "stdout",
     "output_type": "stream",
     "text": [
      "[1] \"The best value of K for all regions combined is 11\"\n"
     ]
    },
    {
     "data": {
      "text/html": [
       "<strong>$accuracy</strong> = 0.763440860215054"
      ],
      "text/latex": [
       "\\textbf{\\$accuracy} = 0.763440860215054"
      ],
      "text/markdown": [
       "**$accuracy** = 0.763440860215054"
      ],
      "text/plain": [
       "$accuracy\n",
       "[1] 0.7634409\n"
      ]
     },
     "metadata": {},
     "output_type": "display_data"
    }
   ],
   "source": [
    "all_mod <- model_and_fit(all_accuracy,all_train,all_test, \"all regions combined\")\n",
    "all_mod[1]"
   ]
  },
  {
   "cell_type": "markdown",
   "id": "16ae4384-2804-437d-9519-8fa52e7358b2",
   "metadata": {},
   "source": [
    "#### Calculating accuracy using test dataset: Cleveland\n",
    "\n",
    "In the cell below we calculate the accuracy of the best model we can make using the data specifically from Cleveland."
   ]
  },
  {
   "cell_type": "code",
   "execution_count": 19,
   "id": "3484eb18-8be9-4ba3-b9fc-d31bf110964a",
   "metadata": {},
   "outputs": [
    {
     "name": "stdout",
     "output_type": "stream",
     "text": [
      "[1] \"The best value of K for Cleveland is 8\"\n"
     ]
    },
    {
     "data": {
      "text/html": [
       "<strong>$accuracy</strong> = 0.776315789473684"
      ],
      "text/latex": [
       "\\textbf{\\$accuracy} = 0.776315789473684"
      ],
      "text/markdown": [
       "**$accuracy** = 0.776315789473684"
      ],
      "text/plain": [
       "$accuracy\n",
       "[1] 0.7763158\n"
      ]
     },
     "metadata": {},
     "output_type": "display_data"
    }
   ],
   "source": [
    "cl_mod <- model_and_fit(cleveland_accuracy,cleveland_train,cleveland_test, \"Cleveland\")\n",
    "cl_mod[1]"
   ]
  },
  {
   "cell_type": "markdown",
   "id": "63fd81f6-0cf0-4557-b871-a4908e7f672d",
   "metadata": {},
   "source": [
    "#### Calculating accuracy using test dataset: Hungary\n",
    "\n",
    "In the cell below we calculate the accuracy of the best model we can make using the data specifically from Hungary."
   ]
  },
  {
   "cell_type": "code",
   "execution_count": 20,
   "id": "afc0f347-ffba-4568-afd0-b9841c4d3ade",
   "metadata": {},
   "outputs": [
    {
     "name": "stdout",
     "output_type": "stream",
     "text": [
      "[1] \"The best value of K for Hungary is 11\"\n"
     ]
    },
    {
     "data": {
      "text/html": [
       "<strong>$accuracy</strong> = 0.727272727272727"
      ],
      "text/latex": [
       "\\textbf{\\$accuracy} = 0.727272727272727"
      ],
      "text/markdown": [
       "**$accuracy** = 0.727272727272727"
      ],
      "text/plain": [
       "$accuracy\n",
       "[1] 0.7272727\n"
      ]
     },
     "metadata": {},
     "output_type": "display_data"
    }
   ],
   "source": [
    "hu_mod <- model_and_fit(hungarian_accuracy,hungarian_train,hungarian_test, \"Hungary\")\n",
    "hu_mod[1]"
   ]
  },
  {
   "cell_type": "markdown",
   "id": "7322e28e-c0d1-4472-a9c6-d3c2dbdc1709",
   "metadata": {},
   "source": [
    "#### Calculating accuracy using test dataset: VA Long Beach\n",
    "\n",
    "In the cell below we calculate the accuracy of the best model we can make using the data specifically from VA Long Beach."
   ]
  },
  {
   "cell_type": "code",
   "execution_count": null,
   "id": "d53a1da9-59e0-4d59-9e73-8a88950d9f92",
   "metadata": {},
   "outputs": [],
   "source": [
    "va_test\n",
    "va_mod <- model_and_fit(va_accuracy,va_train,va_test, \"VA Long Beach\") # This blew up the first time I tried to run it. Watch out. See if there's something off with my code or if I just somehow executed in the wrong order.\n",
    "va_mod[1]                                                              # This blew up a second time. There is 100% a problem here. There's some problem with the va_test table. Check it out. !EA !EA !EA"
   ]
  },
  {
   "cell_type": "markdown",
   "id": "3e3ceaf7-29fa-4e7a-b159-82352a6e6df7",
   "metadata": {},
   "source": [
    "## Visualization of the analysis\n",
    "In this section we use visualization to provide a more concrete interpretation of the results of our analysis. Unfortunately, because we {!EA CONFIRM THAT WE END UP WITH MORE THAN TWO PREDICTORS AFTER THE DOMAIN KNOWLEDGE SHIFT} used more than two predictors for each of our models, they are not easily graphed -- humans can only visualize things in three dimensions, and only graphs in two dimensions are truly easy to understand at a glance. This being the case, we decided to visualize the dataset and indicate the areas where a person is diagnosed with heart disease by a model that uses 2 parameters: thalach and cp !EA, which consistently, throughout all of our models for all of the different regions, appeared and played a significant role in boosting accuracy. This means we need to build a custom model for this visualization specifically. After doing this, we create a graph with \"zones of classification\" -- areas where any new points that fall in them get classified as having a certain class -- overlaid on top of the whole dataset. In this case, we are using the Cleveland dataset, because this is the dataset which produced the most accurate model during our analysis.\n",
    "\n",
    "Much of the code from the following sections was adapted from the textbook.\n",
    "\n",
    "### Part 1: Find Best K for Simplified Model\n",
    "In the following cell, we identify the best value of k for our simplified, two-parameter KNN model. The process is much the same as in the model_and_fit() function we wrote earlier."
   ]
  },
  {
   "cell_type": "code",
   "execution_count": null,
   "id": "5aa59a43-5ba6-43ca-8877-92839508c965",
   "metadata": {},
   "outputs": [],
   "source": [
    "# Part 1: Best K for 2 predictors\n",
    "# (Since we're unable to visualize more than 3 dimensions, we must pick only 2 predictors: I will select cp and thalach,\n",
    "# which together had pretty decent accuracy results for most of the regions)\n",
    "\n",
    "cleveland_recipe <- recipe(num ~ cp + thalach, data = cleveland_train) |> \n",
    "    step_scale(all_predictors()) |> \n",
    "    step_center(all_predictors())\n",
    " \n",
    "cl_spec_tune <- nearest_neighbor(weight_func = \"rectangular\", neighbors = tune()) |> set_engine(\"kknn\") |> set_mode(\"classification\")\n",
    "\n",
    "cl_fold <- vfold_cv(cleveland_train, v = 10, strata = num)\n",
    "\n",
    "cl_k_fit <- workflow() |>\n",
    "    add_recipe(cleveland_recipe) |>\n",
    "    add_model(cl_spec_tune) |>\n",
    "    tune_grid(resamples = cl_fold, grid = 10) |>\n",
    "    collect_metrics()\n",
    "\n",
    "cl_best_k <- cl_k_fit |> slice_max(mean, n = 1) |> select(neighbors) |> pull()\n",
    "\n",
    "\n",
    "\n",
    "# Interesting idea: plot the number of datapoints in a region vs the best value of K. This can be accomplished by counting the rows of each dataframe and binding these summarized tibbles.\n",
    "# Make the model_and_fit function return a tuple with the accuracy value and the best value of K so that I can pull those and bind them. Or just read the values off the output.\n",
    "# ggplot("
   ]
  },
  {
   "cell_type": "markdown",
   "id": "b1bed3ab-e830-4787-86eb-476c851cf18e",
   "metadata": {},
   "source": [
    "### Part 2: Fit\n",
    "\n",
    "In the next cell, we use the calculated best value of K in a new model that is fit on the training data."
   ]
  },
  {
   "cell_type": "code",
   "execution_count": 24,
   "id": "f714d514-5d41-402e-92eb-4a53f04d7c98",
   "metadata": {},
   "outputs": [
    {
     "ename": "ERROR",
     "evalue": "Error in is_recipe(recipe): object 'cleveland_recipe' not found\n",
     "output_type": "error",
     "traceback": [
      "Error in is_recipe(recipe): object 'cleveland_recipe' not found\nTraceback:\n",
      "1. fit(add_model(add_recipe(workflow(), cleveland_recipe), cleveland_spec), \n .     data = cleveland_train)",
      "2. add_model(add_recipe(workflow(), cleveland_recipe), cleveland_spec)",
      "3. add_action(x, action, \"model\")",
      "4. validate_is_workflow(x, call = call)",
      "5. is_workflow(x)",
      "6. add_recipe(workflow(), cleveland_recipe)",
      "7. new_action_recipe(recipe, blueprint)",
      "8. is_recipe(recipe)"
     ]
    }
   ],
   "source": [
    "# Part 2: Fit\n",
    "# We're viewing cleveland because it's the most accurate. (we've also then validated the choice of past ML researchers, who used the cleveland set exclusively as well)\n",
    "\n",
    "cleveland_spec <- nearest_neighbor(weight_func = \"rectangular\", neighbors = cl_best_k) |>\n",
    "    set_engine(\"kknn\") |>\n",
    "    set_mode(\"classification\")\n",
    "\n",
    "cleveland_fit <- workflow() |>\n",
    "    add_recipe(cleveland_recipe) |>\n",
    "    add_model(cleveland_spec) |>\n",
    "    fit(data = cleveland_train)\n"
   ]
  },
  {
   "cell_type": "markdown",
   "id": "74890901-a7b9-4d62-b538-66b4de20ba68",
   "metadata": {},
   "source": [
    "### Part 3: Graph\n",
    "\n",
    "In the following cell, we create a grid of artificial values that will be used in visualizing where a point has to fall to be classified as having heart disease or not. We predict the !EA num variable of each of these artificial values for this same purpose. This cell uses a lot of code adapted from the textbook."
   ]
  },
  {
   "cell_type": "code",
   "execution_count": 25,
   "id": "1bed0923-dd45-47e9-9ee7-394ab7a5b4e4",
   "metadata": {},
   "outputs": [
    {
     "ename": "ERROR",
     "evalue": "Error in predict(cleveland_fit, combined_grid): object 'cleveland_fit' not found\n",
     "output_type": "error",
     "traceback": [
      "Error in predict(cleveland_fit, combined_grid): object 'cleveland_fit' not found\nTraceback:\n",
      "1. predict(cleveland_fit, combined_grid)"
     ]
    }
   ],
   "source": [
    "# Part 3: Predict\n",
    "# Inspired by the textbook, posted at https://canvas.ubc.ca/courses/102025/modules/items/4720443\n",
    "# Note: since we can only graph two predictors, I'm picking the two that, combined, produced decent accuracy in all examples: thalach and CP\n",
    "thal_grid <- seq(min(cleveland_train$thalach),\n",
    "                 max(cleveland_train$thalach),\n",
    "                 length.out = 100) # sets the desired length of the sequence\n",
    "cp_grid <- seq(min(cleveland_train$cp),\n",
    "                 max(cleveland_train$cp),\n",
    "                 length.out = 100) # sets the desired length of the sequence\n",
    "combined_grid <- as_tibble(expand.grid(thalach = thal_grid, cp = cp_grid)) # TODO !EA: figure out using the docs what CP is, put its name here\n",
    "\n",
    "predicted_grid <- predict(cleveland_fit, combined_grid)\n",
    "\n",
    "prediction_table <- bind_cols(predicted_grid,combined_grid) |> rename(num = .pred_class)\n"
   ]
  },
  {
   "cell_type": "markdown",
   "id": "ab2614ab-1030-47fb-93ec-af04be079cf7",
   "metadata": {},
   "source": [
    "### Part 4: Graph\n",
    "In the next cell, we plot each point of the entire Cleveland dataset with the cp variable on the x axis, and the thalach variable on the y axis of a scatterplot. The predicted grid of artificial values is plotted as well, with a large size and low alpha, as a method of visualizing which locations lead to which classifications. The colors of blue and red are chosen in an attempt to be accessible to the colorblind. Each point from the original dataset is also colored based on its true value. This reveals that the cp variable equalling 4 is a good predictor for a patient having heart disease; the positive cases, and the region where new points are classified as positive, are overwhelmingly concentrated around cp = 4."
   ]
  },
  {
   "cell_type": "code",
   "execution_count": null,
   "id": "5e30f224-c8ed-432a-a4d1-1658ec6a55c2",
   "metadata": {},
   "outputs": [],
   "source": [
    "# Part 4: Graph\n",
    "ggplot() +\n",
    "    geom_point(data = cleveland_data,\n",
    "               mapping = aes(x = cp, y = thalach, color = num), alpha = 0.75) +\n",
    "    geom_point(data = prediction_table,\n",
    "               mapping = aes(x = cp, y = thalach, color = num), alpha = 0.02, size = 5) +\n",
    "    labs(color = \"Patient has heart disease\",\n",
    "         x = \"Thalach (maximum heart rate achieved)\",\n",
    "         y = \"CP (no idea what this means rn\",\n",
    "         title =\"Heart disease is strongly correlated with a CP of 4\") +\n",
    "    scale_color_manual(labels = c(\"heart disease present\", \"heart disease not present\"),\n",
    "                       values = c(\"red1\", \"steelblue1\")) +\n",
    "    theme(text = element_text(size = 15))\n",
    "    \n",
    "    \n",
    "\n"
   ]
  },
  {
   "cell_type": "markdown",
   "id": "b000e63b-0f26-4b86-926f-573d93e9c7d8",
   "metadata": {},
   "source": [
    "### Extra: See if there is a relation between number of observations and value of K\n",
    "\n",
    "As a matter of curiosity, we plotted the count of observations versus the calculated best value of K for each of the datasets we built models for (excluding the \"all\" dataset). The results were mixed. There are likely too few examples to draw any solid conclusions (3 is hardly a large sample size) but the result of the smallest of the datasets (VA Long Beach) having the lowest best K is consistent with what we know: a smaller dataset, where individual points are more significant to a given prediction, is more likely to suffer from underfitting if K is large."
   ]
  },
  {
   "cell_type": "code",
   "execution_count": null,
   "id": "51784ea1-5563-4135-86ab-db3646eed2b9",
   "metadata": {},
   "outputs": [],
   "source": [
    "count_by_region <- group_by(all_data, region) |> summarize(count = n())\n",
    "count_by_region <- filter(count_by_region, region != \"S\") # 'Cause Switzerland has innaccurate knn results due to low size\n",
    "count_by_region <- bind_cols(count_by_region, tibble(best_k = c(cl_mod[2],hu_mod[2],va_mod[2])))\n",
    "ggplot() +\n",
    "    geom_point(data = count_by_region, \n",
    "               mapping = aes(x = best_k, y = count, color = region), size = 5) +\n",
    "    geom_line(data = count_by_region, \n",
    "               mapping = aes(x = best_k, y = count)) +\n",
    "    labs(x = \"Best value of K for that region\", y = \"# of rows in that region\", color = \"Region\") +\n",
    "    theme(text = element_text(size = 18))\n",
    "\n",
    "# With three datapoints it's hard to draw any clear conclusions. It makes sense that a dataset with very few datapoints would work best with a low value of K, though.\n",
    "                             "
   ]
  },
  {
   "cell_type": "markdown",
   "id": "fd789dd9-ffb0-4b85-9436-43158fac3a55",
   "metadata": {},
   "source": [
    "## Methods\n",
    "\n",
    "In order to decide what variables will be used as predictors for this model, we will employ forward selection, using the metric of accuracy. This will allow us to reliably determine, without assumptions, which variables contribute to improving the accuracy of the model and which do not. Because we have not yet done the analysis (and thus haven’t performed the forward selection yet) we cannot state which columns we will use at this time. To visualize the results, we will plot different choices of *k* for the model vs the accuracy that this choice of parameter produces. We will use this visualization to determine which choice of *k* results in the best accuracy."
   ]
  },
  {
   "cell_type": "markdown",
   "id": "c3aca1b3-7fa9-4b7f-9451-0deca47bf37a",
   "metadata": {},
   "source": [
    "## Expected Outcomes And Significance"
   ]
  },
  {
   "cell_type": "markdown",
   "id": "1bd6ae66-302c-4e33-ad3c-d99a247e1617",
   "metadata": {},
   "source": [
    "### What do you expect to find?\n",
    "\n",
    "With this data analysis, we would expect to find a correlation between whether or not an individual has a heart disease, and certain variables that we could use to predict it. For example, if an individual has a higher than average resting blood pressure, and higher than average cholesterol, we would expect for them to have a similarly higher chance of having a heart disease. This prediction is based on previous knowledge of heart diseases, but with our analysis we would expect to find some other factors that point to an individual having a higher or lower chance of contracting a heart disease. \n",
    "\n",
    "### What impact could such findings have?\n",
    "\n",
    "These findings could allow hospitals to more accurately predict if an individual has a heart disease by attempting to classify it using our data set. It could also reduce the workload of doctors and nurses by automatically calculating how likely it is for someone to have a heart disease, which could get rid of the easy diagnoses and let doctors take over for the more difficult ones. By capturing the most impactful properties that indicate heart disease, we can also attempt to figure out methods of treatment and prevention that directly influence these properties.\n",
    "\n",
    "### What future questions could this lead to?\n",
    "\n",
    "This could lead to further questions about medical diagnoses from data, and if they could ever have any real life applications in the medical field. For example, based on the properties of a mole, could we predict if it is harmful or not? On the other hand, we could also ask the question of how legitimate our model is, by using a completely different heart disease data set and comparing the accuracy. Finally, as we have access to heart disease data from a variety of locations, we could ask the question: do the characteristics of heart disease remain consistent in different regions of the world? If they do not, we could try to figure out how it is different and why."
   ]
  }
 ],
 "metadata": {
  "kernelspec": {
   "display_name": "R",
   "language": "R",
   "name": "ir"
  },
  "language_info": {
   "codemirror_mode": "r",
   "file_extension": ".r",
   "mimetype": "text/x-r-source",
   "name": "R",
   "pygments_lexer": "r",
   "version": "4.1.3"
  }
 },
 "nbformat": 4,
 "nbformat_minor": 5
}
